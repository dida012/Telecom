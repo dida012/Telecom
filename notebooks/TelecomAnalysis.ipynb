{
 "cells": [
  {
   "cell_type": "markdown",
   "id": "f7a65b88",
   "metadata": {},
   "source": [
    "## UCI  Telecom Churn Rate Dataset - Exploratory and Decriptive Analysis"
   ]
  },
  {
   "cell_type": "code",
   "execution_count": 1,
   "id": "98ce0b4c",
   "metadata": {},
   "outputs": [],
   "source": [
    "# Import libraries \n",
    "import os\n",
    "import pandas as pd\n",
    "import numpy as np\n",
    "import plotly.express as px"
   ]
  },
  {
   "cell_type": "code",
   "execution_count": 2,
   "id": "5edffb72",
   "metadata": {},
   "outputs": [],
   "source": [
    "# Get working directory \n",
    "current_dir = os.getcwd()\n",
    "\n",
    "# Go one directory up to the root directory \n",
    "project_root_dir = os.path.dirname(current_dir)\n",
    "data_dir = os.path.join(project_root_dir, 'data')\n",
    "raw_dir = os.path.join(data_dir,'raw')\n",
    "processed_dir = os.path.join(data_dir,'processed')\n",
    "# Define paths to results folder \n",
    "results_dir = os.path.join(project_root_dir,'results')\n",
    "# Define paths to docs folder \n",
    "docs_dir = os.path.join(project_root_dir,'docs') \n",
    "\n",
    "#Create directories if they do not exist \n",
    "os.makedirs(raw_dir,exist_ok= True)\n",
    "os.makedirs(raw_dir,exist_ok= True)\n",
    "os.makedirs(raw_dir,exist_ok= True)\n",
    "os.makedirs(raw_dir,exist_ok= True)\n",
    "os.makedirs(results_dir, exist_ok=True)\n",
    "os.makedirs(processed_dir, exist_ok=True)"
   ]
  },
  {
   "cell_type": "markdown",
   "id": "6e1e3906",
   "metadata": {},
   "source": [
    "## Read in the data"
   ]
  },
  {
   "cell_type": "code",
   "execution_count": 3,
   "id": "7cb46d0a",
   "metadata": {},
   "outputs": [
    {
     "data": {
      "text/html": [
       "<div>\n",
       "<style scoped>\n",
       "    .dataframe tbody tr th:only-of-type {\n",
       "        vertical-align: middle;\n",
       "    }\n",
       "\n",
       "    .dataframe tbody tr th {\n",
       "        vertical-align: top;\n",
       "    }\n",
       "\n",
       "    .dataframe thead th {\n",
       "        text-align: right;\n",
       "    }\n",
       "</style>\n",
       "<table border=\"1\" class=\"dataframe\">\n",
       "  <thead>\n",
       "    <tr style=\"text-align: right;\">\n",
       "      <th></th>\n",
       "      <th>customer_ID</th>\n",
       "      <th>gender</th>\n",
       "      <th>Senior_Citizen</th>\n",
       "      <th>Partner</th>\n",
       "      <th>Dependents</th>\n",
       "      <th>tenure</th>\n",
       "      <th>Phone_Service</th>\n",
       "      <th>MultipleLines</th>\n",
       "      <th>Internet_Service</th>\n",
       "      <th>Online_Security</th>\n",
       "      <th>...</th>\n",
       "      <th>Streaming_TV</th>\n",
       "      <th>Streaming_Movies</th>\n",
       "      <th>Contract</th>\n",
       "      <th>Paper_less_Billing</th>\n",
       "      <th>Payment_Method</th>\n",
       "      <th>Monthly_Charges</th>\n",
       "      <th>Total_Charges</th>\n",
       "      <th>num_Admin_Tickets</th>\n",
       "      <th>num_Tech_Tickets</th>\n",
       "      <th>Churn</th>\n",
       "    </tr>\n",
       "  </thead>\n",
       "  <tbody>\n",
       "    <tr>\n",
       "      <th>0</th>\n",
       "      <td>7590-VHVEG</td>\n",
       "      <td>Female</td>\n",
       "      <td>0</td>\n",
       "      <td>Yes</td>\n",
       "      <td>No</td>\n",
       "      <td>1</td>\n",
       "      <td>No</td>\n",
       "      <td>No phone service</td>\n",
       "      <td>Digital Subscriber Line</td>\n",
       "      <td>No</td>\n",
       "      <td>...</td>\n",
       "      <td>No</td>\n",
       "      <td>No</td>\n",
       "      <td>Month-to-month</td>\n",
       "      <td>Yes</td>\n",
       "      <td>Electronic check</td>\n",
       "      <td>29.85</td>\n",
       "      <td>29.85</td>\n",
       "      <td>0</td>\n",
       "      <td>0</td>\n",
       "      <td>No</td>\n",
       "    </tr>\n",
       "    <tr>\n",
       "      <th>1</th>\n",
       "      <td>5575-GNVDE</td>\n",
       "      <td>Male</td>\n",
       "      <td>0</td>\n",
       "      <td>No</td>\n",
       "      <td>No</td>\n",
       "      <td>34</td>\n",
       "      <td>Yes</td>\n",
       "      <td>No</td>\n",
       "      <td>Digital Subscriber Line</td>\n",
       "      <td>Yes</td>\n",
       "      <td>...</td>\n",
       "      <td>No</td>\n",
       "      <td>No</td>\n",
       "      <td>One year</td>\n",
       "      <td>No</td>\n",
       "      <td>Mailed check</td>\n",
       "      <td>56.95</td>\n",
       "      <td>1889.50</td>\n",
       "      <td>0</td>\n",
       "      <td>0</td>\n",
       "      <td>No</td>\n",
       "    </tr>\n",
       "    <tr>\n",
       "      <th>2</th>\n",
       "      <td>3668-QPYBK</td>\n",
       "      <td>Male</td>\n",
       "      <td>0</td>\n",
       "      <td>No</td>\n",
       "      <td>No</td>\n",
       "      <td>2</td>\n",
       "      <td>Yes</td>\n",
       "      <td>No</td>\n",
       "      <td>Digital Subscriber Line</td>\n",
       "      <td>Yes</td>\n",
       "      <td>...</td>\n",
       "      <td>No</td>\n",
       "      <td>No</td>\n",
       "      <td>Month-to-month</td>\n",
       "      <td>Yes</td>\n",
       "      <td>Mailed check</td>\n",
       "      <td>53.85</td>\n",
       "      <td>108.15</td>\n",
       "      <td>0</td>\n",
       "      <td>0</td>\n",
       "      <td>Yes</td>\n",
       "    </tr>\n",
       "    <tr>\n",
       "      <th>3</th>\n",
       "      <td>7795-CFOCW</td>\n",
       "      <td>Male</td>\n",
       "      <td>0</td>\n",
       "      <td>No</td>\n",
       "      <td>No</td>\n",
       "      <td>45</td>\n",
       "      <td>No</td>\n",
       "      <td>No phone service</td>\n",
       "      <td>Digital Subscriber Line</td>\n",
       "      <td>Yes</td>\n",
       "      <td>...</td>\n",
       "      <td>No</td>\n",
       "      <td>No</td>\n",
       "      <td>One year</td>\n",
       "      <td>No</td>\n",
       "      <td>Bank transfer (automatic)</td>\n",
       "      <td>42.30</td>\n",
       "      <td>1840.75</td>\n",
       "      <td>0</td>\n",
       "      <td>3</td>\n",
       "      <td>No</td>\n",
       "    </tr>\n",
       "    <tr>\n",
       "      <th>4</th>\n",
       "      <td>9237-HQITU</td>\n",
       "      <td>Female</td>\n",
       "      <td>0</td>\n",
       "      <td>No</td>\n",
       "      <td>No</td>\n",
       "      <td>2</td>\n",
       "      <td>Yes</td>\n",
       "      <td>No</td>\n",
       "      <td>Fiber optic</td>\n",
       "      <td>No</td>\n",
       "      <td>...</td>\n",
       "      <td>No</td>\n",
       "      <td>No</td>\n",
       "      <td>Month-to-month</td>\n",
       "      <td>Yes</td>\n",
       "      <td>Electronic check</td>\n",
       "      <td>70.70</td>\n",
       "      <td>151.65</td>\n",
       "      <td>0</td>\n",
       "      <td>0</td>\n",
       "      <td>Yes</td>\n",
       "    </tr>\n",
       "    <tr>\n",
       "      <th>5</th>\n",
       "      <td>9305-CDSKC</td>\n",
       "      <td>Female</td>\n",
       "      <td>0</td>\n",
       "      <td>No</td>\n",
       "      <td>No</td>\n",
       "      <td>8</td>\n",
       "      <td>Yes</td>\n",
       "      <td>Yes</td>\n",
       "      <td>Fiber optic</td>\n",
       "      <td>No</td>\n",
       "      <td>...</td>\n",
       "      <td>Yes</td>\n",
       "      <td>Yes</td>\n",
       "      <td>Month-to-month</td>\n",
       "      <td>Yes</td>\n",
       "      <td>Electronic check</td>\n",
       "      <td>99.65</td>\n",
       "      <td>820.50</td>\n",
       "      <td>0</td>\n",
       "      <td>0</td>\n",
       "      <td>Yes</td>\n",
       "    </tr>\n",
       "    <tr>\n",
       "      <th>6</th>\n",
       "      <td>1452-KIOVK</td>\n",
       "      <td>Male</td>\n",
       "      <td>0</td>\n",
       "      <td>No</td>\n",
       "      <td>Yes</td>\n",
       "      <td>22</td>\n",
       "      <td>Yes</td>\n",
       "      <td>Yes</td>\n",
       "      <td>Fiber optic</td>\n",
       "      <td>No</td>\n",
       "      <td>...</td>\n",
       "      <td>Yes</td>\n",
       "      <td>No</td>\n",
       "      <td>Month-to-month</td>\n",
       "      <td>Yes</td>\n",
       "      <td>Credit card (automatic)</td>\n",
       "      <td>89.10</td>\n",
       "      <td>1949.40</td>\n",
       "      <td>0</td>\n",
       "      <td>0</td>\n",
       "      <td>No</td>\n",
       "    </tr>\n",
       "    <tr>\n",
       "      <th>7</th>\n",
       "      <td>6713-OKOMC</td>\n",
       "      <td>Female</td>\n",
       "      <td>0</td>\n",
       "      <td>No</td>\n",
       "      <td>No</td>\n",
       "      <td>10</td>\n",
       "      <td>No</td>\n",
       "      <td>No phone service</td>\n",
       "      <td>Digital Subscriber Line</td>\n",
       "      <td>Yes</td>\n",
       "      <td>...</td>\n",
       "      <td>No</td>\n",
       "      <td>No</td>\n",
       "      <td>Month-to-month</td>\n",
       "      <td>No</td>\n",
       "      <td>Mailed check</td>\n",
       "      <td>29.75</td>\n",
       "      <td>301.90</td>\n",
       "      <td>0</td>\n",
       "      <td>0</td>\n",
       "      <td>No</td>\n",
       "    </tr>\n",
       "    <tr>\n",
       "      <th>8</th>\n",
       "      <td>7892-POOKP</td>\n",
       "      <td>Female</td>\n",
       "      <td>0</td>\n",
       "      <td>Yes</td>\n",
       "      <td>No</td>\n",
       "      <td>28</td>\n",
       "      <td>Yes</td>\n",
       "      <td>Yes</td>\n",
       "      <td>Fiber optic</td>\n",
       "      <td>No</td>\n",
       "      <td>...</td>\n",
       "      <td>Yes</td>\n",
       "      <td>Yes</td>\n",
       "      <td>Month-to-month</td>\n",
       "      <td>Yes</td>\n",
       "      <td>Electronic check</td>\n",
       "      <td>104.80</td>\n",
       "      <td>3046.05</td>\n",
       "      <td>0</td>\n",
       "      <td>2</td>\n",
       "      <td>Yes</td>\n",
       "    </tr>\n",
       "    <tr>\n",
       "      <th>9</th>\n",
       "      <td>6388-TABGU</td>\n",
       "      <td>Male</td>\n",
       "      <td>0</td>\n",
       "      <td>No</td>\n",
       "      <td>Yes</td>\n",
       "      <td>62</td>\n",
       "      <td>Yes</td>\n",
       "      <td>No</td>\n",
       "      <td>Digital Subscriber Line</td>\n",
       "      <td>Yes</td>\n",
       "      <td>...</td>\n",
       "      <td>No</td>\n",
       "      <td>No</td>\n",
       "      <td>One year</td>\n",
       "      <td>No</td>\n",
       "      <td>Bank transfer (automatic)</td>\n",
       "      <td>56.15</td>\n",
       "      <td>3487.95</td>\n",
       "      <td>0</td>\n",
       "      <td>0</td>\n",
       "      <td>No</td>\n",
       "    </tr>\n",
       "  </tbody>\n",
       "</table>\n",
       "<p>10 rows × 23 columns</p>\n",
       "</div>"
      ],
      "text/plain": [
       "  customer_ID  gender  Senior_Citizen Partner Dependents  tenure  \\\n",
       "0  7590-VHVEG  Female               0     Yes         No       1   \n",
       "1  5575-GNVDE    Male               0      No         No      34   \n",
       "2  3668-QPYBK    Male               0      No         No       2   \n",
       "3  7795-CFOCW    Male               0      No         No      45   \n",
       "4  9237-HQITU  Female               0      No         No       2   \n",
       "5  9305-CDSKC  Female               0      No         No       8   \n",
       "6  1452-KIOVK    Male               0      No        Yes      22   \n",
       "7  6713-OKOMC  Female               0      No         No      10   \n",
       "8  7892-POOKP  Female               0     Yes         No      28   \n",
       "9  6388-TABGU    Male               0      No        Yes      62   \n",
       "\n",
       "  Phone_Service     MultipleLines         Internet_Service Online_Security  \\\n",
       "0            No  No phone service  Digital Subscriber Line              No   \n",
       "1           Yes                No  Digital Subscriber Line             Yes   \n",
       "2           Yes                No  Digital Subscriber Line             Yes   \n",
       "3            No  No phone service  Digital Subscriber Line             Yes   \n",
       "4           Yes                No              Fiber optic              No   \n",
       "5           Yes               Yes              Fiber optic              No   \n",
       "6           Yes               Yes              Fiber optic              No   \n",
       "7            No  No phone service  Digital Subscriber Line             Yes   \n",
       "8           Yes               Yes              Fiber optic              No   \n",
       "9           Yes                No  Digital Subscriber Line             Yes   \n",
       "\n",
       "   ... Streaming_TV Streaming_Movies        Contract Paper_less_Billing  \\\n",
       "0  ...           No               No  Month-to-month                Yes   \n",
       "1  ...           No               No        One year                 No   \n",
       "2  ...           No               No  Month-to-month                Yes   \n",
       "3  ...           No               No        One year                 No   \n",
       "4  ...           No               No  Month-to-month                Yes   \n",
       "5  ...          Yes              Yes  Month-to-month                Yes   \n",
       "6  ...          Yes               No  Month-to-month                Yes   \n",
       "7  ...           No               No  Month-to-month                 No   \n",
       "8  ...          Yes              Yes  Month-to-month                Yes   \n",
       "9  ...           No               No        One year                 No   \n",
       "\n",
       "              Payment_Method Monthly_Charges Total_Charges num_Admin_Tickets  \\\n",
       "0           Electronic check           29.85         29.85                 0   \n",
       "1               Mailed check           56.95       1889.50                 0   \n",
       "2               Mailed check           53.85        108.15                 0   \n",
       "3  Bank transfer (automatic)           42.30       1840.75                 0   \n",
       "4           Electronic check           70.70        151.65                 0   \n",
       "5           Electronic check           99.65        820.50                 0   \n",
       "6    Credit card (automatic)           89.10       1949.40                 0   \n",
       "7               Mailed check           29.75        301.90                 0   \n",
       "8           Electronic check          104.80       3046.05                 0   \n",
       "9  Bank transfer (automatic)           56.15       3487.95                 0   \n",
       "\n",
       "   num_Tech_Tickets  Churn  \n",
       "0                 0     No  \n",
       "1                 0     No  \n",
       "2                 0    Yes  \n",
       "3                 3     No  \n",
       "4                 0    Yes  \n",
       "5                 0    Yes  \n",
       "6                 0     No  \n",
       "7                 0     No  \n",
       "8                 2    Yes  \n",
       "9                 0     No  \n",
       "\n",
       "[10 rows x 23 columns]"
      ]
     },
     "execution_count": 3,
     "metadata": {},
     "output_type": "execute_result"
    }
   ],
   "source": [
    "# Corrected path\n",
    "telecom_data_filename = os.path.join(processed_dir, \"Tecom.xlsx\")\n",
    "\n",
    "# Read the Excel file\n",
    "telecom_df = pd.read_excel(\n",
    "    telecom_data_filename,\n",
    "    na_values='?'\n",
    ")\n",
    "\n",
    "# Optional: Strip whitespace from string values\n",
    "telecom_df = telecom_df.applymap(lambda x: x.strip() if isinstance(x, str) else x)\n",
    "\n",
    "# Preview first 10 rows\n",
    "telecom_df.head(10)"
   ]
  },
  {
   "cell_type": "markdown",
   "id": "8e3a46eb",
   "metadata": {},
   "source": [
    "### check the shape of the dataset and datatytypes"
   ]
  },
  {
   "cell_type": "code",
   "execution_count": 4,
   "id": "3b858268",
   "metadata": {},
   "outputs": [
    {
     "data": {
      "text/plain": [
       "(7043, 23)"
      ]
     },
     "execution_count": 4,
     "metadata": {},
     "output_type": "execute_result"
    }
   ],
   "source": [
    "telecom_df.shape"
   ]
  },
  {
   "cell_type": "code",
   "execution_count": 5,
   "id": "04cef054",
   "metadata": {},
   "outputs": [
    {
     "name": "stdout",
     "output_type": "stream",
     "text": [
      "<class 'pandas.core.frame.DataFrame'>\n",
      "RangeIndex: 7043 entries, 0 to 7042\n",
      "Data columns (total 23 columns):\n",
      " #   Column              Non-Null Count  Dtype  \n",
      "---  ------              --------------  -----  \n",
      " 0   customer_ID         7043 non-null   object \n",
      " 1   gender              7043 non-null   object \n",
      " 2   Senior_Citizen      7043 non-null   int64  \n",
      " 3   Partner             7043 non-null   object \n",
      " 4   Dependents          7043 non-null   object \n",
      " 5   tenure              7043 non-null   int64  \n",
      " 6   Phone_Service       7043 non-null   object \n",
      " 7   MultipleLines       7043 non-null   object \n",
      " 8   Internet_Service    7043 non-null   object \n",
      " 9   Online_Security     7043 non-null   object \n",
      " 10  Online_Backup       7043 non-null   object \n",
      " 11  Device_Protection   7043 non-null   object \n",
      " 12  Tech_Support        7043 non-null   object \n",
      " 13  Streaming_TV        7043 non-null   object \n",
      " 14  Streaming_Movies    7043 non-null   object \n",
      " 15  Contract            7043 non-null   object \n",
      " 16  Paper_less_Billing  7043 non-null   object \n",
      " 17  Payment_Method      7043 non-null   object \n",
      " 18  Monthly_Charges     7043 non-null   float64\n",
      " 19  Total_Charges       7032 non-null   float64\n",
      " 20  num_Admin_Tickets   7043 non-null   int64  \n",
      " 21  num_Tech_Tickets    7043 non-null   int64  \n",
      " 22  Churn               7043 non-null   object \n",
      "dtypes: float64(2), int64(4), object(17)\n",
      "memory usage: 1.2+ MB\n"
     ]
    }
   ],
   "source": [
    "telecom_df.info()"
   ]
  },
  {
   "cell_type": "markdown",
   "id": "014adb7e",
   "metadata": {},
   "source": [
    "## summary statistics\n",
    "**Numerical variables**"
   ]
  },
  {
   "cell_type": "code",
   "execution_count": 6,
   "id": "423d98ed",
   "metadata": {},
   "outputs": [
    {
     "data": {
      "text/html": [
       "<div>\n",
       "<style scoped>\n",
       "    .dataframe tbody tr th:only-of-type {\n",
       "        vertical-align: middle;\n",
       "    }\n",
       "\n",
       "    .dataframe tbody tr th {\n",
       "        vertical-align: top;\n",
       "    }\n",
       "\n",
       "    .dataframe thead th {\n",
       "        text-align: right;\n",
       "    }\n",
       "</style>\n",
       "<table border=\"1\" class=\"dataframe\">\n",
       "  <thead>\n",
       "    <tr style=\"text-align: right;\">\n",
       "      <th></th>\n",
       "      <th>Senior_Citizen</th>\n",
       "      <th>tenure</th>\n",
       "      <th>Monthly_Charges</th>\n",
       "      <th>Total_Charges</th>\n",
       "      <th>num_Admin_Tickets</th>\n",
       "      <th>num_Tech_Tickets</th>\n",
       "    </tr>\n",
       "  </thead>\n",
       "  <tbody>\n",
       "    <tr>\n",
       "      <th>count</th>\n",
       "      <td>7043.000000</td>\n",
       "      <td>7043.000000</td>\n",
       "      <td>7043.000000</td>\n",
       "      <td>7032.000000</td>\n",
       "      <td>7043.000000</td>\n",
       "      <td>7043.000000</td>\n",
       "    </tr>\n",
       "    <tr>\n",
       "      <th>mean</th>\n",
       "      <td>0.162147</td>\n",
       "      <td>32.371149</td>\n",
       "      <td>64.761692</td>\n",
       "      <td>2283.300441</td>\n",
       "      <td>0.515689</td>\n",
       "      <td>0.419566</td>\n",
       "    </tr>\n",
       "    <tr>\n",
       "      <th>std</th>\n",
       "      <td>0.368612</td>\n",
       "      <td>24.559481</td>\n",
       "      <td>30.090047</td>\n",
       "      <td>2266.771362</td>\n",
       "      <td>1.275299</td>\n",
       "      <td>1.250117</td>\n",
       "    </tr>\n",
       "    <tr>\n",
       "      <th>min</th>\n",
       "      <td>0.000000</td>\n",
       "      <td>0.000000</td>\n",
       "      <td>18.250000</td>\n",
       "      <td>18.800000</td>\n",
       "      <td>0.000000</td>\n",
       "      <td>0.000000</td>\n",
       "    </tr>\n",
       "    <tr>\n",
       "      <th>25%</th>\n",
       "      <td>0.000000</td>\n",
       "      <td>9.000000</td>\n",
       "      <td>35.500000</td>\n",
       "      <td>401.450000</td>\n",
       "      <td>0.000000</td>\n",
       "      <td>0.000000</td>\n",
       "    </tr>\n",
       "    <tr>\n",
       "      <th>50%</th>\n",
       "      <td>0.000000</td>\n",
       "      <td>29.000000</td>\n",
       "      <td>70.350000</td>\n",
       "      <td>1397.475000</td>\n",
       "      <td>0.000000</td>\n",
       "      <td>0.000000</td>\n",
       "    </tr>\n",
       "    <tr>\n",
       "      <th>75%</th>\n",
       "      <td>0.000000</td>\n",
       "      <td>55.000000</td>\n",
       "      <td>89.850000</td>\n",
       "      <td>3794.737500</td>\n",
       "      <td>0.000000</td>\n",
       "      <td>0.000000</td>\n",
       "    </tr>\n",
       "    <tr>\n",
       "      <th>max</th>\n",
       "      <td>1.000000</td>\n",
       "      <td>72.000000</td>\n",
       "      <td>118.750000</td>\n",
       "      <td>8684.800000</td>\n",
       "      <td>5.000000</td>\n",
       "      <td>9.000000</td>\n",
       "    </tr>\n",
       "  </tbody>\n",
       "</table>\n",
       "</div>"
      ],
      "text/plain": [
       "       Senior_Citizen       tenure  Monthly_Charges  Total_Charges  \\\n",
       "count     7043.000000  7043.000000      7043.000000    7032.000000   \n",
       "mean         0.162147    32.371149        64.761692    2283.300441   \n",
       "std          0.368612    24.559481        30.090047    2266.771362   \n",
       "min          0.000000     0.000000        18.250000      18.800000   \n",
       "25%          0.000000     9.000000        35.500000     401.450000   \n",
       "50%          0.000000    29.000000        70.350000    1397.475000   \n",
       "75%          0.000000    55.000000        89.850000    3794.737500   \n",
       "max          1.000000    72.000000       118.750000    8684.800000   \n",
       "\n",
       "       num_Admin_Tickets  num_Tech_Tickets  \n",
       "count        7043.000000       7043.000000  \n",
       "mean            0.515689          0.419566  \n",
       "std             1.275299          1.250117  \n",
       "min             0.000000          0.000000  \n",
       "25%             0.000000          0.000000  \n",
       "50%             0.000000          0.000000  \n",
       "75%             0.000000          0.000000  \n",
       "max             5.000000          9.000000  "
      ]
     },
     "execution_count": 6,
     "metadata": {},
     "output_type": "execute_result"
    }
   ],
   "source": [
    "telecom_df.describe()"
   ]
  },
  {
   "cell_type": "markdown",
   "id": "928dff19",
   "metadata": {},
   "source": [
    "**Categorical Variables**"
   ]
  },
  {
   "cell_type": "code",
   "execution_count": 7,
   "id": "f8178f63",
   "metadata": {},
   "outputs": [
    {
     "data": {
      "text/html": [
       "<div>\n",
       "<style scoped>\n",
       "    .dataframe tbody tr th:only-of-type {\n",
       "        vertical-align: middle;\n",
       "    }\n",
       "\n",
       "    .dataframe tbody tr th {\n",
       "        vertical-align: top;\n",
       "    }\n",
       "\n",
       "    .dataframe thead th {\n",
       "        text-align: right;\n",
       "    }\n",
       "</style>\n",
       "<table border=\"1\" class=\"dataframe\">\n",
       "  <thead>\n",
       "    <tr style=\"text-align: right;\">\n",
       "      <th></th>\n",
       "      <th>customer_ID</th>\n",
       "      <th>gender</th>\n",
       "      <th>Partner</th>\n",
       "      <th>Dependents</th>\n",
       "      <th>Phone_Service</th>\n",
       "      <th>MultipleLines</th>\n",
       "      <th>Internet_Service</th>\n",
       "      <th>Online_Security</th>\n",
       "      <th>Online_Backup</th>\n",
       "      <th>Device_Protection</th>\n",
       "      <th>Tech_Support</th>\n",
       "      <th>Streaming_TV</th>\n",
       "      <th>Streaming_Movies</th>\n",
       "      <th>Contract</th>\n",
       "      <th>Paper_less_Billing</th>\n",
       "      <th>Payment_Method</th>\n",
       "      <th>Churn</th>\n",
       "    </tr>\n",
       "  </thead>\n",
       "  <tbody>\n",
       "    <tr>\n",
       "      <th>count</th>\n",
       "      <td>7043</td>\n",
       "      <td>7043</td>\n",
       "      <td>7043</td>\n",
       "      <td>7043</td>\n",
       "      <td>7043</td>\n",
       "      <td>7043</td>\n",
       "      <td>7043</td>\n",
       "      <td>7043</td>\n",
       "      <td>7043</td>\n",
       "      <td>7043</td>\n",
       "      <td>7043</td>\n",
       "      <td>7043</td>\n",
       "      <td>7043</td>\n",
       "      <td>7043</td>\n",
       "      <td>7043</td>\n",
       "      <td>7043</td>\n",
       "      <td>7043</td>\n",
       "    </tr>\n",
       "    <tr>\n",
       "      <th>unique</th>\n",
       "      <td>7043</td>\n",
       "      <td>2</td>\n",
       "      <td>2</td>\n",
       "      <td>2</td>\n",
       "      <td>2</td>\n",
       "      <td>3</td>\n",
       "      <td>3</td>\n",
       "      <td>3</td>\n",
       "      <td>3</td>\n",
       "      <td>3</td>\n",
       "      <td>3</td>\n",
       "      <td>3</td>\n",
       "      <td>3</td>\n",
       "      <td>3</td>\n",
       "      <td>2</td>\n",
       "      <td>4</td>\n",
       "      <td>2</td>\n",
       "    </tr>\n",
       "    <tr>\n",
       "      <th>top</th>\n",
       "      <td>7590-VHVEG</td>\n",
       "      <td>Male</td>\n",
       "      <td>No</td>\n",
       "      <td>No</td>\n",
       "      <td>Yes</td>\n",
       "      <td>No</td>\n",
       "      <td>Fiber optic</td>\n",
       "      <td>No</td>\n",
       "      <td>No</td>\n",
       "      <td>No</td>\n",
       "      <td>No</td>\n",
       "      <td>No</td>\n",
       "      <td>No</td>\n",
       "      <td>Month-to-month</td>\n",
       "      <td>Yes</td>\n",
       "      <td>Electronic check</td>\n",
       "      <td>No</td>\n",
       "    </tr>\n",
       "    <tr>\n",
       "      <th>freq</th>\n",
       "      <td>1</td>\n",
       "      <td>3555</td>\n",
       "      <td>3641</td>\n",
       "      <td>4933</td>\n",
       "      <td>6361</td>\n",
       "      <td>3390</td>\n",
       "      <td>3096</td>\n",
       "      <td>3498</td>\n",
       "      <td>3088</td>\n",
       "      <td>3095</td>\n",
       "      <td>3473</td>\n",
       "      <td>2810</td>\n",
       "      <td>2785</td>\n",
       "      <td>3875</td>\n",
       "      <td>4171</td>\n",
       "      <td>2365</td>\n",
       "      <td>5174</td>\n",
       "    </tr>\n",
       "  </tbody>\n",
       "</table>\n",
       "</div>"
      ],
      "text/plain": [
       "       customer_ID gender Partner Dependents Phone_Service MultipleLines  \\\n",
       "count         7043   7043    7043       7043          7043          7043   \n",
       "unique        7043      2       2          2             2             3   \n",
       "top     7590-VHVEG   Male      No         No           Yes            No   \n",
       "freq             1   3555    3641       4933          6361          3390   \n",
       "\n",
       "       Internet_Service Online_Security Online_Backup Device_Protection  \\\n",
       "count              7043            7043          7043              7043   \n",
       "unique                3               3             3                 3   \n",
       "top         Fiber optic              No            No                No   \n",
       "freq               3096            3498          3088              3095   \n",
       "\n",
       "       Tech_Support Streaming_TV Streaming_Movies        Contract  \\\n",
       "count          7043         7043             7043            7043   \n",
       "unique            3            3                3               3   \n",
       "top              No           No               No  Month-to-month   \n",
       "freq           3473         2810             2785            3875   \n",
       "\n",
       "       Paper_less_Billing    Payment_Method Churn  \n",
       "count                7043              7043  7043  \n",
       "unique                  2                 4     2  \n",
       "top                   Yes  Electronic check    No  \n",
       "freq                 4171              2365  5174  "
      ]
     },
     "execution_count": 7,
     "metadata": {},
     "output_type": "execute_result"
    }
   ],
   "source": [
    "telecom_df.describe(include='object')"
   ]
  },
  {
   "cell_type": "markdown",
   "id": "1635e08c",
   "metadata": {},
   "source": [
    "## Churn Distribution"
   ]
  },
  {
   "cell_type": "code",
   "execution_count": 8,
   "id": "9873ee13",
   "metadata": {},
   "outputs": [
    {
     "data": {
      "text/html": [
       "<div>\n",
       "<style scoped>\n",
       "    .dataframe tbody tr th:only-of-type {\n",
       "        vertical-align: middle;\n",
       "    }\n",
       "\n",
       "    .dataframe tbody tr th {\n",
       "        vertical-align: top;\n",
       "    }\n",
       "\n",
       "    .dataframe thead th {\n",
       "        text-align: right;\n",
       "    }\n",
       "</style>\n",
       "<table border=\"1\" class=\"dataframe\">\n",
       "  <thead>\n",
       "    <tr style=\"text-align: right;\">\n",
       "      <th></th>\n",
       "      <th>Churn</th>\n",
       "      <th>total</th>\n",
       "    </tr>\n",
       "  </thead>\n",
       "  <tbody>\n",
       "    <tr>\n",
       "      <th>0</th>\n",
       "      <td>No</td>\n",
       "      <td>5174</td>\n",
       "    </tr>\n",
       "    <tr>\n",
       "      <th>1</th>\n",
       "      <td>Yes</td>\n",
       "      <td>1869</td>\n",
       "    </tr>\n",
       "  </tbody>\n",
       "</table>\n",
       "</div>"
      ],
      "text/plain": [
       "  Churn  total\n",
       "0    No   5174\n",
       "1   Yes   1869"
      ]
     },
     "execution_count": 8,
     "metadata": {},
     "output_type": "execute_result"
    }
   ],
   "source": [
    "telecom_df_Churn =telecom_df.groupby('Churn').size().reset_index(name='total')\n",
    "telecom_df_Churn"
   ]
  },
  {
   "cell_type": "code",
   "execution_count": 9,
   "id": "bfe034c0",
   "metadata": {},
   "outputs": [
    {
     "name": "stdout",
     "output_type": "stream",
     "text": [
      "Requirement already satisfied: plotly in c:\\users\\user\\anaconda3\\lib\\site-packages (6.1.2)\n",
      "Requirement already satisfied: narwhals>=1.15.1 in c:\\users\\user\\anaconda3\\lib\\site-packages (from plotly) (1.43.1)\n",
      "Requirement already satisfied: packaging in c:\\users\\user\\anaconda3\\lib\\site-packages (from plotly) (23.1)\n",
      "Note: you may need to restart the kernel to use updated packages.\n"
     ]
    }
   ],
   "source": [
    "pip install --upgrade plotly"
   ]
  },
  {
   "cell_type": "code",
   "execution_count": 10,
   "id": "ba000271",
   "metadata": {},
   "outputs": [],
   "source": [
    "#pip install notebook --upgrade"
   ]
  },
  {
   "cell_type": "code",
   "execution_count": 11,
   "id": "ba216e07",
   "metadata": {},
   "outputs": [
    {
     "data": {
      "application/vnd.plotly.v1+json": {
       "config": {
        "plotlyServerURL": "https://plot.ly"
       },
       "data": [
        {
         "domain": {
          "x": [
           0,
           1
          ],
          "y": [
           0,
           1
          ]
         },
         "hovertemplate": "Churn=%{label}<br>total=%{value}<extra></extra>",
         "labels": [
          "No",
          "Yes"
         ],
         "legendgroup": "",
         "name": "",
         "showlegend": true,
         "type": "pie",
         "values": {
          "bdata": "NhRNBw==",
          "dtype": "i2"
         }
        }
       ],
       "layout": {
        "legend": {
         "tracegroupgap": 0
        },
        "paper_bgcolor": "rgba(0,0,0,0)",
        "piecolorway": [
         "rgb(103,0,31)",
         "rgb(178,24,43)",
         "rgb(214,96,77)",
         "rgb(244,165,130)",
         "rgb(253,219,199)",
         "rgb(247,247,247)",
         "rgb(209,229,240)",
         "rgb(146,197,222)",
         "rgb(67,147,195)",
         "rgb(33,102,172)",
         "rgb(5,48,97)"
        ],
        "plot_bgcolor": "rgba(0,0,0,0)",
        "template": {
         "data": {
          "pie": [
           {
            "automargin": true,
            "type": "pie"
           }
          ],
          "scatter": [
           {
            "line": {
             "width": 3
            },
            "marker": {
             "size": 9
            },
            "type": "scatter"
           }
          ],
          "scatter3d": [
           {
            "line": {
             "width": 3
            },
            "marker": {
             "size": 9
            },
            "type": "scatter3d"
           }
          ],
          "scattergeo": [
           {
            "line": {
             "width": 3
            },
            "marker": {
             "size": 9
            },
            "type": "scattergeo"
           }
          ],
          "scattergl": [
           {
            "line": {
             "width": 3
            },
            "marker": {
             "size": 9
            },
            "type": "scattergl"
           }
          ],
          "scatterpolar": [
           {
            "line": {
             "width": 3
            },
            "marker": {
             "size": 9
            },
            "type": "scatterpolar"
           }
          ],
          "scatterpolargl": [
           {
            "line": {
             "width": 3
            },
            "marker": {
             "size": 9
            },
            "type": "scatterpolargl"
           }
          ],
          "scatterternary": [
           {
            "line": {
             "width": 3
            },
            "marker": {
             "size": 9
            },
            "type": "scatterternary"
           }
          ],
          "table": [
           {
            "cells": {
             "height": 30
            },
            "header": {
             "height": 36
            },
            "type": "table"
           }
          ]
         },
         "layout": {
          "font": {
           "size": 18
          },
          "xaxis": {
           "title": {
            "standoff": 15
           }
          },
          "yaxis": {
           "title": {
            "standoff": 15
           }
          }
         }
        },
        "title": {
         "text": "Overall Churn Distribution"
        }
       }
      }
     },
     "metadata": {},
     "output_type": "display_data"
    }
   ],
   "source": [
    "fig = px.pie(telecom_df_Churn,\n",
    "             names='Churn',\n",
    "             values='total',\n",
    "             title='Overall Churn Distribution',\n",
    "             color_discrete_sequence=px.colors.sequential.RdBu)\n",
    "\n",
    "fig.update_layout(template=\"presentation\",\n",
    "                  paper_bgcolor=\"rgba(0,0,0,0)\",\n",
    "                  plot_bgcolor=\"rgba(0,0,0,0)\") \n",
    "\n",
    "fig.show()\n",
    "fig.write_image(os.path.join(results_dir, 'Churn_distribution_pie_chart.jpg'))\n",
    "fig.write_image(os.path.join(results_dir, 'Churn_distribution_pie_chart.png'))\n",
    "html_str = fig.to_html()\n",
    "\n",
    "with open(os.path.join(results_dir, 'Churn_distribution_pie_chart.html'), 'w', encoding='utf-8') as f:\n",
    "    f.write(html_str)\n",
    "\n"
   ]
  },
  {
   "cell_type": "markdown",
   "id": "eb0943a3",
   "metadata": {},
   "source": [
    "## Churn by Payment_Method"
   ]
  },
  {
   "cell_type": "code",
   "execution_count": 13,
   "id": "355076d1",
   "metadata": {},
   "outputs": [
    {
     "data": {
      "text/html": [
       "<div>\n",
       "<style scoped>\n",
       "    .dataframe tbody tr th:only-of-type {\n",
       "        vertical-align: middle;\n",
       "    }\n",
       "\n",
       "    .dataframe tbody tr th {\n",
       "        vertical-align: top;\n",
       "    }\n",
       "\n",
       "    .dataframe thead th {\n",
       "        text-align: right;\n",
       "    }\n",
       "</style>\n",
       "<table border=\"1\" class=\"dataframe\">\n",
       "  <thead>\n",
       "    <tr style=\"text-align: right;\">\n",
       "      <th></th>\n",
       "      <th>Payment_Method</th>\n",
       "      <th>Churn</th>\n",
       "      <th>total_by_Payment</th>\n",
       "    </tr>\n",
       "  </thead>\n",
       "  <tbody>\n",
       "    <tr>\n",
       "      <th>0</th>\n",
       "      <td>Bank transfer (automatic)</td>\n",
       "      <td>No</td>\n",
       "      <td>1286</td>\n",
       "    </tr>\n",
       "    <tr>\n",
       "      <th>1</th>\n",
       "      <td>Bank transfer (automatic)</td>\n",
       "      <td>Yes</td>\n",
       "      <td>258</td>\n",
       "    </tr>\n",
       "    <tr>\n",
       "      <th>2</th>\n",
       "      <td>Credit card (automatic)</td>\n",
       "      <td>No</td>\n",
       "      <td>1290</td>\n",
       "    </tr>\n",
       "    <tr>\n",
       "      <th>3</th>\n",
       "      <td>Credit card (automatic)</td>\n",
       "      <td>Yes</td>\n",
       "      <td>232</td>\n",
       "    </tr>\n",
       "    <tr>\n",
       "      <th>4</th>\n",
       "      <td>Electronic check</td>\n",
       "      <td>No</td>\n",
       "      <td>1294</td>\n",
       "    </tr>\n",
       "    <tr>\n",
       "      <th>5</th>\n",
       "      <td>Electronic check</td>\n",
       "      <td>Yes</td>\n",
       "      <td>1071</td>\n",
       "    </tr>\n",
       "    <tr>\n",
       "      <th>6</th>\n",
       "      <td>Mailed check</td>\n",
       "      <td>No</td>\n",
       "      <td>1304</td>\n",
       "    </tr>\n",
       "    <tr>\n",
       "      <th>7</th>\n",
       "      <td>Mailed check</td>\n",
       "      <td>Yes</td>\n",
       "      <td>308</td>\n",
       "    </tr>\n",
       "  </tbody>\n",
       "</table>\n",
       "</div>"
      ],
      "text/plain": [
       "              Payment_Method Churn  total_by_Payment\n",
       "0  Bank transfer (automatic)    No              1286\n",
       "1  Bank transfer (automatic)   Yes               258\n",
       "2    Credit card (automatic)    No              1290\n",
       "3    Credit card (automatic)   Yes               232\n",
       "4           Electronic check    No              1294\n",
       "5           Electronic check   Yes              1071\n",
       "6               Mailed check    No              1304\n",
       "7               Mailed check   Yes               308"
      ]
     },
     "execution_count": 13,
     "metadata": {},
     "output_type": "execute_result"
    }
   ],
   "source": [
    "telecom_df_Churn_Payment = telecom_df.groupby(['Payment_Method', 'Churn']).size().reset_index(name='total_by_Payment').sort_values(['Payment_Method', 'Churn'])\n",
    "telecom_df_Churn_Payment"
   ]
  },
  {
   "cell_type": "code",
   "execution_count": 14,
   "id": "9b28449f",
   "metadata": {},
   "outputs": [
    {
     "data": {
      "text/plain": [
       "Payment_Method\n",
       "Bank transfer (automatic)    2\n",
       "Credit card (automatic)      2\n",
       "Electronic check             2\n",
       "Mailed check                 2\n",
       "dtype: int64"
      ]
     },
     "execution_count": 14,
     "metadata": {},
     "output_type": "execute_result"
    }
   ],
   "source": [
    "total_per_group = telecom_df_Churn_Payment.groupby('Payment_Method').size()\n",
    "total_per_group"
   ]
  },
  {
   "cell_type": "code",
   "execution_count": 15,
   "id": "6ee6a7a0",
   "metadata": {},
   "outputs": [
    {
     "data": {
      "text/plain": [
       "0    1544\n",
       "1    1544\n",
       "2    1522\n",
       "3    1522\n",
       "4    2365\n",
       "5    2365\n",
       "6    1612\n",
       "7    1612\n",
       "Name: total_by_Payment, dtype: int64"
      ]
     },
     "execution_count": 15,
     "metadata": {},
     "output_type": "execute_result"
    }
   ],
   "source": [
    "total_per_group = telecom_df_Churn_Payment.groupby('Payment_Method')['total_by_Payment'].transform('sum')\n",
    "total_per_group"
   ]
  },
  {
   "cell_type": "code",
   "execution_count": 17,
   "id": "cc73c528",
   "metadata": {},
   "outputs": [
    {
     "data": {
      "text/html": [
       "<div>\n",
       "<style scoped>\n",
       "    .dataframe tbody tr th:only-of-type {\n",
       "        vertical-align: middle;\n",
       "    }\n",
       "\n",
       "    .dataframe tbody tr th {\n",
       "        vertical-align: top;\n",
       "    }\n",
       "\n",
       "    .dataframe thead th {\n",
       "        text-align: right;\n",
       "    }\n",
       "</style>\n",
       "<table border=\"1\" class=\"dataframe\">\n",
       "  <thead>\n",
       "    <tr style=\"text-align: right;\">\n",
       "      <th></th>\n",
       "      <th>Payment_Method</th>\n",
       "      <th>Churn</th>\n",
       "      <th>total_by_Payment</th>\n",
       "      <th>percentage</th>\n",
       "    </tr>\n",
       "  </thead>\n",
       "  <tbody>\n",
       "    <tr>\n",
       "      <th>0</th>\n",
       "      <td>Bank transfer (automatic)</td>\n",
       "      <td>No</td>\n",
       "      <td>1286</td>\n",
       "      <td>83.290155</td>\n",
       "    </tr>\n",
       "    <tr>\n",
       "      <th>1</th>\n",
       "      <td>Bank transfer (automatic)</td>\n",
       "      <td>Yes</td>\n",
       "      <td>258</td>\n",
       "      <td>16.709845</td>\n",
       "    </tr>\n",
       "    <tr>\n",
       "      <th>2</th>\n",
       "      <td>Credit card (automatic)</td>\n",
       "      <td>No</td>\n",
       "      <td>1290</td>\n",
       "      <td>84.756899</td>\n",
       "    </tr>\n",
       "    <tr>\n",
       "      <th>3</th>\n",
       "      <td>Credit card (automatic)</td>\n",
       "      <td>Yes</td>\n",
       "      <td>232</td>\n",
       "      <td>15.243101</td>\n",
       "    </tr>\n",
       "    <tr>\n",
       "      <th>4</th>\n",
       "      <td>Electronic check</td>\n",
       "      <td>No</td>\n",
       "      <td>1294</td>\n",
       "      <td>54.714588</td>\n",
       "    </tr>\n",
       "    <tr>\n",
       "      <th>5</th>\n",
       "      <td>Electronic check</td>\n",
       "      <td>Yes</td>\n",
       "      <td>1071</td>\n",
       "      <td>45.285412</td>\n",
       "    </tr>\n",
       "    <tr>\n",
       "      <th>6</th>\n",
       "      <td>Mailed check</td>\n",
       "      <td>No</td>\n",
       "      <td>1304</td>\n",
       "      <td>80.893300</td>\n",
       "    </tr>\n",
       "    <tr>\n",
       "      <th>7</th>\n",
       "      <td>Mailed check</td>\n",
       "      <td>Yes</td>\n",
       "      <td>308</td>\n",
       "      <td>19.106700</td>\n",
       "    </tr>\n",
       "  </tbody>\n",
       "</table>\n",
       "</div>"
      ],
      "text/plain": [
       "              Payment_Method Churn  total_by_Payment  percentage\n",
       "0  Bank transfer (automatic)    No              1286   83.290155\n",
       "1  Bank transfer (automatic)   Yes               258   16.709845\n",
       "2    Credit card (automatic)    No              1290   84.756899\n",
       "3    Credit card (automatic)   Yes               232   15.243101\n",
       "4           Electronic check    No              1294   54.714588\n",
       "5           Electronic check   Yes              1071   45.285412\n",
       "6               Mailed check    No              1304   80.893300\n",
       "7               Mailed check   Yes               308   19.106700"
      ]
     },
     "execution_count": 17,
     "metadata": {},
     "output_type": "execute_result"
    }
   ],
   "source": [
    "total_per_group = telecom_df_Churn_Payment.groupby('Payment_Method')['total_by_Payment'].transform('sum')\n",
    "telecom_df_Churn_Payment['percentage'] = (telecom_df_Churn_Payment['total_by_Payment']/total_per_group) * 100\n",
    "telecom_df_Churn_Payment"
   ]
  },
  {
   "cell_type": "code",
   "execution_count": 19,
   "id": "a1957e95",
   "metadata": {},
   "outputs": [
    {
     "data": {
      "application/vnd.plotly.v1+json": {
       "config": {
        "plotlyServerURL": "https://plot.ly"
       },
       "data": [
        {
         "alignmentgroup": "True",
         "hovertemplate": "Churn=No<br>Payment_Method=%{x}<br>total_by_Payment=%{y}<br>percentage=%{text}<extra></extra>",
         "legendgroup": "No",
         "marker": {
          "color": "rgb(103,0,31)",
          "pattern": {
           "shape": ""
          }
         },
         "name": "No",
         "offsetgroup": "No",
         "orientation": "v",
         "showlegend": true,
         "text": {
          "bdata": "jtUf6JHSVEBZuLwHcTBVQJIUapx3W0tA/tDN1Cs5VEA=",
          "dtype": "f8"
         },
         "textposition": "outside",
         "texttemplate": "%{text..2f}%",
         "type": "bar",
         "x": [
          "Bank transfer (automatic)",
          "Credit card (automatic)",
          "Electronic check",
          "Mailed check"
         ],
         "xaxis": "x",
         "y": {
          "bdata": "BgUKBQ4FGAU=",
          "dtype": "i2"
         },
         "yaxis": "y"
        },
        {
         "alignmentgroup": "True",
         "hovertemplate": "Churn=Yes<br>Payment_Method=%{x}<br>total_by_Payment=%{y}<br>percentage=%{text}<extra></extra>",
         "legendgroup": "Yes",
         "marker": {
          "color": "rgb(178,24,43)",
          "pattern": {
           "shape": ""
          }
         },
         "name": "Yes",
         "offsetgroup": "Yes",
         "orientation": "v",
         "showlegend": true,
         "text": {
          "bdata": "yamAX7i1MEA6PRrCd3wuQG/rlWOIpEZACLzIrFAbM0A=",
          "dtype": "f8"
         },
         "textposition": "outside",
         "texttemplate": "%{text..2f}%",
         "type": "bar",
         "x": [
          "Bank transfer (automatic)",
          "Credit card (automatic)",
          "Electronic check",
          "Mailed check"
         ],
         "xaxis": "x",
         "y": {
          "bdata": "AgHoAC8ENAE=",
          "dtype": "i2"
         },
         "yaxis": "y"
        }
       ],
       "layout": {
        "barmode": "group",
        "legend": {
         "title": {
          "text": "Churn Level"
         },
         "tracegroupgap": 0
        },
        "paper_bgcolor": "rgba(0, 0, 0, 0)",
        "plot_bgcolor": "rgba(0, 0, 0, 0)",
        "template": {
         "data": {
          "pie": [
           {
            "automargin": true,
            "type": "pie"
           }
          ],
          "scatter": [
           {
            "line": {
             "width": 3
            },
            "marker": {
             "size": 9
            },
            "type": "scatter"
           }
          ],
          "scatter3d": [
           {
            "line": {
             "width": 3
            },
            "marker": {
             "size": 9
            },
            "type": "scatter3d"
           }
          ],
          "scattergeo": [
           {
            "line": {
             "width": 3
            },
            "marker": {
             "size": 9
            },
            "type": "scattergeo"
           }
          ],
          "scattergl": [
           {
            "line": {
             "width": 3
            },
            "marker": {
             "size": 9
            },
            "type": "scattergl"
           }
          ],
          "scatterpolar": [
           {
            "line": {
             "width": 3
            },
            "marker": {
             "size": 9
            },
            "type": "scatterpolar"
           }
          ],
          "scatterpolargl": [
           {
            "line": {
             "width": 3
            },
            "marker": {
             "size": 9
            },
            "type": "scatterpolargl"
           }
          ],
          "scatterternary": [
           {
            "line": {
             "width": 3
            },
            "marker": {
             "size": 9
            },
            "type": "scatterternary"
           }
          ],
          "table": [
           {
            "cells": {
             "height": 30
            },
            "header": {
             "height": 36
            },
            "type": "table"
           }
          ]
         },
         "layout": {
          "font": {
           "size": 18
          },
          "xaxis": {
           "title": {
            "standoff": 15
           }
          },
          "yaxis": {
           "title": {
            "standoff": 15
           }
          }
         }
        },
        "title": {
         "text": "Churn Distribution by Payment_Method (%)"
        },
        "xaxis": {
         "anchor": "y",
         "domain": [
          0,
          1
         ],
         "title": {
          "text": "Payment_Method"
         }
        },
        "yaxis": {
         "anchor": "x",
         "domain": [
          0,
          1
         ],
         "title": {
          "text": "Percentage of population"
         }
        }
       }
      }
     },
     "metadata": {},
     "output_type": "display_data"
    }
   ],
   "source": [
    "fig = px.bar(\n",
    "    telecom_df_Churn_Payment,\n",
    "    x='Payment_Method',\n",
    "    y='total_by_Payment',   \n",
    "    color='Churn',\n",
    "    title='Churn Distribution by Payment_Method (%)',\n",
    "    barmode='group',\n",
    "    color_discrete_sequence=px.colors.sequential.RdBu,\n",
    "    text='percentage'\n",
    ")\n",
    "fig.update_traces(texttemplate='%{text..2f}%', textposition='outside'),\n",
    "fig.update_layout(template=\"presentation\", xaxis_title='Payment_Method',\n",
    "                  yaxis_title='Percentage of population', legend_title=dict(text='Churn Level'),\n",
    "                  paper_bgcolor = \"rgba(0, 0, 0, 0)\", plot_bgcolor = \"rgba(0, 0, 0, 0)\")\n",
    "fig.show()\n",
    "\n",
    "fig.write_image(os.path.join(results_dir, 'Churn_distribution_by_Payment_Method_bar_plot.jpg'))\n",
    "fig.write_image(os.path.join(results_dir, 'Churn_distribution_by_Payment_Method_bar_plot.png'))\n",
    "html_str = fig.to_html()\n",
    "\n",
    "with open(os.path.join(results_dir, 'Churn_distribution_by_Payment_Method_bar_plot.html'), 'w', encoding='utf-8') as f:\n",
    "    f.write(html_str)"
   ]
  },
  {
   "cell_type": "code",
   "execution_count": 20,
   "id": "47a0276c",
   "metadata": {},
   "outputs": [
    {
     "data": {
      "application/vnd.plotly.v1+json": {
       "config": {
        "plotlyServerURL": "https://plot.ly"
       },
       "data": [
        {
         "alignmentgroup": "True",
         "hovertemplate": "Churn=No<br>Payment_Method=%{x}<br>total_by_Payment=%{y}<br>percentage=%{text}<extra></extra>",
         "legendgroup": "No",
         "marker": {
          "color": "rgb(103,0,31)",
          "pattern": {
           "shape": ""
          }
         },
         "name": "No",
         "offsetgroup": "No",
         "orientation": "v",
         "showlegend": true,
         "text": {
          "bdata": "jtUf6JHSVEBZuLwHcTBVQJIUapx3W0tA/tDN1Cs5VEA=",
          "dtype": "f8"
         },
         "textposition": "outside",
         "texttemplate": "%{text..2f}%",
         "type": "bar",
         "x": [
          "Bank transfer (automatic)",
          "Credit card (automatic)",
          "Electronic check",
          "Mailed check"
         ],
         "xaxis": "x",
         "y": {
          "bdata": "BgUKBQ4FGAU=",
          "dtype": "i2"
         },
         "yaxis": "y"
        },
        {
         "alignmentgroup": "True",
         "hovertemplate": "Churn=Yes<br>Payment_Method=%{x}<br>total_by_Payment=%{y}<br>percentage=%{text}<extra></extra>",
         "legendgroup": "Yes",
         "marker": {
          "color": "rgb(178,24,43)",
          "pattern": {
           "shape": ""
          }
         },
         "name": "Yes",
         "offsetgroup": "Yes",
         "orientation": "v",
         "showlegend": true,
         "text": {
          "bdata": "yamAX7i1MEA6PRrCd3wuQG/rlWOIpEZACLzIrFAbM0A=",
          "dtype": "f8"
         },
         "textposition": "outside",
         "texttemplate": "%{text..2f}%",
         "type": "bar",
         "x": [
          "Bank transfer (automatic)",
          "Credit card (automatic)",
          "Electronic check",
          "Mailed check"
         ],
         "xaxis": "x",
         "y": {
          "bdata": "AgHoAC8ENAE=",
          "dtype": "i2"
         },
         "yaxis": "y"
        }
       ],
       "layout": {
        "barmode": "group",
        "legend": {
         "title": {
          "text": "Churn Level"
         },
         "tracegroupgap": 0
        },
        "paper_bgcolor": "rgba(0, 0, 0, 0)",
        "plot_bgcolor": "rgba(0, 0, 0, 0)",
        "template": {
         "data": {
          "bar": [
           {
            "error_x": {
             "color": "#2a3f5f"
            },
            "error_y": {
             "color": "#2a3f5f"
            },
            "marker": {
             "line": {
              "color": "#E5ECF6",
              "width": 0.5
             },
             "pattern": {
              "fillmode": "overlay",
              "size": 10,
              "solidity": 0.2
             }
            },
            "type": "bar"
           }
          ],
          "barpolar": [
           {
            "marker": {
             "line": {
              "color": "#E5ECF6",
              "width": 0.5
             },
             "pattern": {
              "fillmode": "overlay",
              "size": 10,
              "solidity": 0.2
             }
            },
            "type": "barpolar"
           }
          ],
          "carpet": [
           {
            "aaxis": {
             "endlinecolor": "#2a3f5f",
             "gridcolor": "white",
             "linecolor": "white",
             "minorgridcolor": "white",
             "startlinecolor": "#2a3f5f"
            },
            "baxis": {
             "endlinecolor": "#2a3f5f",
             "gridcolor": "white",
             "linecolor": "white",
             "minorgridcolor": "white",
             "startlinecolor": "#2a3f5f"
            },
            "type": "carpet"
           }
          ],
          "choropleth": [
           {
            "colorbar": {
             "outlinewidth": 0,
             "ticks": ""
            },
            "type": "choropleth"
           }
          ],
          "contour": [
           {
            "colorbar": {
             "outlinewidth": 0,
             "ticks": ""
            },
            "colorscale": [
             [
              0,
              "#0d0887"
             ],
             [
              0.1111111111111111,
              "#46039f"
             ],
             [
              0.2222222222222222,
              "#7201a8"
             ],
             [
              0.3333333333333333,
              "#9c179e"
             ],
             [
              0.4444444444444444,
              "#bd3786"
             ],
             [
              0.5555555555555556,
              "#d8576b"
             ],
             [
              0.6666666666666666,
              "#ed7953"
             ],
             [
              0.7777777777777778,
              "#fb9f3a"
             ],
             [
              0.8888888888888888,
              "#fdca26"
             ],
             [
              1,
              "#f0f921"
             ]
            ],
            "type": "contour"
           }
          ],
          "contourcarpet": [
           {
            "colorbar": {
             "outlinewidth": 0,
             "ticks": ""
            },
            "type": "contourcarpet"
           }
          ],
          "heatmap": [
           {
            "colorbar": {
             "outlinewidth": 0,
             "ticks": ""
            },
            "colorscale": [
             [
              0,
              "#0d0887"
             ],
             [
              0.1111111111111111,
              "#46039f"
             ],
             [
              0.2222222222222222,
              "#7201a8"
             ],
             [
              0.3333333333333333,
              "#9c179e"
             ],
             [
              0.4444444444444444,
              "#bd3786"
             ],
             [
              0.5555555555555556,
              "#d8576b"
             ],
             [
              0.6666666666666666,
              "#ed7953"
             ],
             [
              0.7777777777777778,
              "#fb9f3a"
             ],
             [
              0.8888888888888888,
              "#fdca26"
             ],
             [
              1,
              "#f0f921"
             ]
            ],
            "type": "heatmap"
           }
          ],
          "histogram": [
           {
            "marker": {
             "pattern": {
              "fillmode": "overlay",
              "size": 10,
              "solidity": 0.2
             }
            },
            "type": "histogram"
           }
          ],
          "histogram2d": [
           {
            "colorbar": {
             "outlinewidth": 0,
             "ticks": ""
            },
            "colorscale": [
             [
              0,
              "#0d0887"
             ],
             [
              0.1111111111111111,
              "#46039f"
             ],
             [
              0.2222222222222222,
              "#7201a8"
             ],
             [
              0.3333333333333333,
              "#9c179e"
             ],
             [
              0.4444444444444444,
              "#bd3786"
             ],
             [
              0.5555555555555556,
              "#d8576b"
             ],
             [
              0.6666666666666666,
              "#ed7953"
             ],
             [
              0.7777777777777778,
              "#fb9f3a"
             ],
             [
              0.8888888888888888,
              "#fdca26"
             ],
             [
              1,
              "#f0f921"
             ]
            ],
            "type": "histogram2d"
           }
          ],
          "histogram2dcontour": [
           {
            "colorbar": {
             "outlinewidth": 0,
             "ticks": ""
            },
            "colorscale": [
             [
              0,
              "#0d0887"
             ],
             [
              0.1111111111111111,
              "#46039f"
             ],
             [
              0.2222222222222222,
              "#7201a8"
             ],
             [
              0.3333333333333333,
              "#9c179e"
             ],
             [
              0.4444444444444444,
              "#bd3786"
             ],
             [
              0.5555555555555556,
              "#d8576b"
             ],
             [
              0.6666666666666666,
              "#ed7953"
             ],
             [
              0.7777777777777778,
              "#fb9f3a"
             ],
             [
              0.8888888888888888,
              "#fdca26"
             ],
             [
              1,
              "#f0f921"
             ]
            ],
            "type": "histogram2dcontour"
           }
          ],
          "mesh3d": [
           {
            "colorbar": {
             "outlinewidth": 0,
             "ticks": ""
            },
            "type": "mesh3d"
           }
          ],
          "parcoords": [
           {
            "line": {
             "colorbar": {
              "outlinewidth": 0,
              "ticks": ""
             }
            },
            "type": "parcoords"
           }
          ],
          "pie": [
           {
            "automargin": true,
            "type": "pie"
           }
          ],
          "scatter": [
           {
            "fillpattern": {
             "fillmode": "overlay",
             "size": 10,
             "solidity": 0.2
            },
            "type": "scatter"
           }
          ],
          "scatter3d": [
           {
            "line": {
             "colorbar": {
              "outlinewidth": 0,
              "ticks": ""
             }
            },
            "marker": {
             "colorbar": {
              "outlinewidth": 0,
              "ticks": ""
             }
            },
            "type": "scatter3d"
           }
          ],
          "scattercarpet": [
           {
            "marker": {
             "colorbar": {
              "outlinewidth": 0,
              "ticks": ""
             }
            },
            "type": "scattercarpet"
           }
          ],
          "scattergeo": [
           {
            "marker": {
             "colorbar": {
              "outlinewidth": 0,
              "ticks": ""
             }
            },
            "type": "scattergeo"
           }
          ],
          "scattergl": [
           {
            "marker": {
             "colorbar": {
              "outlinewidth": 0,
              "ticks": ""
             }
            },
            "type": "scattergl"
           }
          ],
          "scattermap": [
           {
            "marker": {
             "colorbar": {
              "outlinewidth": 0,
              "ticks": ""
             }
            },
            "type": "scattermap"
           }
          ],
          "scattermapbox": [
           {
            "marker": {
             "colorbar": {
              "outlinewidth": 0,
              "ticks": ""
             }
            },
            "type": "scattermapbox"
           }
          ],
          "scatterpolar": [
           {
            "marker": {
             "colorbar": {
              "outlinewidth": 0,
              "ticks": ""
             }
            },
            "type": "scatterpolar"
           }
          ],
          "scatterpolargl": [
           {
            "marker": {
             "colorbar": {
              "outlinewidth": 0,
              "ticks": ""
             }
            },
            "type": "scatterpolargl"
           }
          ],
          "scatterternary": [
           {
            "marker": {
             "colorbar": {
              "outlinewidth": 0,
              "ticks": ""
             }
            },
            "type": "scatterternary"
           }
          ],
          "surface": [
           {
            "colorbar": {
             "outlinewidth": 0,
             "ticks": ""
            },
            "colorscale": [
             [
              0,
              "#0d0887"
             ],
             [
              0.1111111111111111,
              "#46039f"
             ],
             [
              0.2222222222222222,
              "#7201a8"
             ],
             [
              0.3333333333333333,
              "#9c179e"
             ],
             [
              0.4444444444444444,
              "#bd3786"
             ],
             [
              0.5555555555555556,
              "#d8576b"
             ],
             [
              0.6666666666666666,
              "#ed7953"
             ],
             [
              0.7777777777777778,
              "#fb9f3a"
             ],
             [
              0.8888888888888888,
              "#fdca26"
             ],
             [
              1,
              "#f0f921"
             ]
            ],
            "type": "surface"
           }
          ],
          "table": [
           {
            "cells": {
             "fill": {
              "color": "#EBF0F8"
             },
             "line": {
              "color": "white"
             }
            },
            "header": {
             "fill": {
              "color": "#C8D4E3"
             },
             "line": {
              "color": "white"
             }
            },
            "type": "table"
           }
          ]
         },
         "layout": {
          "annotationdefaults": {
           "arrowcolor": "#2a3f5f",
           "arrowhead": 0,
           "arrowwidth": 1
          },
          "autotypenumbers": "strict",
          "coloraxis": {
           "colorbar": {
            "outlinewidth": 0,
            "ticks": ""
           }
          },
          "colorscale": {
           "diverging": [
            [
             0,
             "#8e0152"
            ],
            [
             0.1,
             "#c51b7d"
            ],
            [
             0.2,
             "#de77ae"
            ],
            [
             0.3,
             "#f1b6da"
            ],
            [
             0.4,
             "#fde0ef"
            ],
            [
             0.5,
             "#f7f7f7"
            ],
            [
             0.6,
             "#e6f5d0"
            ],
            [
             0.7,
             "#b8e186"
            ],
            [
             0.8,
             "#7fbc41"
            ],
            [
             0.9,
             "#4d9221"
            ],
            [
             1,
             "#276419"
            ]
           ],
           "sequential": [
            [
             0,
             "#0d0887"
            ],
            [
             0.1111111111111111,
             "#46039f"
            ],
            [
             0.2222222222222222,
             "#7201a8"
            ],
            [
             0.3333333333333333,
             "#9c179e"
            ],
            [
             0.4444444444444444,
             "#bd3786"
            ],
            [
             0.5555555555555556,
             "#d8576b"
            ],
            [
             0.6666666666666666,
             "#ed7953"
            ],
            [
             0.7777777777777778,
             "#fb9f3a"
            ],
            [
             0.8888888888888888,
             "#fdca26"
            ],
            [
             1,
             "#f0f921"
            ]
           ],
           "sequentialminus": [
            [
             0,
             "#0d0887"
            ],
            [
             0.1111111111111111,
             "#46039f"
            ],
            [
             0.2222222222222222,
             "#7201a8"
            ],
            [
             0.3333333333333333,
             "#9c179e"
            ],
            [
             0.4444444444444444,
             "#bd3786"
            ],
            [
             0.5555555555555556,
             "#d8576b"
            ],
            [
             0.6666666666666666,
             "#ed7953"
            ],
            [
             0.7777777777777778,
             "#fb9f3a"
            ],
            [
             0.8888888888888888,
             "#fdca26"
            ],
            [
             1,
             "#f0f921"
            ]
           ]
          },
          "colorway": [
           "#636efa",
           "#EF553B",
           "#00cc96",
           "#ab63fa",
           "#FFA15A",
           "#19d3f3",
           "#FF6692",
           "#B6E880",
           "#FF97FF",
           "#FECB52"
          ],
          "font": {
           "color": "#2a3f5f"
          },
          "geo": {
           "bgcolor": "white",
           "lakecolor": "white",
           "landcolor": "#E5ECF6",
           "showlakes": true,
           "showland": true,
           "subunitcolor": "white"
          },
          "hoverlabel": {
           "align": "left"
          },
          "hovermode": "closest",
          "mapbox": {
           "style": "light"
          },
          "paper_bgcolor": "white",
          "plot_bgcolor": "#E5ECF6",
          "polar": {
           "angularaxis": {
            "gridcolor": "white",
            "linecolor": "white",
            "ticks": ""
           },
           "bgcolor": "#E5ECF6",
           "radialaxis": {
            "gridcolor": "white",
            "linecolor": "white",
            "ticks": ""
           }
          },
          "scene": {
           "xaxis": {
            "backgroundcolor": "#E5ECF6",
            "gridcolor": "white",
            "gridwidth": 2,
            "linecolor": "white",
            "showbackground": true,
            "ticks": "",
            "zerolinecolor": "white"
           },
           "yaxis": {
            "backgroundcolor": "#E5ECF6",
            "gridcolor": "white",
            "gridwidth": 2,
            "linecolor": "white",
            "showbackground": true,
            "ticks": "",
            "zerolinecolor": "white"
           },
           "zaxis": {
            "backgroundcolor": "#E5ECF6",
            "gridcolor": "white",
            "gridwidth": 2,
            "linecolor": "white",
            "showbackground": true,
            "ticks": "",
            "zerolinecolor": "white"
           }
          },
          "shapedefaults": {
           "line": {
            "color": "#2a3f5f"
           }
          },
          "ternary": {
           "aaxis": {
            "gridcolor": "white",
            "linecolor": "white",
            "ticks": ""
           },
           "baxis": {
            "gridcolor": "white",
            "linecolor": "white",
            "ticks": ""
           },
           "bgcolor": "#E5ECF6",
           "caxis": {
            "gridcolor": "white",
            "linecolor": "white",
            "ticks": ""
           }
          },
          "title": {
           "x": 0.05
          },
          "xaxis": {
           "automargin": true,
           "gridcolor": "white",
           "linecolor": "white",
           "ticks": "",
           "title": {
            "standoff": 15
           },
           "zerolinecolor": "white",
           "zerolinewidth": 2
          },
          "yaxis": {
           "automargin": true,
           "gridcolor": "white",
           "linecolor": "white",
           "ticks": "",
           "title": {
            "standoff": 15
           },
           "zerolinecolor": "white",
           "zerolinewidth": 2
          }
         }
        },
        "title": {
         "text": "Churn Distribution by Payment_Method (%)"
        },
        "xaxis": {
         "anchor": "y",
         "domain": [
          0,
          1
         ],
         "title": {
          "text": "Payment_Method"
         }
        },
        "yaxis": {
         "anchor": "x",
         "domain": [
          0,
          1
         ],
         "title": {
          "text": "Percentage of population"
         }
        }
       }
      }
     },
     "metadata": {},
     "output_type": "display_data"
    },
    {
     "data": {
      "application/vnd.plotly.v1+json": {
       "config": {
        "plotlyServerURL": "https://plot.ly"
       },
       "data": [
        {
         "alignmentgroup": "True",
         "hovertemplate": "Churn=No<br>Payment_Method=%{x}<br>total_by_Payment=%{y}<br>percentage=%{text}<extra></extra>",
         "legendgroup": "No",
         "marker": {
          "color": "rgb(103,0,31)",
          "pattern": {
           "shape": ""
          }
         },
         "name": "No",
         "offsetgroup": "No",
         "orientation": "v",
         "showlegend": true,
         "text": {
          "bdata": "jtUf6JHSVEBZuLwHcTBVQJIUapx3W0tA/tDN1Cs5VEA=",
          "dtype": "f8"
         },
         "textposition": "outside",
         "texttemplate": "%{text..2f}%",
         "type": "bar",
         "x": [
          "Bank transfer (automatic)",
          "Credit card (automatic)",
          "Electronic check",
          "Mailed check"
         ],
         "xaxis": "x",
         "y": {
          "bdata": "BgUKBQ4FGAU=",
          "dtype": "i2"
         },
         "yaxis": "y"
        },
        {
         "alignmentgroup": "True",
         "hovertemplate": "Churn=Yes<br>Payment_Method=%{x}<br>total_by_Payment=%{y}<br>percentage=%{text}<extra></extra>",
         "legendgroup": "Yes",
         "marker": {
          "color": "rgb(178,24,43)",
          "pattern": {
           "shape": ""
          }
         },
         "name": "Yes",
         "offsetgroup": "Yes",
         "orientation": "v",
         "showlegend": true,
         "text": {
          "bdata": "yamAX7i1MEA6PRrCd3wuQG/rlWOIpEZACLzIrFAbM0A=",
          "dtype": "f8"
         },
         "textposition": "outside",
         "texttemplate": "%{text..2f}%",
         "type": "bar",
         "x": [
          "Bank transfer (automatic)",
          "Credit card (automatic)",
          "Electronic check",
          "Mailed check"
         ],
         "xaxis": "x",
         "y": {
          "bdata": "AgHoAC8ENAE=",
          "dtype": "i2"
         },
         "yaxis": "y"
        }
       ],
       "layout": {
        "barmode": "group",
        "legend": {
         "title": {
          "text": "Churn Level"
         },
         "tracegroupgap": 0
        },
        "paper_bgcolor": "rgba(0, 0, 0, 0)",
        "plot_bgcolor": "rgba(0, 0, 0, 0)",
        "template": {
         "data": {
          "bar": [
           {
            "error_x": {
             "color": "#2a3f5f"
            },
            "error_y": {
             "color": "#2a3f5f"
            },
            "marker": {
             "line": {
              "color": "white",
              "width": 0.5
             },
             "pattern": {
              "fillmode": "overlay",
              "size": 10,
              "solidity": 0.2
             }
            },
            "type": "bar"
           }
          ],
          "barpolar": [
           {
            "marker": {
             "line": {
              "color": "white",
              "width": 0.5
             },
             "pattern": {
              "fillmode": "overlay",
              "size": 10,
              "solidity": 0.2
             }
            },
            "type": "barpolar"
           }
          ],
          "carpet": [
           {
            "aaxis": {
             "endlinecolor": "#2a3f5f",
             "gridcolor": "#C8D4E3",
             "linecolor": "#C8D4E3",
             "minorgridcolor": "#C8D4E3",
             "startlinecolor": "#2a3f5f"
            },
            "baxis": {
             "endlinecolor": "#2a3f5f",
             "gridcolor": "#C8D4E3",
             "linecolor": "#C8D4E3",
             "minorgridcolor": "#C8D4E3",
             "startlinecolor": "#2a3f5f"
            },
            "type": "carpet"
           }
          ],
          "choropleth": [
           {
            "colorbar": {
             "outlinewidth": 0,
             "ticks": ""
            },
            "type": "choropleth"
           }
          ],
          "contour": [
           {
            "colorbar": {
             "outlinewidth": 0,
             "ticks": ""
            },
            "colorscale": [
             [
              0,
              "#0d0887"
             ],
             [
              0.1111111111111111,
              "#46039f"
             ],
             [
              0.2222222222222222,
              "#7201a8"
             ],
             [
              0.3333333333333333,
              "#9c179e"
             ],
             [
              0.4444444444444444,
              "#bd3786"
             ],
             [
              0.5555555555555556,
              "#d8576b"
             ],
             [
              0.6666666666666666,
              "#ed7953"
             ],
             [
              0.7777777777777778,
              "#fb9f3a"
             ],
             [
              0.8888888888888888,
              "#fdca26"
             ],
             [
              1,
              "#f0f921"
             ]
            ],
            "type": "contour"
           }
          ],
          "contourcarpet": [
           {
            "colorbar": {
             "outlinewidth": 0,
             "ticks": ""
            },
            "type": "contourcarpet"
           }
          ],
          "heatmap": [
           {
            "colorbar": {
             "outlinewidth": 0,
             "ticks": ""
            },
            "colorscale": [
             [
              0,
              "#0d0887"
             ],
             [
              0.1111111111111111,
              "#46039f"
             ],
             [
              0.2222222222222222,
              "#7201a8"
             ],
             [
              0.3333333333333333,
              "#9c179e"
             ],
             [
              0.4444444444444444,
              "#bd3786"
             ],
             [
              0.5555555555555556,
              "#d8576b"
             ],
             [
              0.6666666666666666,
              "#ed7953"
             ],
             [
              0.7777777777777778,
              "#fb9f3a"
             ],
             [
              0.8888888888888888,
              "#fdca26"
             ],
             [
              1,
              "#f0f921"
             ]
            ],
            "type": "heatmap"
           }
          ],
          "histogram": [
           {
            "marker": {
             "pattern": {
              "fillmode": "overlay",
              "size": 10,
              "solidity": 0.2
             }
            },
            "type": "histogram"
           }
          ],
          "histogram2d": [
           {
            "colorbar": {
             "outlinewidth": 0,
             "ticks": ""
            },
            "colorscale": [
             [
              0,
              "#0d0887"
             ],
             [
              0.1111111111111111,
              "#46039f"
             ],
             [
              0.2222222222222222,
              "#7201a8"
             ],
             [
              0.3333333333333333,
              "#9c179e"
             ],
             [
              0.4444444444444444,
              "#bd3786"
             ],
             [
              0.5555555555555556,
              "#d8576b"
             ],
             [
              0.6666666666666666,
              "#ed7953"
             ],
             [
              0.7777777777777778,
              "#fb9f3a"
             ],
             [
              0.8888888888888888,
              "#fdca26"
             ],
             [
              1,
              "#f0f921"
             ]
            ],
            "type": "histogram2d"
           }
          ],
          "histogram2dcontour": [
           {
            "colorbar": {
             "outlinewidth": 0,
             "ticks": ""
            },
            "colorscale": [
             [
              0,
              "#0d0887"
             ],
             [
              0.1111111111111111,
              "#46039f"
             ],
             [
              0.2222222222222222,
              "#7201a8"
             ],
             [
              0.3333333333333333,
              "#9c179e"
             ],
             [
              0.4444444444444444,
              "#bd3786"
             ],
             [
              0.5555555555555556,
              "#d8576b"
             ],
             [
              0.6666666666666666,
              "#ed7953"
             ],
             [
              0.7777777777777778,
              "#fb9f3a"
             ],
             [
              0.8888888888888888,
              "#fdca26"
             ],
             [
              1,
              "#f0f921"
             ]
            ],
            "type": "histogram2dcontour"
           }
          ],
          "mesh3d": [
           {
            "colorbar": {
             "outlinewidth": 0,
             "ticks": ""
            },
            "type": "mesh3d"
           }
          ],
          "parcoords": [
           {
            "line": {
             "colorbar": {
              "outlinewidth": 0,
              "ticks": ""
             }
            },
            "type": "parcoords"
           }
          ],
          "pie": [
           {
            "automargin": true,
            "type": "pie"
           }
          ],
          "scatter": [
           {
            "fillpattern": {
             "fillmode": "overlay",
             "size": 10,
             "solidity": 0.2
            },
            "type": "scatter"
           }
          ],
          "scatter3d": [
           {
            "line": {
             "colorbar": {
              "outlinewidth": 0,
              "ticks": ""
             }
            },
            "marker": {
             "colorbar": {
              "outlinewidth": 0,
              "ticks": ""
             }
            },
            "type": "scatter3d"
           }
          ],
          "scattercarpet": [
           {
            "marker": {
             "colorbar": {
              "outlinewidth": 0,
              "ticks": ""
             }
            },
            "type": "scattercarpet"
           }
          ],
          "scattergeo": [
           {
            "marker": {
             "colorbar": {
              "outlinewidth": 0,
              "ticks": ""
             }
            },
            "type": "scattergeo"
           }
          ],
          "scattergl": [
           {
            "marker": {
             "colorbar": {
              "outlinewidth": 0,
              "ticks": ""
             }
            },
            "type": "scattergl"
           }
          ],
          "scattermap": [
           {
            "marker": {
             "colorbar": {
              "outlinewidth": 0,
              "ticks": ""
             }
            },
            "type": "scattermap"
           }
          ],
          "scattermapbox": [
           {
            "marker": {
             "colorbar": {
              "outlinewidth": 0,
              "ticks": ""
             }
            },
            "type": "scattermapbox"
           }
          ],
          "scatterpolar": [
           {
            "marker": {
             "colorbar": {
              "outlinewidth": 0,
              "ticks": ""
             }
            },
            "type": "scatterpolar"
           }
          ],
          "scatterpolargl": [
           {
            "marker": {
             "colorbar": {
              "outlinewidth": 0,
              "ticks": ""
             }
            },
            "type": "scatterpolargl"
           }
          ],
          "scatterternary": [
           {
            "marker": {
             "colorbar": {
              "outlinewidth": 0,
              "ticks": ""
             }
            },
            "type": "scatterternary"
           }
          ],
          "surface": [
           {
            "colorbar": {
             "outlinewidth": 0,
             "ticks": ""
            },
            "colorscale": [
             [
              0,
              "#0d0887"
             ],
             [
              0.1111111111111111,
              "#46039f"
             ],
             [
              0.2222222222222222,
              "#7201a8"
             ],
             [
              0.3333333333333333,
              "#9c179e"
             ],
             [
              0.4444444444444444,
              "#bd3786"
             ],
             [
              0.5555555555555556,
              "#d8576b"
             ],
             [
              0.6666666666666666,
              "#ed7953"
             ],
             [
              0.7777777777777778,
              "#fb9f3a"
             ],
             [
              0.8888888888888888,
              "#fdca26"
             ],
             [
              1,
              "#f0f921"
             ]
            ],
            "type": "surface"
           }
          ],
          "table": [
           {
            "cells": {
             "fill": {
              "color": "#EBF0F8"
             },
             "line": {
              "color": "white"
             }
            },
            "header": {
             "fill": {
              "color": "#C8D4E3"
             },
             "line": {
              "color": "white"
             }
            },
            "type": "table"
           }
          ]
         },
         "layout": {
          "annotationdefaults": {
           "arrowcolor": "#2a3f5f",
           "arrowhead": 0,
           "arrowwidth": 1
          },
          "autotypenumbers": "strict",
          "coloraxis": {
           "colorbar": {
            "outlinewidth": 0,
            "ticks": ""
           }
          },
          "colorscale": {
           "diverging": [
            [
             0,
             "#8e0152"
            ],
            [
             0.1,
             "#c51b7d"
            ],
            [
             0.2,
             "#de77ae"
            ],
            [
             0.3,
             "#f1b6da"
            ],
            [
             0.4,
             "#fde0ef"
            ],
            [
             0.5,
             "#f7f7f7"
            ],
            [
             0.6,
             "#e6f5d0"
            ],
            [
             0.7,
             "#b8e186"
            ],
            [
             0.8,
             "#7fbc41"
            ],
            [
             0.9,
             "#4d9221"
            ],
            [
             1,
             "#276419"
            ]
           ],
           "sequential": [
            [
             0,
             "#0d0887"
            ],
            [
             0.1111111111111111,
             "#46039f"
            ],
            [
             0.2222222222222222,
             "#7201a8"
            ],
            [
             0.3333333333333333,
             "#9c179e"
            ],
            [
             0.4444444444444444,
             "#bd3786"
            ],
            [
             0.5555555555555556,
             "#d8576b"
            ],
            [
             0.6666666666666666,
             "#ed7953"
            ],
            [
             0.7777777777777778,
             "#fb9f3a"
            ],
            [
             0.8888888888888888,
             "#fdca26"
            ],
            [
             1,
             "#f0f921"
            ]
           ],
           "sequentialminus": [
            [
             0,
             "#0d0887"
            ],
            [
             0.1111111111111111,
             "#46039f"
            ],
            [
             0.2222222222222222,
             "#7201a8"
            ],
            [
             0.3333333333333333,
             "#9c179e"
            ],
            [
             0.4444444444444444,
             "#bd3786"
            ],
            [
             0.5555555555555556,
             "#d8576b"
            ],
            [
             0.6666666666666666,
             "#ed7953"
            ],
            [
             0.7777777777777778,
             "#fb9f3a"
            ],
            [
             0.8888888888888888,
             "#fdca26"
            ],
            [
             1,
             "#f0f921"
            ]
           ]
          },
          "colorway": [
           "#636efa",
           "#EF553B",
           "#00cc96",
           "#ab63fa",
           "#FFA15A",
           "#19d3f3",
           "#FF6692",
           "#B6E880",
           "#FF97FF",
           "#FECB52"
          ],
          "font": {
           "color": "#2a3f5f"
          },
          "geo": {
           "bgcolor": "white",
           "lakecolor": "white",
           "landcolor": "white",
           "showlakes": true,
           "showland": true,
           "subunitcolor": "#C8D4E3"
          },
          "hoverlabel": {
           "align": "left"
          },
          "hovermode": "closest",
          "mapbox": {
           "style": "light"
          },
          "paper_bgcolor": "white",
          "plot_bgcolor": "white",
          "polar": {
           "angularaxis": {
            "gridcolor": "#EBF0F8",
            "linecolor": "#EBF0F8",
            "ticks": ""
           },
           "bgcolor": "white",
           "radialaxis": {
            "gridcolor": "#EBF0F8",
            "linecolor": "#EBF0F8",
            "ticks": ""
           }
          },
          "scene": {
           "xaxis": {
            "backgroundcolor": "white",
            "gridcolor": "#DFE8F3",
            "gridwidth": 2,
            "linecolor": "#EBF0F8",
            "showbackground": true,
            "ticks": "",
            "zerolinecolor": "#EBF0F8"
           },
           "yaxis": {
            "backgroundcolor": "white",
            "gridcolor": "#DFE8F3",
            "gridwidth": 2,
            "linecolor": "#EBF0F8",
            "showbackground": true,
            "ticks": "",
            "zerolinecolor": "#EBF0F8"
           },
           "zaxis": {
            "backgroundcolor": "white",
            "gridcolor": "#DFE8F3",
            "gridwidth": 2,
            "linecolor": "#EBF0F8",
            "showbackground": true,
            "ticks": "",
            "zerolinecolor": "#EBF0F8"
           }
          },
          "shapedefaults": {
           "line": {
            "color": "#2a3f5f"
           }
          },
          "ternary": {
           "aaxis": {
            "gridcolor": "#DFE8F3",
            "linecolor": "#A2B1C6",
            "ticks": ""
           },
           "baxis": {
            "gridcolor": "#DFE8F3",
            "linecolor": "#A2B1C6",
            "ticks": ""
           },
           "bgcolor": "white",
           "caxis": {
            "gridcolor": "#DFE8F3",
            "linecolor": "#A2B1C6",
            "ticks": ""
           }
          },
          "title": {
           "x": 0.05
          },
          "xaxis": {
           "automargin": true,
           "gridcolor": "#EBF0F8",
           "linecolor": "#EBF0F8",
           "ticks": "",
           "title": {
            "standoff": 15
           },
           "zerolinecolor": "#EBF0F8",
           "zerolinewidth": 2
          },
          "yaxis": {
           "automargin": true,
           "gridcolor": "#EBF0F8",
           "linecolor": "#EBF0F8",
           "ticks": "",
           "title": {
            "standoff": 15
           },
           "zerolinecolor": "#EBF0F8",
           "zerolinewidth": 2
          }
         }
        },
        "title": {
         "text": "Churn Distribution by Payment_Method (%)"
        },
        "xaxis": {
         "anchor": "y",
         "domain": [
          0,
          1
         ],
         "title": {
          "text": "Payment_Method"
         }
        },
        "yaxis": {
         "anchor": "x",
         "domain": [
          0,
          1
         ],
         "title": {
          "text": "Percentage of population"
         }
        }
       }
      }
     },
     "metadata": {},
     "output_type": "display_data"
    },
    {
     "data": {
      "application/vnd.plotly.v1+json": {
       "config": {
        "plotlyServerURL": "https://plot.ly"
       },
       "data": [
        {
         "alignmentgroup": "True",
         "hovertemplate": "Churn=No<br>Payment_Method=%{x}<br>total_by_Payment=%{y}<br>percentage=%{text}<extra></extra>",
         "legendgroup": "No",
         "marker": {
          "color": "rgb(103,0,31)",
          "pattern": {
           "shape": ""
          }
         },
         "name": "No",
         "offsetgroup": "No",
         "orientation": "v",
         "showlegend": true,
         "text": {
          "bdata": "jtUf6JHSVEBZuLwHcTBVQJIUapx3W0tA/tDN1Cs5VEA=",
          "dtype": "f8"
         },
         "textposition": "outside",
         "texttemplate": "%{text..2f}%",
         "type": "bar",
         "x": [
          "Bank transfer (automatic)",
          "Credit card (automatic)",
          "Electronic check",
          "Mailed check"
         ],
         "xaxis": "x",
         "y": {
          "bdata": "BgUKBQ4FGAU=",
          "dtype": "i2"
         },
         "yaxis": "y"
        },
        {
         "alignmentgroup": "True",
         "hovertemplate": "Churn=Yes<br>Payment_Method=%{x}<br>total_by_Payment=%{y}<br>percentage=%{text}<extra></extra>",
         "legendgroup": "Yes",
         "marker": {
          "color": "rgb(178,24,43)",
          "pattern": {
           "shape": ""
          }
         },
         "name": "Yes",
         "offsetgroup": "Yes",
         "orientation": "v",
         "showlegend": true,
         "text": {
          "bdata": "yamAX7i1MEA6PRrCd3wuQG/rlWOIpEZACLzIrFAbM0A=",
          "dtype": "f8"
         },
         "textposition": "outside",
         "texttemplate": "%{text..2f}%",
         "type": "bar",
         "x": [
          "Bank transfer (automatic)",
          "Credit card (automatic)",
          "Electronic check",
          "Mailed check"
         ],
         "xaxis": "x",
         "y": {
          "bdata": "AgHoAC8ENAE=",
          "dtype": "i2"
         },
         "yaxis": "y"
        }
       ],
       "layout": {
        "barmode": "group",
        "legend": {
         "title": {
          "text": "Churn Level"
         },
         "tracegroupgap": 0
        },
        "paper_bgcolor": "rgba(0, 0, 0, 0)",
        "plot_bgcolor": "rgba(0, 0, 0, 0)",
        "template": {
         "data": {
          "bar": [
           {
            "error_x": {
             "color": "#f2f5fa"
            },
            "error_y": {
             "color": "#f2f5fa"
            },
            "marker": {
             "line": {
              "color": "rgb(17,17,17)",
              "width": 0.5
             },
             "pattern": {
              "fillmode": "overlay",
              "size": 10,
              "solidity": 0.2
             }
            },
            "type": "bar"
           }
          ],
          "barpolar": [
           {
            "marker": {
             "line": {
              "color": "rgb(17,17,17)",
              "width": 0.5
             },
             "pattern": {
              "fillmode": "overlay",
              "size": 10,
              "solidity": 0.2
             }
            },
            "type": "barpolar"
           }
          ],
          "carpet": [
           {
            "aaxis": {
             "endlinecolor": "#A2B1C6",
             "gridcolor": "#506784",
             "linecolor": "#506784",
             "minorgridcolor": "#506784",
             "startlinecolor": "#A2B1C6"
            },
            "baxis": {
             "endlinecolor": "#A2B1C6",
             "gridcolor": "#506784",
             "linecolor": "#506784",
             "minorgridcolor": "#506784",
             "startlinecolor": "#A2B1C6"
            },
            "type": "carpet"
           }
          ],
          "choropleth": [
           {
            "colorbar": {
             "outlinewidth": 0,
             "ticks": ""
            },
            "type": "choropleth"
           }
          ],
          "contour": [
           {
            "colorbar": {
             "outlinewidth": 0,
             "ticks": ""
            },
            "colorscale": [
             [
              0,
              "#0d0887"
             ],
             [
              0.1111111111111111,
              "#46039f"
             ],
             [
              0.2222222222222222,
              "#7201a8"
             ],
             [
              0.3333333333333333,
              "#9c179e"
             ],
             [
              0.4444444444444444,
              "#bd3786"
             ],
             [
              0.5555555555555556,
              "#d8576b"
             ],
             [
              0.6666666666666666,
              "#ed7953"
             ],
             [
              0.7777777777777778,
              "#fb9f3a"
             ],
             [
              0.8888888888888888,
              "#fdca26"
             ],
             [
              1,
              "#f0f921"
             ]
            ],
            "type": "contour"
           }
          ],
          "contourcarpet": [
           {
            "colorbar": {
             "outlinewidth": 0,
             "ticks": ""
            },
            "type": "contourcarpet"
           }
          ],
          "heatmap": [
           {
            "colorbar": {
             "outlinewidth": 0,
             "ticks": ""
            },
            "colorscale": [
             [
              0,
              "#0d0887"
             ],
             [
              0.1111111111111111,
              "#46039f"
             ],
             [
              0.2222222222222222,
              "#7201a8"
             ],
             [
              0.3333333333333333,
              "#9c179e"
             ],
             [
              0.4444444444444444,
              "#bd3786"
             ],
             [
              0.5555555555555556,
              "#d8576b"
             ],
             [
              0.6666666666666666,
              "#ed7953"
             ],
             [
              0.7777777777777778,
              "#fb9f3a"
             ],
             [
              0.8888888888888888,
              "#fdca26"
             ],
             [
              1,
              "#f0f921"
             ]
            ],
            "type": "heatmap"
           }
          ],
          "histogram": [
           {
            "marker": {
             "pattern": {
              "fillmode": "overlay",
              "size": 10,
              "solidity": 0.2
             }
            },
            "type": "histogram"
           }
          ],
          "histogram2d": [
           {
            "colorbar": {
             "outlinewidth": 0,
             "ticks": ""
            },
            "colorscale": [
             [
              0,
              "#0d0887"
             ],
             [
              0.1111111111111111,
              "#46039f"
             ],
             [
              0.2222222222222222,
              "#7201a8"
             ],
             [
              0.3333333333333333,
              "#9c179e"
             ],
             [
              0.4444444444444444,
              "#bd3786"
             ],
             [
              0.5555555555555556,
              "#d8576b"
             ],
             [
              0.6666666666666666,
              "#ed7953"
             ],
             [
              0.7777777777777778,
              "#fb9f3a"
             ],
             [
              0.8888888888888888,
              "#fdca26"
             ],
             [
              1,
              "#f0f921"
             ]
            ],
            "type": "histogram2d"
           }
          ],
          "histogram2dcontour": [
           {
            "colorbar": {
             "outlinewidth": 0,
             "ticks": ""
            },
            "colorscale": [
             [
              0,
              "#0d0887"
             ],
             [
              0.1111111111111111,
              "#46039f"
             ],
             [
              0.2222222222222222,
              "#7201a8"
             ],
             [
              0.3333333333333333,
              "#9c179e"
             ],
             [
              0.4444444444444444,
              "#bd3786"
             ],
             [
              0.5555555555555556,
              "#d8576b"
             ],
             [
              0.6666666666666666,
              "#ed7953"
             ],
             [
              0.7777777777777778,
              "#fb9f3a"
             ],
             [
              0.8888888888888888,
              "#fdca26"
             ],
             [
              1,
              "#f0f921"
             ]
            ],
            "type": "histogram2dcontour"
           }
          ],
          "mesh3d": [
           {
            "colorbar": {
             "outlinewidth": 0,
             "ticks": ""
            },
            "type": "mesh3d"
           }
          ],
          "parcoords": [
           {
            "line": {
             "colorbar": {
              "outlinewidth": 0,
              "ticks": ""
             }
            },
            "type": "parcoords"
           }
          ],
          "pie": [
           {
            "automargin": true,
            "type": "pie"
           }
          ],
          "scatter": [
           {
            "marker": {
             "line": {
              "color": "#283442"
             }
            },
            "type": "scatter"
           }
          ],
          "scatter3d": [
           {
            "line": {
             "colorbar": {
              "outlinewidth": 0,
              "ticks": ""
             }
            },
            "marker": {
             "colorbar": {
              "outlinewidth": 0,
              "ticks": ""
             }
            },
            "type": "scatter3d"
           }
          ],
          "scattercarpet": [
           {
            "marker": {
             "colorbar": {
              "outlinewidth": 0,
              "ticks": ""
             }
            },
            "type": "scattercarpet"
           }
          ],
          "scattergeo": [
           {
            "marker": {
             "colorbar": {
              "outlinewidth": 0,
              "ticks": ""
             }
            },
            "type": "scattergeo"
           }
          ],
          "scattergl": [
           {
            "marker": {
             "line": {
              "color": "#283442"
             }
            },
            "type": "scattergl"
           }
          ],
          "scattermap": [
           {
            "marker": {
             "colorbar": {
              "outlinewidth": 0,
              "ticks": ""
             }
            },
            "type": "scattermap"
           }
          ],
          "scattermapbox": [
           {
            "marker": {
             "colorbar": {
              "outlinewidth": 0,
              "ticks": ""
             }
            },
            "type": "scattermapbox"
           }
          ],
          "scatterpolar": [
           {
            "marker": {
             "colorbar": {
              "outlinewidth": 0,
              "ticks": ""
             }
            },
            "type": "scatterpolar"
           }
          ],
          "scatterpolargl": [
           {
            "marker": {
             "colorbar": {
              "outlinewidth": 0,
              "ticks": ""
             }
            },
            "type": "scatterpolargl"
           }
          ],
          "scatterternary": [
           {
            "marker": {
             "colorbar": {
              "outlinewidth": 0,
              "ticks": ""
             }
            },
            "type": "scatterternary"
           }
          ],
          "surface": [
           {
            "colorbar": {
             "outlinewidth": 0,
             "ticks": ""
            },
            "colorscale": [
             [
              0,
              "#0d0887"
             ],
             [
              0.1111111111111111,
              "#46039f"
             ],
             [
              0.2222222222222222,
              "#7201a8"
             ],
             [
              0.3333333333333333,
              "#9c179e"
             ],
             [
              0.4444444444444444,
              "#bd3786"
             ],
             [
              0.5555555555555556,
              "#d8576b"
             ],
             [
              0.6666666666666666,
              "#ed7953"
             ],
             [
              0.7777777777777778,
              "#fb9f3a"
             ],
             [
              0.8888888888888888,
              "#fdca26"
             ],
             [
              1,
              "#f0f921"
             ]
            ],
            "type": "surface"
           }
          ],
          "table": [
           {
            "cells": {
             "fill": {
              "color": "#506784"
             },
             "line": {
              "color": "rgb(17,17,17)"
             }
            },
            "header": {
             "fill": {
              "color": "#2a3f5f"
             },
             "line": {
              "color": "rgb(17,17,17)"
             }
            },
            "type": "table"
           }
          ]
         },
         "layout": {
          "annotationdefaults": {
           "arrowcolor": "#f2f5fa",
           "arrowhead": 0,
           "arrowwidth": 1
          },
          "autotypenumbers": "strict",
          "coloraxis": {
           "colorbar": {
            "outlinewidth": 0,
            "ticks": ""
           }
          },
          "colorscale": {
           "diverging": [
            [
             0,
             "#8e0152"
            ],
            [
             0.1,
             "#c51b7d"
            ],
            [
             0.2,
             "#de77ae"
            ],
            [
             0.3,
             "#f1b6da"
            ],
            [
             0.4,
             "#fde0ef"
            ],
            [
             0.5,
             "#f7f7f7"
            ],
            [
             0.6,
             "#e6f5d0"
            ],
            [
             0.7,
             "#b8e186"
            ],
            [
             0.8,
             "#7fbc41"
            ],
            [
             0.9,
             "#4d9221"
            ],
            [
             1,
             "#276419"
            ]
           ],
           "sequential": [
            [
             0,
             "#0d0887"
            ],
            [
             0.1111111111111111,
             "#46039f"
            ],
            [
             0.2222222222222222,
             "#7201a8"
            ],
            [
             0.3333333333333333,
             "#9c179e"
            ],
            [
             0.4444444444444444,
             "#bd3786"
            ],
            [
             0.5555555555555556,
             "#d8576b"
            ],
            [
             0.6666666666666666,
             "#ed7953"
            ],
            [
             0.7777777777777778,
             "#fb9f3a"
            ],
            [
             0.8888888888888888,
             "#fdca26"
            ],
            [
             1,
             "#f0f921"
            ]
           ],
           "sequentialminus": [
            [
             0,
             "#0d0887"
            ],
            [
             0.1111111111111111,
             "#46039f"
            ],
            [
             0.2222222222222222,
             "#7201a8"
            ],
            [
             0.3333333333333333,
             "#9c179e"
            ],
            [
             0.4444444444444444,
             "#bd3786"
            ],
            [
             0.5555555555555556,
             "#d8576b"
            ],
            [
             0.6666666666666666,
             "#ed7953"
            ],
            [
             0.7777777777777778,
             "#fb9f3a"
            ],
            [
             0.8888888888888888,
             "#fdca26"
            ],
            [
             1,
             "#f0f921"
            ]
           ]
          },
          "colorway": [
           "#636efa",
           "#EF553B",
           "#00cc96",
           "#ab63fa",
           "#FFA15A",
           "#19d3f3",
           "#FF6692",
           "#B6E880",
           "#FF97FF",
           "#FECB52"
          ],
          "font": {
           "color": "#f2f5fa"
          },
          "geo": {
           "bgcolor": "rgb(17,17,17)",
           "lakecolor": "rgb(17,17,17)",
           "landcolor": "rgb(17,17,17)",
           "showlakes": true,
           "showland": true,
           "subunitcolor": "#506784"
          },
          "hoverlabel": {
           "align": "left"
          },
          "hovermode": "closest",
          "mapbox": {
           "style": "dark"
          },
          "paper_bgcolor": "rgb(17,17,17)",
          "plot_bgcolor": "rgb(17,17,17)",
          "polar": {
           "angularaxis": {
            "gridcolor": "#506784",
            "linecolor": "#506784",
            "ticks": ""
           },
           "bgcolor": "rgb(17,17,17)",
           "radialaxis": {
            "gridcolor": "#506784",
            "linecolor": "#506784",
            "ticks": ""
           }
          },
          "scene": {
           "xaxis": {
            "backgroundcolor": "rgb(17,17,17)",
            "gridcolor": "#506784",
            "gridwidth": 2,
            "linecolor": "#506784",
            "showbackground": true,
            "ticks": "",
            "zerolinecolor": "#C8D4E3"
           },
           "yaxis": {
            "backgroundcolor": "rgb(17,17,17)",
            "gridcolor": "#506784",
            "gridwidth": 2,
            "linecolor": "#506784",
            "showbackground": true,
            "ticks": "",
            "zerolinecolor": "#C8D4E3"
           },
           "zaxis": {
            "backgroundcolor": "rgb(17,17,17)",
            "gridcolor": "#506784",
            "gridwidth": 2,
            "linecolor": "#506784",
            "showbackground": true,
            "ticks": "",
            "zerolinecolor": "#C8D4E3"
           }
          },
          "shapedefaults": {
           "line": {
            "color": "#f2f5fa"
           }
          },
          "sliderdefaults": {
           "bgcolor": "#C8D4E3",
           "bordercolor": "rgb(17,17,17)",
           "borderwidth": 1,
           "tickwidth": 0
          },
          "ternary": {
           "aaxis": {
            "gridcolor": "#506784",
            "linecolor": "#506784",
            "ticks": ""
           },
           "baxis": {
            "gridcolor": "#506784",
            "linecolor": "#506784",
            "ticks": ""
           },
           "bgcolor": "rgb(17,17,17)",
           "caxis": {
            "gridcolor": "#506784",
            "linecolor": "#506784",
            "ticks": ""
           }
          },
          "title": {
           "x": 0.05
          },
          "updatemenudefaults": {
           "bgcolor": "#506784",
           "borderwidth": 0
          },
          "xaxis": {
           "automargin": true,
           "gridcolor": "#283442",
           "linecolor": "#506784",
           "ticks": "",
           "title": {
            "standoff": 15
           },
           "zerolinecolor": "#283442",
           "zerolinewidth": 2
          },
          "yaxis": {
           "automargin": true,
           "gridcolor": "#283442",
           "linecolor": "#506784",
           "ticks": "",
           "title": {
            "standoff": 15
           },
           "zerolinecolor": "#283442",
           "zerolinewidth": 2
          }
         }
        },
        "title": {
         "text": "Churn Distribution by Payment_Method (%)"
        },
        "xaxis": {
         "anchor": "y",
         "domain": [
          0,
          1
         ],
         "title": {
          "text": "Payment_Method"
         }
        },
        "yaxis": {
         "anchor": "x",
         "domain": [
          0,
          1
         ],
         "title": {
          "text": "Percentage of population"
         }
        }
       }
      }
     },
     "metadata": {},
     "output_type": "display_data"
    },
    {
     "data": {
      "application/vnd.plotly.v1+json": {
       "config": {
        "plotlyServerURL": "https://plot.ly"
       },
       "data": [
        {
         "alignmentgroup": "True",
         "hovertemplate": "Churn=No<br>Payment_Method=%{x}<br>total_by_Payment=%{y}<br>percentage=%{text}<extra></extra>",
         "legendgroup": "No",
         "marker": {
          "color": "rgb(103,0,31)",
          "pattern": {
           "shape": ""
          }
         },
         "name": "No",
         "offsetgroup": "No",
         "orientation": "v",
         "showlegend": true,
         "text": {
          "bdata": "jtUf6JHSVEBZuLwHcTBVQJIUapx3W0tA/tDN1Cs5VEA=",
          "dtype": "f8"
         },
         "textposition": "outside",
         "texttemplate": "%{text..2f}%",
         "type": "bar",
         "x": [
          "Bank transfer (automatic)",
          "Credit card (automatic)",
          "Electronic check",
          "Mailed check"
         ],
         "xaxis": "x",
         "y": {
          "bdata": "BgUKBQ4FGAU=",
          "dtype": "i2"
         },
         "yaxis": "y"
        },
        {
         "alignmentgroup": "True",
         "hovertemplate": "Churn=Yes<br>Payment_Method=%{x}<br>total_by_Payment=%{y}<br>percentage=%{text}<extra></extra>",
         "legendgroup": "Yes",
         "marker": {
          "color": "rgb(178,24,43)",
          "pattern": {
           "shape": ""
          }
         },
         "name": "Yes",
         "offsetgroup": "Yes",
         "orientation": "v",
         "showlegend": true,
         "text": {
          "bdata": "yamAX7i1MEA6PRrCd3wuQG/rlWOIpEZACLzIrFAbM0A=",
          "dtype": "f8"
         },
         "textposition": "outside",
         "texttemplate": "%{text..2f}%",
         "type": "bar",
         "x": [
          "Bank transfer (automatic)",
          "Credit card (automatic)",
          "Electronic check",
          "Mailed check"
         ],
         "xaxis": "x",
         "y": {
          "bdata": "AgHoAC8ENAE=",
          "dtype": "i2"
         },
         "yaxis": "y"
        }
       ],
       "layout": {
        "barmode": "group",
        "legend": {
         "title": {
          "text": "Churn Level"
         },
         "tracegroupgap": 0
        },
        "paper_bgcolor": "rgba(0, 0, 0, 0)",
        "plot_bgcolor": "rgba(0, 0, 0, 0)",
        "template": {
         "data": {
          "bar": [
           {
            "error_x": {
             "color": "rgb(51,51,51)"
            },
            "error_y": {
             "color": "rgb(51,51,51)"
            },
            "marker": {
             "line": {
              "color": "rgb(237,237,237)",
              "width": 0.5
             },
             "pattern": {
              "fillmode": "overlay",
              "size": 10,
              "solidity": 0.2
             }
            },
            "type": "bar"
           }
          ],
          "barpolar": [
           {
            "marker": {
             "line": {
              "color": "rgb(237,237,237)",
              "width": 0.5
             },
             "pattern": {
              "fillmode": "overlay",
              "size": 10,
              "solidity": 0.2
             }
            },
            "type": "barpolar"
           }
          ],
          "carpet": [
           {
            "aaxis": {
             "endlinecolor": "rgb(51,51,51)",
             "gridcolor": "white",
             "linecolor": "white",
             "minorgridcolor": "white",
             "startlinecolor": "rgb(51,51,51)"
            },
            "baxis": {
             "endlinecolor": "rgb(51,51,51)",
             "gridcolor": "white",
             "linecolor": "white",
             "minorgridcolor": "white",
             "startlinecolor": "rgb(51,51,51)"
            },
            "type": "carpet"
           }
          ],
          "choropleth": [
           {
            "colorbar": {
             "outlinewidth": 0,
             "tickcolor": "rgb(237,237,237)",
             "ticklen": 6,
             "ticks": "inside"
            },
            "type": "choropleth"
           }
          ],
          "contour": [
           {
            "colorbar": {
             "outlinewidth": 0,
             "tickcolor": "rgb(237,237,237)",
             "ticklen": 6,
             "ticks": "inside"
            },
            "colorscale": [
             [
              0,
              "rgb(20,44,66)"
             ],
             [
              1,
              "rgb(90,179,244)"
             ]
            ],
            "type": "contour"
           }
          ],
          "contourcarpet": [
           {
            "colorbar": {
             "outlinewidth": 0,
             "tickcolor": "rgb(237,237,237)",
             "ticklen": 6,
             "ticks": "inside"
            },
            "type": "contourcarpet"
           }
          ],
          "heatmap": [
           {
            "colorbar": {
             "outlinewidth": 0,
             "tickcolor": "rgb(237,237,237)",
             "ticklen": 6,
             "ticks": "inside"
            },
            "colorscale": [
             [
              0,
              "rgb(20,44,66)"
             ],
             [
              1,
              "rgb(90,179,244)"
             ]
            ],
            "type": "heatmap"
           }
          ],
          "histogram": [
           {
            "marker": {
             "pattern": {
              "fillmode": "overlay",
              "size": 10,
              "solidity": 0.2
             }
            },
            "type": "histogram"
           }
          ],
          "histogram2d": [
           {
            "colorbar": {
             "outlinewidth": 0,
             "tickcolor": "rgb(237,237,237)",
             "ticklen": 6,
             "ticks": "inside"
            },
            "colorscale": [
             [
              0,
              "rgb(20,44,66)"
             ],
             [
              1,
              "rgb(90,179,244)"
             ]
            ],
            "type": "histogram2d"
           }
          ],
          "histogram2dcontour": [
           {
            "colorbar": {
             "outlinewidth": 0,
             "tickcolor": "rgb(237,237,237)",
             "ticklen": 6,
             "ticks": "inside"
            },
            "colorscale": [
             [
              0,
              "rgb(20,44,66)"
             ],
             [
              1,
              "rgb(90,179,244)"
             ]
            ],
            "type": "histogram2dcontour"
           }
          ],
          "mesh3d": [
           {
            "colorbar": {
             "outlinewidth": 0,
             "tickcolor": "rgb(237,237,237)",
             "ticklen": 6,
             "ticks": "inside"
            },
            "type": "mesh3d"
           }
          ],
          "parcoords": [
           {
            "line": {
             "colorbar": {
              "outlinewidth": 0,
              "tickcolor": "rgb(237,237,237)",
              "ticklen": 6,
              "ticks": "inside"
             }
            },
            "type": "parcoords"
           }
          ],
          "pie": [
           {
            "automargin": true,
            "type": "pie"
           }
          ],
          "scatter": [
           {
            "fillpattern": {
             "fillmode": "overlay",
             "size": 10,
             "solidity": 0.2
            },
            "type": "scatter"
           }
          ],
          "scatter3d": [
           {
            "line": {
             "colorbar": {
              "outlinewidth": 0,
              "tickcolor": "rgb(237,237,237)",
              "ticklen": 6,
              "ticks": "inside"
             }
            },
            "marker": {
             "colorbar": {
              "outlinewidth": 0,
              "tickcolor": "rgb(237,237,237)",
              "ticklen": 6,
              "ticks": "inside"
             }
            },
            "type": "scatter3d"
           }
          ],
          "scattercarpet": [
           {
            "marker": {
             "colorbar": {
              "outlinewidth": 0,
              "tickcolor": "rgb(237,237,237)",
              "ticklen": 6,
              "ticks": "inside"
             }
            },
            "type": "scattercarpet"
           }
          ],
          "scattergeo": [
           {
            "marker": {
             "colorbar": {
              "outlinewidth": 0,
              "tickcolor": "rgb(237,237,237)",
              "ticklen": 6,
              "ticks": "inside"
             }
            },
            "type": "scattergeo"
           }
          ],
          "scattergl": [
           {
            "marker": {
             "colorbar": {
              "outlinewidth": 0,
              "tickcolor": "rgb(237,237,237)",
              "ticklen": 6,
              "ticks": "inside"
             }
            },
            "type": "scattergl"
           }
          ],
          "scattermap": [
           {
            "marker": {
             "colorbar": {
              "outlinewidth": 0,
              "tickcolor": "rgb(237,237,237)",
              "ticklen": 6,
              "ticks": "inside"
             }
            },
            "type": "scattermap"
           }
          ],
          "scattermapbox": [
           {
            "marker": {
             "colorbar": {
              "outlinewidth": 0,
              "tickcolor": "rgb(237,237,237)",
              "ticklen": 6,
              "ticks": "inside"
             }
            },
            "type": "scattermapbox"
           }
          ],
          "scatterpolar": [
           {
            "marker": {
             "colorbar": {
              "outlinewidth": 0,
              "tickcolor": "rgb(237,237,237)",
              "ticklen": 6,
              "ticks": "inside"
             }
            },
            "type": "scatterpolar"
           }
          ],
          "scatterpolargl": [
           {
            "marker": {
             "colorbar": {
              "outlinewidth": 0,
              "tickcolor": "rgb(237,237,237)",
              "ticklen": 6,
              "ticks": "inside"
             }
            },
            "type": "scatterpolargl"
           }
          ],
          "scatterternary": [
           {
            "marker": {
             "colorbar": {
              "outlinewidth": 0,
              "tickcolor": "rgb(237,237,237)",
              "ticklen": 6,
              "ticks": "inside"
             }
            },
            "type": "scatterternary"
           }
          ],
          "surface": [
           {
            "colorbar": {
             "outlinewidth": 0,
             "tickcolor": "rgb(237,237,237)",
             "ticklen": 6,
             "ticks": "inside"
            },
            "colorscale": [
             [
              0,
              "rgb(20,44,66)"
             ],
             [
              1,
              "rgb(90,179,244)"
             ]
            ],
            "type": "surface"
           }
          ],
          "table": [
           {
            "cells": {
             "fill": {
              "color": "rgb(237,237,237)"
             },
             "line": {
              "color": "white"
             }
            },
            "header": {
             "fill": {
              "color": "rgb(217,217,217)"
             },
             "line": {
              "color": "white"
             }
            },
            "type": "table"
           }
          ]
         },
         "layout": {
          "annotationdefaults": {
           "arrowhead": 0,
           "arrowwidth": 1
          },
          "autotypenumbers": "strict",
          "coloraxis": {
           "colorbar": {
            "outlinewidth": 0,
            "tickcolor": "rgb(237,237,237)",
            "ticklen": 6,
            "ticks": "inside"
           }
          },
          "colorscale": {
           "sequential": [
            [
             0,
             "rgb(20,44,66)"
            ],
            [
             1,
             "rgb(90,179,244)"
            ]
           ],
           "sequentialminus": [
            [
             0,
             "rgb(20,44,66)"
            ],
            [
             1,
             "rgb(90,179,244)"
            ]
           ]
          },
          "colorway": [
           "#F8766D",
           "#A3A500",
           "#00BF7D",
           "#00B0F6",
           "#E76BF3"
          ],
          "font": {
           "color": "rgb(51,51,51)"
          },
          "geo": {
           "bgcolor": "white",
           "lakecolor": "white",
           "landcolor": "rgb(237,237,237)",
           "showlakes": true,
           "showland": true,
           "subunitcolor": "white"
          },
          "hoverlabel": {
           "align": "left"
          },
          "hovermode": "closest",
          "paper_bgcolor": "white",
          "plot_bgcolor": "rgb(237,237,237)",
          "polar": {
           "angularaxis": {
            "gridcolor": "white",
            "linecolor": "white",
            "showgrid": true,
            "tickcolor": "rgb(51,51,51)",
            "ticks": "outside"
           },
           "bgcolor": "rgb(237,237,237)",
           "radialaxis": {
            "gridcolor": "white",
            "linecolor": "white",
            "showgrid": true,
            "tickcolor": "rgb(51,51,51)",
            "ticks": "outside"
           }
          },
          "scene": {
           "xaxis": {
            "backgroundcolor": "rgb(237,237,237)",
            "gridcolor": "white",
            "gridwidth": 2,
            "linecolor": "white",
            "showbackground": true,
            "showgrid": true,
            "tickcolor": "rgb(51,51,51)",
            "ticks": "outside",
            "zerolinecolor": "white"
           },
           "yaxis": {
            "backgroundcolor": "rgb(237,237,237)",
            "gridcolor": "white",
            "gridwidth": 2,
            "linecolor": "white",
            "showbackground": true,
            "showgrid": true,
            "tickcolor": "rgb(51,51,51)",
            "ticks": "outside",
            "zerolinecolor": "white"
           },
           "zaxis": {
            "backgroundcolor": "rgb(237,237,237)",
            "gridcolor": "white",
            "gridwidth": 2,
            "linecolor": "white",
            "showbackground": true,
            "showgrid": true,
            "tickcolor": "rgb(51,51,51)",
            "ticks": "outside",
            "zerolinecolor": "white"
           }
          },
          "shapedefaults": {
           "fillcolor": "black",
           "line": {
            "width": 0
           },
           "opacity": 0.3
          },
          "ternary": {
           "aaxis": {
            "gridcolor": "white",
            "linecolor": "white",
            "showgrid": true,
            "tickcolor": "rgb(51,51,51)",
            "ticks": "outside"
           },
           "baxis": {
            "gridcolor": "white",
            "linecolor": "white",
            "showgrid": true,
            "tickcolor": "rgb(51,51,51)",
            "ticks": "outside"
           },
           "bgcolor": "rgb(237,237,237)",
           "caxis": {
            "gridcolor": "white",
            "linecolor": "white",
            "showgrid": true,
            "tickcolor": "rgb(51,51,51)",
            "ticks": "outside"
           }
          },
          "xaxis": {
           "automargin": true,
           "gridcolor": "white",
           "linecolor": "white",
           "showgrid": true,
           "tickcolor": "rgb(51,51,51)",
           "ticks": "outside",
           "title": {
            "standoff": 15
           },
           "zerolinecolor": "white"
          },
          "yaxis": {
           "automargin": true,
           "gridcolor": "white",
           "linecolor": "white",
           "showgrid": true,
           "tickcolor": "rgb(51,51,51)",
           "ticks": "outside",
           "title": {
            "standoff": 15
           },
           "zerolinecolor": "white"
          }
         }
        },
        "title": {
         "text": "Churn Distribution by Payment_Method (%)"
        },
        "xaxis": {
         "anchor": "y",
         "domain": [
          0,
          1
         ],
         "title": {
          "text": "Payment_Method"
         }
        },
        "yaxis": {
         "anchor": "x",
         "domain": [
          0,
          1
         ],
         "title": {
          "text": "Percentage of population"
         }
        }
       }
      }
     },
     "metadata": {},
     "output_type": "display_data"
    },
    {
     "data": {
      "application/vnd.plotly.v1+json": {
       "config": {
        "plotlyServerURL": "https://plot.ly"
       },
       "data": [
        {
         "alignmentgroup": "True",
         "hovertemplate": "Churn=No<br>Payment_Method=%{x}<br>total_by_Payment=%{y}<br>percentage=%{text}<extra></extra>",
         "legendgroup": "No",
         "marker": {
          "color": "rgb(103,0,31)",
          "pattern": {
           "shape": ""
          }
         },
         "name": "No",
         "offsetgroup": "No",
         "orientation": "v",
         "showlegend": true,
         "text": {
          "bdata": "jtUf6JHSVEBZuLwHcTBVQJIUapx3W0tA/tDN1Cs5VEA=",
          "dtype": "f8"
         },
         "textposition": "outside",
         "texttemplate": "%{text..2f}%",
         "type": "bar",
         "x": [
          "Bank transfer (automatic)",
          "Credit card (automatic)",
          "Electronic check",
          "Mailed check"
         ],
         "xaxis": "x",
         "y": {
          "bdata": "BgUKBQ4FGAU=",
          "dtype": "i2"
         },
         "yaxis": "y"
        },
        {
         "alignmentgroup": "True",
         "hovertemplate": "Churn=Yes<br>Payment_Method=%{x}<br>total_by_Payment=%{y}<br>percentage=%{text}<extra></extra>",
         "legendgroup": "Yes",
         "marker": {
          "color": "rgb(178,24,43)",
          "pattern": {
           "shape": ""
          }
         },
         "name": "Yes",
         "offsetgroup": "Yes",
         "orientation": "v",
         "showlegend": true,
         "text": {
          "bdata": "yamAX7i1MEA6PRrCd3wuQG/rlWOIpEZACLzIrFAbM0A=",
          "dtype": "f8"
         },
         "textposition": "outside",
         "texttemplate": "%{text..2f}%",
         "type": "bar",
         "x": [
          "Bank transfer (automatic)",
          "Credit card (automatic)",
          "Electronic check",
          "Mailed check"
         ],
         "xaxis": "x",
         "y": {
          "bdata": "AgHoAC8ENAE=",
          "dtype": "i2"
         },
         "yaxis": "y"
        }
       ],
       "layout": {
        "barmode": "group",
        "legend": {
         "title": {
          "text": "Churn Level"
         },
         "tracegroupgap": 0
        },
        "paper_bgcolor": "rgba(0, 0, 0, 0)",
        "plot_bgcolor": "rgba(0, 0, 0, 0)",
        "template": {
         "data": {
          "bar": [
           {
            "error_x": {
             "color": "rgb(36,36,36)"
            },
            "error_y": {
             "color": "rgb(36,36,36)"
            },
            "marker": {
             "line": {
              "color": "rgb(234,234,242)",
              "width": 0.5
             },
             "pattern": {
              "fillmode": "overlay",
              "size": 10,
              "solidity": 0.2
             }
            },
            "type": "bar"
           }
          ],
          "barpolar": [
           {
            "marker": {
             "line": {
              "color": "rgb(234,234,242)",
              "width": 0.5
             },
             "pattern": {
              "fillmode": "overlay",
              "size": 10,
              "solidity": 0.2
             }
            },
            "type": "barpolar"
           }
          ],
          "carpet": [
           {
            "aaxis": {
             "endlinecolor": "rgb(36,36,36)",
             "gridcolor": "white",
             "linecolor": "white",
             "minorgridcolor": "white",
             "startlinecolor": "rgb(36,36,36)"
            },
            "baxis": {
             "endlinecolor": "rgb(36,36,36)",
             "gridcolor": "white",
             "linecolor": "white",
             "minorgridcolor": "white",
             "startlinecolor": "rgb(36,36,36)"
            },
            "type": "carpet"
           }
          ],
          "choropleth": [
           {
            "colorbar": {
             "outlinewidth": 0,
             "tickcolor": "rgb(36,36,36)",
             "ticklen": 8,
             "ticks": "outside",
             "tickwidth": 2
            },
            "type": "choropleth"
           }
          ],
          "contour": [
           {
            "colorbar": {
             "outlinewidth": 0,
             "tickcolor": "rgb(36,36,36)",
             "ticklen": 8,
             "ticks": "outside",
             "tickwidth": 2
            },
            "colorscale": [
             [
              0,
              "rgb(2,4,25)"
             ],
             [
              0.06274509803921569,
              "rgb(24,15,41)"
             ],
             [
              0.12549019607843137,
              "rgb(47,23,57)"
             ],
             [
              0.18823529411764706,
              "rgb(71,28,72)"
             ],
             [
              0.25098039215686274,
              "rgb(97,30,82)"
             ],
             [
              0.3137254901960784,
              "rgb(123,30,89)"
             ],
             [
              0.3764705882352941,
              "rgb(150,27,91)"
             ],
             [
              0.4392156862745098,
              "rgb(177,22,88)"
             ],
             [
              0.5019607843137255,
              "rgb(203,26,79)"
             ],
             [
              0.5647058823529412,
              "rgb(223,47,67)"
             ],
             [
              0.6274509803921569,
              "rgb(236,76,61)"
             ],
             [
              0.6901960784313725,
              "rgb(242,107,73)"
             ],
             [
              0.7529411764705882,
              "rgb(244,135,95)"
             ],
             [
              0.8156862745098039,
              "rgb(245,162,122)"
             ],
             [
              0.8784313725490196,
              "rgb(246,188,153)"
             ],
             [
              0.9411764705882353,
              "rgb(247,212,187)"
             ],
             [
              1,
              "rgb(250,234,220)"
             ]
            ],
            "type": "contour"
           }
          ],
          "contourcarpet": [
           {
            "colorbar": {
             "outlinewidth": 0,
             "tickcolor": "rgb(36,36,36)",
             "ticklen": 8,
             "ticks": "outside",
             "tickwidth": 2
            },
            "type": "contourcarpet"
           }
          ],
          "heatmap": [
           {
            "colorbar": {
             "outlinewidth": 0,
             "tickcolor": "rgb(36,36,36)",
             "ticklen": 8,
             "ticks": "outside",
             "tickwidth": 2
            },
            "colorscale": [
             [
              0,
              "rgb(2,4,25)"
             ],
             [
              0.06274509803921569,
              "rgb(24,15,41)"
             ],
             [
              0.12549019607843137,
              "rgb(47,23,57)"
             ],
             [
              0.18823529411764706,
              "rgb(71,28,72)"
             ],
             [
              0.25098039215686274,
              "rgb(97,30,82)"
             ],
             [
              0.3137254901960784,
              "rgb(123,30,89)"
             ],
             [
              0.3764705882352941,
              "rgb(150,27,91)"
             ],
             [
              0.4392156862745098,
              "rgb(177,22,88)"
             ],
             [
              0.5019607843137255,
              "rgb(203,26,79)"
             ],
             [
              0.5647058823529412,
              "rgb(223,47,67)"
             ],
             [
              0.6274509803921569,
              "rgb(236,76,61)"
             ],
             [
              0.6901960784313725,
              "rgb(242,107,73)"
             ],
             [
              0.7529411764705882,
              "rgb(244,135,95)"
             ],
             [
              0.8156862745098039,
              "rgb(245,162,122)"
             ],
             [
              0.8784313725490196,
              "rgb(246,188,153)"
             ],
             [
              0.9411764705882353,
              "rgb(247,212,187)"
             ],
             [
              1,
              "rgb(250,234,220)"
             ]
            ],
            "type": "heatmap"
           }
          ],
          "histogram": [
           {
            "marker": {
             "pattern": {
              "fillmode": "overlay",
              "size": 10,
              "solidity": 0.2
             }
            },
            "type": "histogram"
           }
          ],
          "histogram2d": [
           {
            "colorbar": {
             "outlinewidth": 0,
             "tickcolor": "rgb(36,36,36)",
             "ticklen": 8,
             "ticks": "outside",
             "tickwidth": 2
            },
            "colorscale": [
             [
              0,
              "rgb(2,4,25)"
             ],
             [
              0.06274509803921569,
              "rgb(24,15,41)"
             ],
             [
              0.12549019607843137,
              "rgb(47,23,57)"
             ],
             [
              0.18823529411764706,
              "rgb(71,28,72)"
             ],
             [
              0.25098039215686274,
              "rgb(97,30,82)"
             ],
             [
              0.3137254901960784,
              "rgb(123,30,89)"
             ],
             [
              0.3764705882352941,
              "rgb(150,27,91)"
             ],
             [
              0.4392156862745098,
              "rgb(177,22,88)"
             ],
             [
              0.5019607843137255,
              "rgb(203,26,79)"
             ],
             [
              0.5647058823529412,
              "rgb(223,47,67)"
             ],
             [
              0.6274509803921569,
              "rgb(236,76,61)"
             ],
             [
              0.6901960784313725,
              "rgb(242,107,73)"
             ],
             [
              0.7529411764705882,
              "rgb(244,135,95)"
             ],
             [
              0.8156862745098039,
              "rgb(245,162,122)"
             ],
             [
              0.8784313725490196,
              "rgb(246,188,153)"
             ],
             [
              0.9411764705882353,
              "rgb(247,212,187)"
             ],
             [
              1,
              "rgb(250,234,220)"
             ]
            ],
            "type": "histogram2d"
           }
          ],
          "histogram2dcontour": [
           {
            "colorbar": {
             "outlinewidth": 0,
             "tickcolor": "rgb(36,36,36)",
             "ticklen": 8,
             "ticks": "outside",
             "tickwidth": 2
            },
            "colorscale": [
             [
              0,
              "rgb(2,4,25)"
             ],
             [
              0.06274509803921569,
              "rgb(24,15,41)"
             ],
             [
              0.12549019607843137,
              "rgb(47,23,57)"
             ],
             [
              0.18823529411764706,
              "rgb(71,28,72)"
             ],
             [
              0.25098039215686274,
              "rgb(97,30,82)"
             ],
             [
              0.3137254901960784,
              "rgb(123,30,89)"
             ],
             [
              0.3764705882352941,
              "rgb(150,27,91)"
             ],
             [
              0.4392156862745098,
              "rgb(177,22,88)"
             ],
             [
              0.5019607843137255,
              "rgb(203,26,79)"
             ],
             [
              0.5647058823529412,
              "rgb(223,47,67)"
             ],
             [
              0.6274509803921569,
              "rgb(236,76,61)"
             ],
             [
              0.6901960784313725,
              "rgb(242,107,73)"
             ],
             [
              0.7529411764705882,
              "rgb(244,135,95)"
             ],
             [
              0.8156862745098039,
              "rgb(245,162,122)"
             ],
             [
              0.8784313725490196,
              "rgb(246,188,153)"
             ],
             [
              0.9411764705882353,
              "rgb(247,212,187)"
             ],
             [
              1,
              "rgb(250,234,220)"
             ]
            ],
            "type": "histogram2dcontour"
           }
          ],
          "mesh3d": [
           {
            "colorbar": {
             "outlinewidth": 0,
             "tickcolor": "rgb(36,36,36)",
             "ticklen": 8,
             "ticks": "outside",
             "tickwidth": 2
            },
            "type": "mesh3d"
           }
          ],
          "parcoords": [
           {
            "line": {
             "colorbar": {
              "outlinewidth": 0,
              "tickcolor": "rgb(36,36,36)",
              "ticklen": 8,
              "ticks": "outside",
              "tickwidth": 2
             }
            },
            "type": "parcoords"
           }
          ],
          "pie": [
           {
            "automargin": true,
            "type": "pie"
           }
          ],
          "scatter": [
           {
            "fillpattern": {
             "fillmode": "overlay",
             "size": 10,
             "solidity": 0.2
            },
            "type": "scatter"
           }
          ],
          "scatter3d": [
           {
            "line": {
             "colorbar": {
              "outlinewidth": 0,
              "tickcolor": "rgb(36,36,36)",
              "ticklen": 8,
              "ticks": "outside",
              "tickwidth": 2
             }
            },
            "marker": {
             "colorbar": {
              "outlinewidth": 0,
              "tickcolor": "rgb(36,36,36)",
              "ticklen": 8,
              "ticks": "outside",
              "tickwidth": 2
             }
            },
            "type": "scatter3d"
           }
          ],
          "scattercarpet": [
           {
            "marker": {
             "colorbar": {
              "outlinewidth": 0,
              "tickcolor": "rgb(36,36,36)",
              "ticklen": 8,
              "ticks": "outside",
              "tickwidth": 2
             }
            },
            "type": "scattercarpet"
           }
          ],
          "scattergeo": [
           {
            "marker": {
             "colorbar": {
              "outlinewidth": 0,
              "tickcolor": "rgb(36,36,36)",
              "ticklen": 8,
              "ticks": "outside",
              "tickwidth": 2
             }
            },
            "type": "scattergeo"
           }
          ],
          "scattergl": [
           {
            "marker": {
             "colorbar": {
              "outlinewidth": 0,
              "tickcolor": "rgb(36,36,36)",
              "ticklen": 8,
              "ticks": "outside",
              "tickwidth": 2
             }
            },
            "type": "scattergl"
           }
          ],
          "scattermap": [
           {
            "marker": {
             "colorbar": {
              "outlinewidth": 0,
              "tickcolor": "rgb(36,36,36)",
              "ticklen": 8,
              "ticks": "outside",
              "tickwidth": 2
             }
            },
            "type": "scattermap"
           }
          ],
          "scattermapbox": [
           {
            "marker": {
             "colorbar": {
              "outlinewidth": 0,
              "tickcolor": "rgb(36,36,36)",
              "ticklen": 8,
              "ticks": "outside",
              "tickwidth": 2
             }
            },
            "type": "scattermapbox"
           }
          ],
          "scatterpolar": [
           {
            "marker": {
             "colorbar": {
              "outlinewidth": 0,
              "tickcolor": "rgb(36,36,36)",
              "ticklen": 8,
              "ticks": "outside",
              "tickwidth": 2
             }
            },
            "type": "scatterpolar"
           }
          ],
          "scatterpolargl": [
           {
            "marker": {
             "colorbar": {
              "outlinewidth": 0,
              "tickcolor": "rgb(36,36,36)",
              "ticklen": 8,
              "ticks": "outside",
              "tickwidth": 2
             }
            },
            "type": "scatterpolargl"
           }
          ],
          "scatterternary": [
           {
            "marker": {
             "colorbar": {
              "outlinewidth": 0,
              "tickcolor": "rgb(36,36,36)",
              "ticklen": 8,
              "ticks": "outside",
              "tickwidth": 2
             }
            },
            "type": "scatterternary"
           }
          ],
          "surface": [
           {
            "colorbar": {
             "outlinewidth": 0,
             "tickcolor": "rgb(36,36,36)",
             "ticklen": 8,
             "ticks": "outside",
             "tickwidth": 2
            },
            "colorscale": [
             [
              0,
              "rgb(2,4,25)"
             ],
             [
              0.06274509803921569,
              "rgb(24,15,41)"
             ],
             [
              0.12549019607843137,
              "rgb(47,23,57)"
             ],
             [
              0.18823529411764706,
              "rgb(71,28,72)"
             ],
             [
              0.25098039215686274,
              "rgb(97,30,82)"
             ],
             [
              0.3137254901960784,
              "rgb(123,30,89)"
             ],
             [
              0.3764705882352941,
              "rgb(150,27,91)"
             ],
             [
              0.4392156862745098,
              "rgb(177,22,88)"
             ],
             [
              0.5019607843137255,
              "rgb(203,26,79)"
             ],
             [
              0.5647058823529412,
              "rgb(223,47,67)"
             ],
             [
              0.6274509803921569,
              "rgb(236,76,61)"
             ],
             [
              0.6901960784313725,
              "rgb(242,107,73)"
             ],
             [
              0.7529411764705882,
              "rgb(244,135,95)"
             ],
             [
              0.8156862745098039,
              "rgb(245,162,122)"
             ],
             [
              0.8784313725490196,
              "rgb(246,188,153)"
             ],
             [
              0.9411764705882353,
              "rgb(247,212,187)"
             ],
             [
              1,
              "rgb(250,234,220)"
             ]
            ],
            "type": "surface"
           }
          ],
          "table": [
           {
            "cells": {
             "fill": {
              "color": "rgb(231,231,240)"
             },
             "line": {
              "color": "white"
             }
            },
            "header": {
             "fill": {
              "color": "rgb(183,183,191)"
             },
             "line": {
              "color": "white"
             }
            },
            "type": "table"
           }
          ]
         },
         "layout": {
          "annotationdefaults": {
           "arrowcolor": "rgb(67,103,167)"
          },
          "autotypenumbers": "strict",
          "coloraxis": {
           "colorbar": {
            "outlinewidth": 0,
            "tickcolor": "rgb(36,36,36)",
            "ticklen": 8,
            "ticks": "outside",
            "tickwidth": 2
           }
          },
          "colorscale": {
           "sequential": [
            [
             0,
             "rgb(2,4,25)"
            ],
            [
             0.06274509803921569,
             "rgb(24,15,41)"
            ],
            [
             0.12549019607843137,
             "rgb(47,23,57)"
            ],
            [
             0.18823529411764706,
             "rgb(71,28,72)"
            ],
            [
             0.25098039215686274,
             "rgb(97,30,82)"
            ],
            [
             0.3137254901960784,
             "rgb(123,30,89)"
            ],
            [
             0.3764705882352941,
             "rgb(150,27,91)"
            ],
            [
             0.4392156862745098,
             "rgb(177,22,88)"
            ],
            [
             0.5019607843137255,
             "rgb(203,26,79)"
            ],
            [
             0.5647058823529412,
             "rgb(223,47,67)"
            ],
            [
             0.6274509803921569,
             "rgb(236,76,61)"
            ],
            [
             0.6901960784313725,
             "rgb(242,107,73)"
            ],
            [
             0.7529411764705882,
             "rgb(244,135,95)"
            ],
            [
             0.8156862745098039,
             "rgb(245,162,122)"
            ],
            [
             0.8784313725490196,
             "rgb(246,188,153)"
            ],
            [
             0.9411764705882353,
             "rgb(247,212,187)"
            ],
            [
             1,
             "rgb(250,234,220)"
            ]
           ],
           "sequentialminus": [
            [
             0,
             "rgb(2,4,25)"
            ],
            [
             0.06274509803921569,
             "rgb(24,15,41)"
            ],
            [
             0.12549019607843137,
             "rgb(47,23,57)"
            ],
            [
             0.18823529411764706,
             "rgb(71,28,72)"
            ],
            [
             0.25098039215686274,
             "rgb(97,30,82)"
            ],
            [
             0.3137254901960784,
             "rgb(123,30,89)"
            ],
            [
             0.3764705882352941,
             "rgb(150,27,91)"
            ],
            [
             0.4392156862745098,
             "rgb(177,22,88)"
            ],
            [
             0.5019607843137255,
             "rgb(203,26,79)"
            ],
            [
             0.5647058823529412,
             "rgb(223,47,67)"
            ],
            [
             0.6274509803921569,
             "rgb(236,76,61)"
            ],
            [
             0.6901960784313725,
             "rgb(242,107,73)"
            ],
            [
             0.7529411764705882,
             "rgb(244,135,95)"
            ],
            [
             0.8156862745098039,
             "rgb(245,162,122)"
            ],
            [
             0.8784313725490196,
             "rgb(246,188,153)"
            ],
            [
             0.9411764705882353,
             "rgb(247,212,187)"
            ],
            [
             1,
             "rgb(250,234,220)"
            ]
           ]
          },
          "colorway": [
           "rgb(76,114,176)",
           "rgb(221,132,82)",
           "rgb(85,168,104)",
           "rgb(196,78,82)",
           "rgb(129,114,179)",
           "rgb(147,120,96)",
           "rgb(218,139,195)",
           "rgb(140,140,140)",
           "rgb(204,185,116)",
           "rgb(100,181,205)"
          ],
          "font": {
           "color": "rgb(36,36,36)"
          },
          "geo": {
           "bgcolor": "white",
           "lakecolor": "white",
           "landcolor": "rgb(234,234,242)",
           "showlakes": true,
           "showland": true,
           "subunitcolor": "white"
          },
          "hoverlabel": {
           "align": "left"
          },
          "hovermode": "closest",
          "paper_bgcolor": "white",
          "plot_bgcolor": "rgb(234,234,242)",
          "polar": {
           "angularaxis": {
            "gridcolor": "white",
            "linecolor": "white",
            "showgrid": true,
            "ticks": ""
           },
           "bgcolor": "rgb(234,234,242)",
           "radialaxis": {
            "gridcolor": "white",
            "linecolor": "white",
            "showgrid": true,
            "ticks": ""
           }
          },
          "scene": {
           "xaxis": {
            "backgroundcolor": "rgb(234,234,242)",
            "gridcolor": "white",
            "gridwidth": 2,
            "linecolor": "white",
            "showbackground": true,
            "showgrid": true,
            "ticks": "",
            "zerolinecolor": "white"
           },
           "yaxis": {
            "backgroundcolor": "rgb(234,234,242)",
            "gridcolor": "white",
            "gridwidth": 2,
            "linecolor": "white",
            "showbackground": true,
            "showgrid": true,
            "ticks": "",
            "zerolinecolor": "white"
           },
           "zaxis": {
            "backgroundcolor": "rgb(234,234,242)",
            "gridcolor": "white",
            "gridwidth": 2,
            "linecolor": "white",
            "showbackground": true,
            "showgrid": true,
            "ticks": "",
            "zerolinecolor": "white"
           }
          },
          "shapedefaults": {
           "fillcolor": "rgb(67,103,167)",
           "line": {
            "width": 0
           },
           "opacity": 0.5
          },
          "ternary": {
           "aaxis": {
            "gridcolor": "white",
            "linecolor": "white",
            "showgrid": true,
            "ticks": ""
           },
           "baxis": {
            "gridcolor": "white",
            "linecolor": "white",
            "showgrid": true,
            "ticks": ""
           },
           "bgcolor": "rgb(234,234,242)",
           "caxis": {
            "gridcolor": "white",
            "linecolor": "white",
            "showgrid": true,
            "ticks": ""
           }
          },
          "xaxis": {
           "automargin": true,
           "gridcolor": "white",
           "linecolor": "white",
           "showgrid": true,
           "ticks": "",
           "title": {
            "standoff": 15
           },
           "zerolinecolor": "white"
          },
          "yaxis": {
           "automargin": true,
           "gridcolor": "white",
           "linecolor": "white",
           "showgrid": true,
           "ticks": "",
           "title": {
            "standoff": 15
           },
           "zerolinecolor": "white"
          }
         }
        },
        "title": {
         "text": "Churn Distribution by Payment_Method (%)"
        },
        "xaxis": {
         "anchor": "y",
         "domain": [
          0,
          1
         ],
         "title": {
          "text": "Payment_Method"
         }
        },
        "yaxis": {
         "anchor": "x",
         "domain": [
          0,
          1
         ],
         "title": {
          "text": "Percentage of population"
         }
        }
       }
      }
     },
     "metadata": {},
     "output_type": "display_data"
    },
    {
     "data": {
      "application/vnd.plotly.v1+json": {
       "config": {
        "plotlyServerURL": "https://plot.ly"
       },
       "data": [
        {
         "alignmentgroup": "True",
         "hovertemplate": "Churn=No<br>Payment_Method=%{x}<br>total_by_Payment=%{y}<br>percentage=%{text}<extra></extra>",
         "legendgroup": "No",
         "marker": {
          "color": "rgb(103,0,31)",
          "pattern": {
           "shape": ""
          }
         },
         "name": "No",
         "offsetgroup": "No",
         "orientation": "v",
         "showlegend": true,
         "text": {
          "bdata": "jtUf6JHSVEBZuLwHcTBVQJIUapx3W0tA/tDN1Cs5VEA=",
          "dtype": "f8"
         },
         "textposition": "outside",
         "texttemplate": "%{text..2f}%",
         "type": "bar",
         "x": [
          "Bank transfer (automatic)",
          "Credit card (automatic)",
          "Electronic check",
          "Mailed check"
         ],
         "xaxis": "x",
         "y": {
          "bdata": "BgUKBQ4FGAU=",
          "dtype": "i2"
         },
         "yaxis": "y"
        },
        {
         "alignmentgroup": "True",
         "hovertemplate": "Churn=Yes<br>Payment_Method=%{x}<br>total_by_Payment=%{y}<br>percentage=%{text}<extra></extra>",
         "legendgroup": "Yes",
         "marker": {
          "color": "rgb(178,24,43)",
          "pattern": {
           "shape": ""
          }
         },
         "name": "Yes",
         "offsetgroup": "Yes",
         "orientation": "v",
         "showlegend": true,
         "text": {
          "bdata": "yamAX7i1MEA6PRrCd3wuQG/rlWOIpEZACLzIrFAbM0A=",
          "dtype": "f8"
         },
         "textposition": "outside",
         "texttemplate": "%{text..2f}%",
         "type": "bar",
         "x": [
          "Bank transfer (automatic)",
          "Credit card (automatic)",
          "Electronic check",
          "Mailed check"
         ],
         "xaxis": "x",
         "y": {
          "bdata": "AgHoAC8ENAE=",
          "dtype": "i2"
         },
         "yaxis": "y"
        }
       ],
       "layout": {
        "barmode": "group",
        "legend": {
         "title": {
          "text": "Churn Level"
         },
         "tracegroupgap": 0
        },
        "paper_bgcolor": "rgba(0, 0, 0, 0)",
        "plot_bgcolor": "rgba(0, 0, 0, 0)",
        "template": {
         "data": {
          "bar": [
           {
            "error_x": {
             "color": "rgb(36,36,36)"
            },
            "error_y": {
             "color": "rgb(36,36,36)"
            },
            "marker": {
             "line": {
              "color": "white",
              "width": 0.5
             },
             "pattern": {
              "fillmode": "overlay",
              "size": 10,
              "solidity": 0.2
             }
            },
            "type": "bar"
           }
          ],
          "barpolar": [
           {
            "marker": {
             "line": {
              "color": "white",
              "width": 0.5
             },
             "pattern": {
              "fillmode": "overlay",
              "size": 10,
              "solidity": 0.2
             }
            },
            "type": "barpolar"
           }
          ],
          "carpet": [
           {
            "aaxis": {
             "endlinecolor": "rgb(36,36,36)",
             "gridcolor": "white",
             "linecolor": "white",
             "minorgridcolor": "white",
             "startlinecolor": "rgb(36,36,36)"
            },
            "baxis": {
             "endlinecolor": "rgb(36,36,36)",
             "gridcolor": "white",
             "linecolor": "white",
             "minorgridcolor": "white",
             "startlinecolor": "rgb(36,36,36)"
            },
            "type": "carpet"
           }
          ],
          "choropleth": [
           {
            "colorbar": {
             "outlinewidth": 1,
             "tickcolor": "rgb(36,36,36)",
             "ticks": "outside"
            },
            "type": "choropleth"
           }
          ],
          "contour": [
           {
            "colorbar": {
             "outlinewidth": 1,
             "tickcolor": "rgb(36,36,36)",
             "ticks": "outside"
            },
            "colorscale": [
             [
              0,
              "#440154"
             ],
             [
              0.1111111111111111,
              "#482878"
             ],
             [
              0.2222222222222222,
              "#3e4989"
             ],
             [
              0.3333333333333333,
              "#31688e"
             ],
             [
              0.4444444444444444,
              "#26828e"
             ],
             [
              0.5555555555555556,
              "#1f9e89"
             ],
             [
              0.6666666666666666,
              "#35b779"
             ],
             [
              0.7777777777777778,
              "#6ece58"
             ],
             [
              0.8888888888888888,
              "#b5de2b"
             ],
             [
              1,
              "#fde725"
             ]
            ],
            "type": "contour"
           }
          ],
          "contourcarpet": [
           {
            "colorbar": {
             "outlinewidth": 1,
             "tickcolor": "rgb(36,36,36)",
             "ticks": "outside"
            },
            "type": "contourcarpet"
           }
          ],
          "heatmap": [
           {
            "colorbar": {
             "outlinewidth": 1,
             "tickcolor": "rgb(36,36,36)",
             "ticks": "outside"
            },
            "colorscale": [
             [
              0,
              "#440154"
             ],
             [
              0.1111111111111111,
              "#482878"
             ],
             [
              0.2222222222222222,
              "#3e4989"
             ],
             [
              0.3333333333333333,
              "#31688e"
             ],
             [
              0.4444444444444444,
              "#26828e"
             ],
             [
              0.5555555555555556,
              "#1f9e89"
             ],
             [
              0.6666666666666666,
              "#35b779"
             ],
             [
              0.7777777777777778,
              "#6ece58"
             ],
             [
              0.8888888888888888,
              "#b5de2b"
             ],
             [
              1,
              "#fde725"
             ]
            ],
            "type": "heatmap"
           }
          ],
          "histogram": [
           {
            "marker": {
             "line": {
              "color": "white",
              "width": 0.6
             }
            },
            "type": "histogram"
           }
          ],
          "histogram2d": [
           {
            "colorbar": {
             "outlinewidth": 1,
             "tickcolor": "rgb(36,36,36)",
             "ticks": "outside"
            },
            "colorscale": [
             [
              0,
              "#440154"
             ],
             [
              0.1111111111111111,
              "#482878"
             ],
             [
              0.2222222222222222,
              "#3e4989"
             ],
             [
              0.3333333333333333,
              "#31688e"
             ],
             [
              0.4444444444444444,
              "#26828e"
             ],
             [
              0.5555555555555556,
              "#1f9e89"
             ],
             [
              0.6666666666666666,
              "#35b779"
             ],
             [
              0.7777777777777778,
              "#6ece58"
             ],
             [
              0.8888888888888888,
              "#b5de2b"
             ],
             [
              1,
              "#fde725"
             ]
            ],
            "type": "histogram2d"
           }
          ],
          "histogram2dcontour": [
           {
            "colorbar": {
             "outlinewidth": 1,
             "tickcolor": "rgb(36,36,36)",
             "ticks": "outside"
            },
            "colorscale": [
             [
              0,
              "#440154"
             ],
             [
              0.1111111111111111,
              "#482878"
             ],
             [
              0.2222222222222222,
              "#3e4989"
             ],
             [
              0.3333333333333333,
              "#31688e"
             ],
             [
              0.4444444444444444,
              "#26828e"
             ],
             [
              0.5555555555555556,
              "#1f9e89"
             ],
             [
              0.6666666666666666,
              "#35b779"
             ],
             [
              0.7777777777777778,
              "#6ece58"
             ],
             [
              0.8888888888888888,
              "#b5de2b"
             ],
             [
              1,
              "#fde725"
             ]
            ],
            "type": "histogram2dcontour"
           }
          ],
          "mesh3d": [
           {
            "colorbar": {
             "outlinewidth": 1,
             "tickcolor": "rgb(36,36,36)",
             "ticks": "outside"
            },
            "type": "mesh3d"
           }
          ],
          "parcoords": [
           {
            "line": {
             "colorbar": {
              "outlinewidth": 1,
              "tickcolor": "rgb(36,36,36)",
              "ticks": "outside"
             }
            },
            "type": "parcoords"
           }
          ],
          "pie": [
           {
            "automargin": true,
            "type": "pie"
           }
          ],
          "scatter": [
           {
            "fillpattern": {
             "fillmode": "overlay",
             "size": 10,
             "solidity": 0.2
            },
            "type": "scatter"
           }
          ],
          "scatter3d": [
           {
            "line": {
             "colorbar": {
              "outlinewidth": 1,
              "tickcolor": "rgb(36,36,36)",
              "ticks": "outside"
             }
            },
            "marker": {
             "colorbar": {
              "outlinewidth": 1,
              "tickcolor": "rgb(36,36,36)",
              "ticks": "outside"
             }
            },
            "type": "scatter3d"
           }
          ],
          "scattercarpet": [
           {
            "marker": {
             "colorbar": {
              "outlinewidth": 1,
              "tickcolor": "rgb(36,36,36)",
              "ticks": "outside"
             }
            },
            "type": "scattercarpet"
           }
          ],
          "scattergeo": [
           {
            "marker": {
             "colorbar": {
              "outlinewidth": 1,
              "tickcolor": "rgb(36,36,36)",
              "ticks": "outside"
             }
            },
            "type": "scattergeo"
           }
          ],
          "scattergl": [
           {
            "marker": {
             "colorbar": {
              "outlinewidth": 1,
              "tickcolor": "rgb(36,36,36)",
              "ticks": "outside"
             }
            },
            "type": "scattergl"
           }
          ],
          "scattermap": [
           {
            "marker": {
             "colorbar": {
              "outlinewidth": 1,
              "tickcolor": "rgb(36,36,36)",
              "ticks": "outside"
             }
            },
            "type": "scattermap"
           }
          ],
          "scattermapbox": [
           {
            "marker": {
             "colorbar": {
              "outlinewidth": 1,
              "tickcolor": "rgb(36,36,36)",
              "ticks": "outside"
             }
            },
            "type": "scattermapbox"
           }
          ],
          "scatterpolar": [
           {
            "marker": {
             "colorbar": {
              "outlinewidth": 1,
              "tickcolor": "rgb(36,36,36)",
              "ticks": "outside"
             }
            },
            "type": "scatterpolar"
           }
          ],
          "scatterpolargl": [
           {
            "marker": {
             "colorbar": {
              "outlinewidth": 1,
              "tickcolor": "rgb(36,36,36)",
              "ticks": "outside"
             }
            },
            "type": "scatterpolargl"
           }
          ],
          "scatterternary": [
           {
            "marker": {
             "colorbar": {
              "outlinewidth": 1,
              "tickcolor": "rgb(36,36,36)",
              "ticks": "outside"
             }
            },
            "type": "scatterternary"
           }
          ],
          "surface": [
           {
            "colorbar": {
             "outlinewidth": 1,
             "tickcolor": "rgb(36,36,36)",
             "ticks": "outside"
            },
            "colorscale": [
             [
              0,
              "#440154"
             ],
             [
              0.1111111111111111,
              "#482878"
             ],
             [
              0.2222222222222222,
              "#3e4989"
             ],
             [
              0.3333333333333333,
              "#31688e"
             ],
             [
              0.4444444444444444,
              "#26828e"
             ],
             [
              0.5555555555555556,
              "#1f9e89"
             ],
             [
              0.6666666666666666,
              "#35b779"
             ],
             [
              0.7777777777777778,
              "#6ece58"
             ],
             [
              0.8888888888888888,
              "#b5de2b"
             ],
             [
              1,
              "#fde725"
             ]
            ],
            "type": "surface"
           }
          ],
          "table": [
           {
            "cells": {
             "fill": {
              "color": "rgb(237,237,237)"
             },
             "line": {
              "color": "white"
             }
            },
            "header": {
             "fill": {
              "color": "rgb(217,217,217)"
             },
             "line": {
              "color": "white"
             }
            },
            "type": "table"
           }
          ]
         },
         "layout": {
          "annotationdefaults": {
           "arrowhead": 0,
           "arrowwidth": 1
          },
          "autotypenumbers": "strict",
          "coloraxis": {
           "colorbar": {
            "outlinewidth": 1,
            "tickcolor": "rgb(36,36,36)",
            "ticks": "outside"
           }
          },
          "colorscale": {
           "diverging": [
            [
             0,
             "rgb(103,0,31)"
            ],
            [
             0.1,
             "rgb(178,24,43)"
            ],
            [
             0.2,
             "rgb(214,96,77)"
            ],
            [
             0.3,
             "rgb(244,165,130)"
            ],
            [
             0.4,
             "rgb(253,219,199)"
            ],
            [
             0.5,
             "rgb(247,247,247)"
            ],
            [
             0.6,
             "rgb(209,229,240)"
            ],
            [
             0.7,
             "rgb(146,197,222)"
            ],
            [
             0.8,
             "rgb(67,147,195)"
            ],
            [
             0.9,
             "rgb(33,102,172)"
            ],
            [
             1,
             "rgb(5,48,97)"
            ]
           ],
           "sequential": [
            [
             0,
             "#440154"
            ],
            [
             0.1111111111111111,
             "#482878"
            ],
            [
             0.2222222222222222,
             "#3e4989"
            ],
            [
             0.3333333333333333,
             "#31688e"
            ],
            [
             0.4444444444444444,
             "#26828e"
            ],
            [
             0.5555555555555556,
             "#1f9e89"
            ],
            [
             0.6666666666666666,
             "#35b779"
            ],
            [
             0.7777777777777778,
             "#6ece58"
            ],
            [
             0.8888888888888888,
             "#b5de2b"
            ],
            [
             1,
             "#fde725"
            ]
           ],
           "sequentialminus": [
            [
             0,
             "#440154"
            ],
            [
             0.1111111111111111,
             "#482878"
            ],
            [
             0.2222222222222222,
             "#3e4989"
            ],
            [
             0.3333333333333333,
             "#31688e"
            ],
            [
             0.4444444444444444,
             "#26828e"
            ],
            [
             0.5555555555555556,
             "#1f9e89"
            ],
            [
             0.6666666666666666,
             "#35b779"
            ],
            [
             0.7777777777777778,
             "#6ece58"
            ],
            [
             0.8888888888888888,
             "#b5de2b"
            ],
            [
             1,
             "#fde725"
            ]
           ]
          },
          "colorway": [
           "#1F77B4",
           "#FF7F0E",
           "#2CA02C",
           "#D62728",
           "#9467BD",
           "#8C564B",
           "#E377C2",
           "#7F7F7F",
           "#BCBD22",
           "#17BECF"
          ],
          "font": {
           "color": "rgb(36,36,36)"
          },
          "geo": {
           "bgcolor": "white",
           "lakecolor": "white",
           "landcolor": "white",
           "showlakes": true,
           "showland": true,
           "subunitcolor": "white"
          },
          "hoverlabel": {
           "align": "left"
          },
          "hovermode": "closest",
          "mapbox": {
           "style": "light"
          },
          "paper_bgcolor": "white",
          "plot_bgcolor": "white",
          "polar": {
           "angularaxis": {
            "gridcolor": "rgb(232,232,232)",
            "linecolor": "rgb(36,36,36)",
            "showgrid": false,
            "showline": true,
            "ticks": "outside"
           },
           "bgcolor": "white",
           "radialaxis": {
            "gridcolor": "rgb(232,232,232)",
            "linecolor": "rgb(36,36,36)",
            "showgrid": false,
            "showline": true,
            "ticks": "outside"
           }
          },
          "scene": {
           "xaxis": {
            "backgroundcolor": "white",
            "gridcolor": "rgb(232,232,232)",
            "gridwidth": 2,
            "linecolor": "rgb(36,36,36)",
            "showbackground": true,
            "showgrid": false,
            "showline": true,
            "ticks": "outside",
            "zeroline": false,
            "zerolinecolor": "rgb(36,36,36)"
           },
           "yaxis": {
            "backgroundcolor": "white",
            "gridcolor": "rgb(232,232,232)",
            "gridwidth": 2,
            "linecolor": "rgb(36,36,36)",
            "showbackground": true,
            "showgrid": false,
            "showline": true,
            "ticks": "outside",
            "zeroline": false,
            "zerolinecolor": "rgb(36,36,36)"
           },
           "zaxis": {
            "backgroundcolor": "white",
            "gridcolor": "rgb(232,232,232)",
            "gridwidth": 2,
            "linecolor": "rgb(36,36,36)",
            "showbackground": true,
            "showgrid": false,
            "showline": true,
            "ticks": "outside",
            "zeroline": false,
            "zerolinecolor": "rgb(36,36,36)"
           }
          },
          "shapedefaults": {
           "fillcolor": "black",
           "line": {
            "width": 0
           },
           "opacity": 0.3
          },
          "ternary": {
           "aaxis": {
            "gridcolor": "rgb(232,232,232)",
            "linecolor": "rgb(36,36,36)",
            "showgrid": false,
            "showline": true,
            "ticks": "outside"
           },
           "baxis": {
            "gridcolor": "rgb(232,232,232)",
            "linecolor": "rgb(36,36,36)",
            "showgrid": false,
            "showline": true,
            "ticks": "outside"
           },
           "bgcolor": "white",
           "caxis": {
            "gridcolor": "rgb(232,232,232)",
            "linecolor": "rgb(36,36,36)",
            "showgrid": false,
            "showline": true,
            "ticks": "outside"
           }
          },
          "title": {
           "x": 0.05
          },
          "xaxis": {
           "automargin": true,
           "gridcolor": "rgb(232,232,232)",
           "linecolor": "rgb(36,36,36)",
           "showgrid": false,
           "showline": true,
           "ticks": "outside",
           "title": {
            "standoff": 15
           },
           "zeroline": false,
           "zerolinecolor": "rgb(36,36,36)"
          },
          "yaxis": {
           "automargin": true,
           "gridcolor": "rgb(232,232,232)",
           "linecolor": "rgb(36,36,36)",
           "showgrid": false,
           "showline": true,
           "ticks": "outside",
           "title": {
            "standoff": 15
           },
           "zeroline": false,
           "zerolinecolor": "rgb(36,36,36)"
          }
         }
        },
        "title": {
         "text": "Churn Distribution by Payment_Method (%)"
        },
        "xaxis": {
         "anchor": "y",
         "domain": [
          0,
          1
         ],
         "title": {
          "text": "Payment_Method"
         }
        },
        "yaxis": {
         "anchor": "x",
         "domain": [
          0,
          1
         ],
         "title": {
          "text": "Percentage of population"
         }
        }
       }
      }
     },
     "metadata": {},
     "output_type": "display_data"
    },
    {
     "data": {
      "application/vnd.plotly.v1+json": {
       "config": {
        "plotlyServerURL": "https://plot.ly"
       },
       "data": [
        {
         "alignmentgroup": "True",
         "hovertemplate": "Churn=No<br>Payment_Method=%{x}<br>total_by_Payment=%{y}<br>percentage=%{text}<extra></extra>",
         "legendgroup": "No",
         "marker": {
          "color": "rgb(103,0,31)",
          "pattern": {
           "shape": ""
          }
         },
         "name": "No",
         "offsetgroup": "No",
         "orientation": "v",
         "showlegend": true,
         "text": {
          "bdata": "jtUf6JHSVEBZuLwHcTBVQJIUapx3W0tA/tDN1Cs5VEA=",
          "dtype": "f8"
         },
         "textposition": "outside",
         "texttemplate": "%{text..2f}%",
         "type": "bar",
         "x": [
          "Bank transfer (automatic)",
          "Credit card (automatic)",
          "Electronic check",
          "Mailed check"
         ],
         "xaxis": "x",
         "y": {
          "bdata": "BgUKBQ4FGAU=",
          "dtype": "i2"
         },
         "yaxis": "y"
        },
        {
         "alignmentgroup": "True",
         "hovertemplate": "Churn=Yes<br>Payment_Method=%{x}<br>total_by_Payment=%{y}<br>percentage=%{text}<extra></extra>",
         "legendgroup": "Yes",
         "marker": {
          "color": "rgb(178,24,43)",
          "pattern": {
           "shape": ""
          }
         },
         "name": "Yes",
         "offsetgroup": "Yes",
         "orientation": "v",
         "showlegend": true,
         "text": {
          "bdata": "yamAX7i1MEA6PRrCd3wuQG/rlWOIpEZACLzIrFAbM0A=",
          "dtype": "f8"
         },
         "textposition": "outside",
         "texttemplate": "%{text..2f}%",
         "type": "bar",
         "x": [
          "Bank transfer (automatic)",
          "Credit card (automatic)",
          "Electronic check",
          "Mailed check"
         ],
         "xaxis": "x",
         "y": {
          "bdata": "AgHoAC8ENAE=",
          "dtype": "i2"
         },
         "yaxis": "y"
        }
       ],
       "layout": {
        "barmode": "group",
        "legend": {
         "title": {
          "text": "Churn Level"
         },
         "tracegroupgap": 0
        },
        "paper_bgcolor": "rgba(0, 0, 0, 0)",
        "plot_bgcolor": "rgba(0, 0, 0, 0)",
        "template": {
         "data": {
          "pie": [
           {
            "automargin": true,
            "type": "pie"
           }
          ],
          "scatter": [
           {
            "line": {
             "width": 3
            },
            "marker": {
             "size": 9
            },
            "type": "scatter"
           }
          ],
          "scatter3d": [
           {
            "line": {
             "width": 3
            },
            "marker": {
             "size": 9
            },
            "type": "scatter3d"
           }
          ],
          "scattergeo": [
           {
            "line": {
             "width": 3
            },
            "marker": {
             "size": 9
            },
            "type": "scattergeo"
           }
          ],
          "scattergl": [
           {
            "line": {
             "width": 3
            },
            "marker": {
             "size": 9
            },
            "type": "scattergl"
           }
          ],
          "scatterpolar": [
           {
            "line": {
             "width": 3
            },
            "marker": {
             "size": 9
            },
            "type": "scatterpolar"
           }
          ],
          "scatterpolargl": [
           {
            "line": {
             "width": 3
            },
            "marker": {
             "size": 9
            },
            "type": "scatterpolargl"
           }
          ],
          "scatterternary": [
           {
            "line": {
             "width": 3
            },
            "marker": {
             "size": 9
            },
            "type": "scatterternary"
           }
          ],
          "table": [
           {
            "cells": {
             "height": 30
            },
            "header": {
             "height": 36
            },
            "type": "table"
           }
          ]
         },
         "layout": {
          "font": {
           "size": 18
          },
          "xaxis": {
           "title": {
            "standoff": 15
           }
          },
          "yaxis": {
           "title": {
            "standoff": 15
           }
          }
         }
        },
        "title": {
         "text": "Churn Distribution by Payment_Method (%)"
        },
        "xaxis": {
         "anchor": "y",
         "domain": [
          0,
          1
         ],
         "title": {
          "text": "Payment_Method"
         }
        },
        "yaxis": {
         "anchor": "x",
         "domain": [
          0,
          1
         ],
         "title": {
          "text": "Percentage of population"
         }
        }
       }
      }
     },
     "metadata": {},
     "output_type": "display_data"
    },
    {
     "data": {
      "application/vnd.plotly.v1+json": {
       "config": {
        "plotlyServerURL": "https://plot.ly"
       },
       "data": [
        {
         "alignmentgroup": "True",
         "hovertemplate": "Churn=No<br>Payment_Method=%{x}<br>total_by_Payment=%{y}<br>percentage=%{text}<extra></extra>",
         "legendgroup": "No",
         "marker": {
          "color": "rgb(103,0,31)",
          "pattern": {
           "shape": ""
          }
         },
         "name": "No",
         "offsetgroup": "No",
         "orientation": "v",
         "showlegend": true,
         "text": {
          "bdata": "jtUf6JHSVEBZuLwHcTBVQJIUapx3W0tA/tDN1Cs5VEA=",
          "dtype": "f8"
         },
         "textposition": "outside",
         "texttemplate": "%{text..2f}%",
         "type": "bar",
         "x": [
          "Bank transfer (automatic)",
          "Credit card (automatic)",
          "Electronic check",
          "Mailed check"
         ],
         "xaxis": "x",
         "y": {
          "bdata": "BgUKBQ4FGAU=",
          "dtype": "i2"
         },
         "yaxis": "y"
        },
        {
         "alignmentgroup": "True",
         "hovertemplate": "Churn=Yes<br>Payment_Method=%{x}<br>total_by_Payment=%{y}<br>percentage=%{text}<extra></extra>",
         "legendgroup": "Yes",
         "marker": {
          "color": "rgb(178,24,43)",
          "pattern": {
           "shape": ""
          }
         },
         "name": "Yes",
         "offsetgroup": "Yes",
         "orientation": "v",
         "showlegend": true,
         "text": {
          "bdata": "yamAX7i1MEA6PRrCd3wuQG/rlWOIpEZACLzIrFAbM0A=",
          "dtype": "f8"
         },
         "textposition": "outside",
         "texttemplate": "%{text..2f}%",
         "type": "bar",
         "x": [
          "Bank transfer (automatic)",
          "Credit card (automatic)",
          "Electronic check",
          "Mailed check"
         ],
         "xaxis": "x",
         "y": {
          "bdata": "AgHoAC8ENAE=",
          "dtype": "i2"
         },
         "yaxis": "y"
        }
       ],
       "layout": {
        "barmode": "group",
        "legend": {
         "title": {
          "text": "Churn Level"
         },
         "tracegroupgap": 0
        },
        "paper_bgcolor": "rgba(0, 0, 0, 0)",
        "plot_bgcolor": "rgba(0, 0, 0, 0)",
        "template": {
         "data": {
          "pie": [
           {
            "automargin": true,
            "type": "pie"
           }
          ]
         },
         "layout": {
          "xaxis": {
           "showgrid": false,
           "title": {
            "standoff": 15
           }
          },
          "yaxis": {
           "title": {
            "standoff": 15
           }
          }
         }
        },
        "title": {
         "text": "Churn Distribution by Payment_Method (%)"
        },
        "xaxis": {
         "anchor": "y",
         "domain": [
          0,
          1
         ],
         "title": {
          "text": "Payment_Method"
         }
        },
        "yaxis": {
         "anchor": "x",
         "domain": [
          0,
          1
         ],
         "title": {
          "text": "Percentage of population"
         }
        }
       }
      }
     },
     "metadata": {},
     "output_type": "display_data"
    },
    {
     "data": {
      "application/vnd.plotly.v1+json": {
       "config": {
        "plotlyServerURL": "https://plot.ly"
       },
       "data": [
        {
         "alignmentgroup": "True",
         "hovertemplate": "Churn=No<br>Payment_Method=%{x}<br>total_by_Payment=%{y}<br>percentage=%{text}<extra></extra>",
         "legendgroup": "No",
         "marker": {
          "color": "rgb(103,0,31)",
          "pattern": {
           "shape": ""
          }
         },
         "name": "No",
         "offsetgroup": "No",
         "orientation": "v",
         "showlegend": true,
         "text": {
          "bdata": "jtUf6JHSVEBZuLwHcTBVQJIUapx3W0tA/tDN1Cs5VEA=",
          "dtype": "f8"
         },
         "textposition": "outside",
         "texttemplate": "%{text..2f}%",
         "type": "bar",
         "x": [
          "Bank transfer (automatic)",
          "Credit card (automatic)",
          "Electronic check",
          "Mailed check"
         ],
         "xaxis": "x",
         "y": {
          "bdata": "BgUKBQ4FGAU=",
          "dtype": "i2"
         },
         "yaxis": "y"
        },
        {
         "alignmentgroup": "True",
         "hovertemplate": "Churn=Yes<br>Payment_Method=%{x}<br>total_by_Payment=%{y}<br>percentage=%{text}<extra></extra>",
         "legendgroup": "Yes",
         "marker": {
          "color": "rgb(178,24,43)",
          "pattern": {
           "shape": ""
          }
         },
         "name": "Yes",
         "offsetgroup": "Yes",
         "orientation": "v",
         "showlegend": true,
         "text": {
          "bdata": "yamAX7i1MEA6PRrCd3wuQG/rlWOIpEZACLzIrFAbM0A=",
          "dtype": "f8"
         },
         "textposition": "outside",
         "texttemplate": "%{text..2f}%",
         "type": "bar",
         "x": [
          "Bank transfer (automatic)",
          "Credit card (automatic)",
          "Electronic check",
          "Mailed check"
         ],
         "xaxis": "x",
         "y": {
          "bdata": "AgHoAC8ENAE=",
          "dtype": "i2"
         },
         "yaxis": "y"
        }
       ],
       "layout": {
        "barmode": "group",
        "legend": {
         "title": {
          "text": "Churn Level"
         },
         "tracegroupgap": 0
        },
        "paper_bgcolor": "rgba(0, 0, 0, 0)",
        "plot_bgcolor": "rgba(0, 0, 0, 0)",
        "template": {
         "data": {
          "pie": [
           {
            "automargin": true,
            "type": "pie"
           }
          ]
         },
         "layout": {
          "yaxis": {
           "showgrid": false
          }
         }
        },
        "title": {
         "text": "Churn Distribution by Payment_Method (%)"
        },
        "xaxis": {
         "anchor": "y",
         "domain": [
          0,
          1
         ],
         "title": {
          "text": "Payment_Method"
         }
        },
        "yaxis": {
         "anchor": "x",
         "domain": [
          0,
          1
         ],
         "title": {
          "text": "Percentage of population"
         }
        }
       }
      }
     },
     "metadata": {},
     "output_type": "display_data"
    },
    {
     "data": {
      "application/vnd.plotly.v1+json": {
       "config": {
        "plotlyServerURL": "https://plot.ly"
       },
       "data": [
        {
         "alignmentgroup": "True",
         "hovertemplate": "Churn=No<br>Payment_Method=%{x}<br>total_by_Payment=%{y}<br>percentage=%{text}<extra></extra>",
         "legendgroup": "No",
         "marker": {
          "color": "rgb(103,0,31)",
          "pattern": {
           "shape": ""
          }
         },
         "name": "No",
         "offsetgroup": "No",
         "orientation": "v",
         "showlegend": true,
         "text": {
          "bdata": "jtUf6JHSVEBZuLwHcTBVQJIUapx3W0tA/tDN1Cs5VEA=",
          "dtype": "f8"
         },
         "textposition": "outside",
         "texttemplate": "%{text..2f}%",
         "type": "bar",
         "x": [
          "Bank transfer (automatic)",
          "Credit card (automatic)",
          "Electronic check",
          "Mailed check"
         ],
         "xaxis": "x",
         "y": {
          "bdata": "BgUKBQ4FGAU=",
          "dtype": "i2"
         },
         "yaxis": "y"
        },
        {
         "alignmentgroup": "True",
         "hovertemplate": "Churn=Yes<br>Payment_Method=%{x}<br>total_by_Payment=%{y}<br>percentage=%{text}<extra></extra>",
         "legendgroup": "Yes",
         "marker": {
          "color": "rgb(178,24,43)",
          "pattern": {
           "shape": ""
          }
         },
         "name": "Yes",
         "offsetgroup": "Yes",
         "orientation": "v",
         "showlegend": true,
         "text": {
          "bdata": "yamAX7i1MEA6PRrCd3wuQG/rlWOIpEZACLzIrFAbM0A=",
          "dtype": "f8"
         },
         "textposition": "outside",
         "texttemplate": "%{text..2f}%",
         "type": "bar",
         "x": [
          "Bank transfer (automatic)",
          "Credit card (automatic)",
          "Electronic check",
          "Mailed check"
         ],
         "xaxis": "x",
         "y": {
          "bdata": "AgHoAC8ENAE=",
          "dtype": "i2"
         },
         "yaxis": "y"
        }
       ],
       "layout": {
        "barmode": "group",
        "legend": {
         "title": {
          "text": "Churn Level"
         },
         "tracegroupgap": 0
        },
        "paper_bgcolor": "rgba(0, 0, 0, 0)",
        "plot_bgcolor": "rgba(0, 0, 0, 0)",
        "template": {
         "data": {
          "pie": [
           {
            "automargin": true,
            "type": "pie"
           }
          ]
         },
         "layout": {
          "xaxis": {
           "showgrid": true,
           "title": {
            "standoff": 15
           }
          },
          "yaxis": {
           "showgrid": true,
           "title": {
            "standoff": 15
           }
          }
         }
        },
        "title": {
         "text": "Churn Distribution by Payment_Method (%)"
        },
        "xaxis": {
         "anchor": "y",
         "domain": [
          0,
          1
         ],
         "title": {
          "text": "Payment_Method"
         }
        },
        "yaxis": {
         "anchor": "x",
         "domain": [
          0,
          1
         ],
         "title": {
          "text": "Percentage of population"
         }
        }
       }
      }
     },
     "metadata": {},
     "output_type": "display_data"
    },
    {
     "data": {
      "application/vnd.plotly.v1+json": {
       "config": {
        "plotlyServerURL": "https://plot.ly"
       },
       "data": [
        {
         "alignmentgroup": "True",
         "hovertemplate": "Churn=No<br>Payment_Method=%{x}<br>total_by_Payment=%{y}<br>percentage=%{text}<extra></extra>",
         "legendgroup": "No",
         "marker": {
          "color": "rgb(103,0,31)",
          "pattern": {
           "shape": ""
          }
         },
         "name": "No",
         "offsetgroup": "No",
         "orientation": "v",
         "showlegend": true,
         "text": {
          "bdata": "jtUf6JHSVEBZuLwHcTBVQJIUapx3W0tA/tDN1Cs5VEA=",
          "dtype": "f8"
         },
         "textposition": "outside",
         "texttemplate": "%{text..2f}%",
         "type": "bar",
         "x": [
          "Bank transfer (automatic)",
          "Credit card (automatic)",
          "Electronic check",
          "Mailed check"
         ],
         "xaxis": "x",
         "y": {
          "bdata": "BgUKBQ4FGAU=",
          "dtype": "i2"
         },
         "yaxis": "y"
        },
        {
         "alignmentgroup": "True",
         "hovertemplate": "Churn=Yes<br>Payment_Method=%{x}<br>total_by_Payment=%{y}<br>percentage=%{text}<extra></extra>",
         "legendgroup": "Yes",
         "marker": {
          "color": "rgb(178,24,43)",
          "pattern": {
           "shape": ""
          }
         },
         "name": "Yes",
         "offsetgroup": "Yes",
         "orientation": "v",
         "showlegend": true,
         "text": {
          "bdata": "yamAX7i1MEA6PRrCd3wuQG/rlWOIpEZACLzIrFAbM0A=",
          "dtype": "f8"
         },
         "textposition": "outside",
         "texttemplate": "%{text..2f}%",
         "type": "bar",
         "x": [
          "Bank transfer (automatic)",
          "Credit card (automatic)",
          "Electronic check",
          "Mailed check"
         ],
         "xaxis": "x",
         "y": {
          "bdata": "AgHoAC8ENAE=",
          "dtype": "i2"
         },
         "yaxis": "y"
        }
       ],
       "layout": {
        "barmode": "group",
        "legend": {
         "title": {
          "text": "Churn Level"
         },
         "tracegroupgap": 0
        },
        "paper_bgcolor": "rgba(0, 0, 0, 0)",
        "plot_bgcolor": "rgba(0, 0, 0, 0)",
        "template": {
         "data": {
          "scatter": [
           {
            "type": "scatter"
           }
          ]
         }
        },
        "title": {
         "text": "Churn Distribution by Payment_Method (%)"
        },
        "xaxis": {
         "anchor": "y",
         "domain": [
          0,
          1
         ],
         "title": {
          "text": "Payment_Method"
         }
        },
        "yaxis": {
         "anchor": "x",
         "domain": [
          0,
          1
         ],
         "title": {
          "text": "Percentage of population"
         }
        }
       }
      }
     },
     "metadata": {},
     "output_type": "display_data"
    }
   ],
   "source": [
    "themes = [\"plotly\", \"plotly_white\", \"plotly_dark\", \"ggplot2\", \"seaborn\", \"simple_white\", \"presentation\", \"xgridoff\", \"ygridoff\", \"gridon\", \"none\"]\n",
    "\n",
    "for theme in themes:\n",
    "    fig.update_layout(template=theme)\n",
    "    fig.show()"
   ]
  },
  {
   "cell_type": "code",
   "execution_count": 23,
   "id": "517fba57",
   "metadata": {},
   "outputs": [],
   "source": [
    "#pip install -U kaleido"
   ]
  },
  {
   "cell_type": "code",
   "execution_count": 24,
   "id": "0f7b848b",
   "metadata": {},
   "outputs": [],
   "source": [
    "#pip install -U plotly"
   ]
  },
  {
   "cell_type": "markdown",
   "id": "82d4701d",
   "metadata": {},
   "source": [
    "## Churn by Monthly_Charges"
   ]
  },
  {
   "cell_type": "code",
   "execution_count": 25,
   "id": "3d08d028",
   "metadata": {},
   "outputs": [
    {
     "data": {
      "text/html": [
       "<div>\n",
       "<style scoped>\n",
       "    .dataframe tbody tr th:only-of-type {\n",
       "        vertical-align: middle;\n",
       "    }\n",
       "\n",
       "    .dataframe tbody tr th {\n",
       "        vertical-align: top;\n",
       "    }\n",
       "\n",
       "    .dataframe thead th {\n",
       "        text-align: right;\n",
       "    }\n",
       "</style>\n",
       "<table border=\"1\" class=\"dataframe\">\n",
       "  <thead>\n",
       "    <tr style=\"text-align: right;\">\n",
       "      <th></th>\n",
       "      <th>Monthly_Charges</th>\n",
       "      <th>Churn</th>\n",
       "      <th>total_Churn_distribution</th>\n",
       "    </tr>\n",
       "  </thead>\n",
       "  <tbody>\n",
       "    <tr>\n",
       "      <th>0</th>\n",
       "      <td>18.25</td>\n",
       "      <td>No</td>\n",
       "      <td>1</td>\n",
       "    </tr>\n",
       "    <tr>\n",
       "      <th>1</th>\n",
       "      <td>18.40</td>\n",
       "      <td>No</td>\n",
       "      <td>1</td>\n",
       "    </tr>\n",
       "    <tr>\n",
       "      <th>2</th>\n",
       "      <td>18.55</td>\n",
       "      <td>No</td>\n",
       "      <td>1</td>\n",
       "    </tr>\n",
       "    <tr>\n",
       "      <th>3</th>\n",
       "      <td>18.70</td>\n",
       "      <td>No</td>\n",
       "      <td>2</td>\n",
       "    </tr>\n",
       "    <tr>\n",
       "      <th>4</th>\n",
       "      <td>18.75</td>\n",
       "      <td>No</td>\n",
       "      <td>1</td>\n",
       "    </tr>\n",
       "    <tr>\n",
       "      <th>...</th>\n",
       "      <td>...</td>\n",
       "      <td>...</td>\n",
       "      <td>...</td>\n",
       "    </tr>\n",
       "    <tr>\n",
       "      <th>2365</th>\n",
       "      <td>118.20</td>\n",
       "      <td>No</td>\n",
       "      <td>1</td>\n",
       "    </tr>\n",
       "    <tr>\n",
       "      <th>2366</th>\n",
       "      <td>118.35</td>\n",
       "      <td>Yes</td>\n",
       "      <td>1</td>\n",
       "    </tr>\n",
       "    <tr>\n",
       "      <th>2367</th>\n",
       "      <td>118.60</td>\n",
       "      <td>No</td>\n",
       "      <td>2</td>\n",
       "    </tr>\n",
       "    <tr>\n",
       "      <th>2368</th>\n",
       "      <td>118.65</td>\n",
       "      <td>No</td>\n",
       "      <td>1</td>\n",
       "    </tr>\n",
       "    <tr>\n",
       "      <th>2369</th>\n",
       "      <td>118.75</td>\n",
       "      <td>No</td>\n",
       "      <td>1</td>\n",
       "    </tr>\n",
       "  </tbody>\n",
       "</table>\n",
       "<p>2370 rows × 3 columns</p>\n",
       "</div>"
      ],
      "text/plain": [
       "      Monthly_Charges Churn  total_Churn_distribution\n",
       "0               18.25    No                         1\n",
       "1               18.40    No                         1\n",
       "2               18.55    No                         1\n",
       "3               18.70    No                         2\n",
       "4               18.75    No                         1\n",
       "...               ...   ...                       ...\n",
       "2365           118.20    No                         1\n",
       "2366           118.35   Yes                         1\n",
       "2367           118.60    No                         2\n",
       "2368           118.65    No                         1\n",
       "2369           118.75    No                         1\n",
       "\n",
       "[2370 rows x 3 columns]"
      ]
     },
     "execution_count": 25,
     "metadata": {},
     "output_type": "execute_result"
    }
   ],
   "source": [
    "telecom_df_Churn_Monthly_Charges = telecom_df.groupby(['Monthly_Charges', 'Churn']).size().reset_index(name='total_Churn_distribution')\n",
    "telecom_df_Churn_Monthly_Charges"
   ]
  },
  {
   "cell_type": "code",
   "execution_count": 26,
   "id": "7c390d05",
   "metadata": {},
   "outputs": [
    {
     "data": {
      "text/plain": [
       "Monthly_Charges\n",
       "18.25     1\n",
       "18.40     1\n",
       "18.55     1\n",
       "18.70     1\n",
       "18.75     1\n",
       "         ..\n",
       "118.20    1\n",
       "118.35    1\n",
       "118.60    1\n",
       "118.65    1\n",
       "118.75    1\n",
       "Length: 1585, dtype: int64"
      ]
     },
     "execution_count": 26,
     "metadata": {},
     "output_type": "execute_result"
    }
   ],
   "source": [
    "total_per_group = telecom_df_Churn_Monthly_Charges.groupby('Monthly_Charges').size()\n",
    "total_per_group"
   ]
  },
  {
   "cell_type": "code",
   "execution_count": 27,
   "id": "f79bed1f",
   "metadata": {},
   "outputs": [
    {
     "data": {
      "text/plain": [
       "0       1\n",
       "1       1\n",
       "2       1\n",
       "3       2\n",
       "4       1\n",
       "       ..\n",
       "2365    1\n",
       "2366    1\n",
       "2367    2\n",
       "2368    1\n",
       "2369    1\n",
       "Name: total_Churn_distribution, Length: 2370, dtype: int64"
      ]
     },
     "execution_count": 27,
     "metadata": {},
     "output_type": "execute_result"
    }
   ],
   "source": [
    "total_per_group = telecom_df_Churn_Monthly_Charges.groupby('Monthly_Charges')['total_Churn_distribution'].transform('sum')\n",
    "total_per_group"
   ]
  },
  {
   "cell_type": "code",
   "execution_count": 28,
   "id": "468d7de1",
   "metadata": {},
   "outputs": [
    {
     "data": {
      "text/html": [
       "<div>\n",
       "<style scoped>\n",
       "    .dataframe tbody tr th:only-of-type {\n",
       "        vertical-align: middle;\n",
       "    }\n",
       "\n",
       "    .dataframe tbody tr th {\n",
       "        vertical-align: top;\n",
       "    }\n",
       "\n",
       "    .dataframe thead th {\n",
       "        text-align: right;\n",
       "    }\n",
       "</style>\n",
       "<table border=\"1\" class=\"dataframe\">\n",
       "  <thead>\n",
       "    <tr style=\"text-align: right;\">\n",
       "      <th></th>\n",
       "      <th>Monthly_Charges</th>\n",
       "      <th>Churn</th>\n",
       "      <th>total_Churn_distribution</th>\n",
       "      <th>percentage</th>\n",
       "    </tr>\n",
       "  </thead>\n",
       "  <tbody>\n",
       "    <tr>\n",
       "      <th>0</th>\n",
       "      <td>18.25</td>\n",
       "      <td>No</td>\n",
       "      <td>1</td>\n",
       "      <td>100.0</td>\n",
       "    </tr>\n",
       "    <tr>\n",
       "      <th>1</th>\n",
       "      <td>18.40</td>\n",
       "      <td>No</td>\n",
       "      <td>1</td>\n",
       "      <td>100.0</td>\n",
       "    </tr>\n",
       "    <tr>\n",
       "      <th>2</th>\n",
       "      <td>18.55</td>\n",
       "      <td>No</td>\n",
       "      <td>1</td>\n",
       "      <td>100.0</td>\n",
       "    </tr>\n",
       "    <tr>\n",
       "      <th>3</th>\n",
       "      <td>18.70</td>\n",
       "      <td>No</td>\n",
       "      <td>2</td>\n",
       "      <td>100.0</td>\n",
       "    </tr>\n",
       "    <tr>\n",
       "      <th>4</th>\n",
       "      <td>18.75</td>\n",
       "      <td>No</td>\n",
       "      <td>1</td>\n",
       "      <td>100.0</td>\n",
       "    </tr>\n",
       "    <tr>\n",
       "      <th>...</th>\n",
       "      <td>...</td>\n",
       "      <td>...</td>\n",
       "      <td>...</td>\n",
       "      <td>...</td>\n",
       "    </tr>\n",
       "    <tr>\n",
       "      <th>2365</th>\n",
       "      <td>118.20</td>\n",
       "      <td>No</td>\n",
       "      <td>1</td>\n",
       "      <td>100.0</td>\n",
       "    </tr>\n",
       "    <tr>\n",
       "      <th>2366</th>\n",
       "      <td>118.35</td>\n",
       "      <td>Yes</td>\n",
       "      <td>1</td>\n",
       "      <td>100.0</td>\n",
       "    </tr>\n",
       "    <tr>\n",
       "      <th>2367</th>\n",
       "      <td>118.60</td>\n",
       "      <td>No</td>\n",
       "      <td>2</td>\n",
       "      <td>100.0</td>\n",
       "    </tr>\n",
       "    <tr>\n",
       "      <th>2368</th>\n",
       "      <td>118.65</td>\n",
       "      <td>No</td>\n",
       "      <td>1</td>\n",
       "      <td>100.0</td>\n",
       "    </tr>\n",
       "    <tr>\n",
       "      <th>2369</th>\n",
       "      <td>118.75</td>\n",
       "      <td>No</td>\n",
       "      <td>1</td>\n",
       "      <td>100.0</td>\n",
       "    </tr>\n",
       "  </tbody>\n",
       "</table>\n",
       "<p>2370 rows × 4 columns</p>\n",
       "</div>"
      ],
      "text/plain": [
       "      Monthly_Charges Churn  total_Churn_distribution  percentage\n",
       "0               18.25    No                         1       100.0\n",
       "1               18.40    No                         1       100.0\n",
       "2               18.55    No                         1       100.0\n",
       "3               18.70    No                         2       100.0\n",
       "4               18.75    No                         1       100.0\n",
       "...               ...   ...                       ...         ...\n",
       "2365           118.20    No                         1       100.0\n",
       "2366           118.35   Yes                         1       100.0\n",
       "2367           118.60    No                         2       100.0\n",
       "2368           118.65    No                         1       100.0\n",
       "2369           118.75    No                         1       100.0\n",
       "\n",
       "[2370 rows x 4 columns]"
      ]
     },
     "execution_count": 28,
     "metadata": {},
     "output_type": "execute_result"
    }
   ],
   "source": [
    "total_per_group = telecom_df_Churn_Monthly_Charges.groupby('Monthly_Charges')['total_Churn_distribution'].transform('sum')\n",
    "telecom_df_Churn_Monthly_Charges['percentage'] = (telecom_df_Churn_Monthly_Charges['total_Churn_distribution']/total_per_group) * 100\n",
    "telecom_df_Churn_Monthly_Charges"
   ]
  },
  {
   "cell_type": "code",
   "execution_count": 29,
   "id": "d9bcea2e",
   "metadata": {},
   "outputs": [
    {
     "data": {
      "application/vnd.plotly.v1+json": {
       "config": {
        "plotlyServerURL": "https://plot.ly"
       },
       "data": [
        {
         "alignmentgroup": "True",
         "hovertemplate": "Churn=No<br>Monthly_Charges=%{x}<br>percentage=%{text}<extra></extra>",
         "legendgroup": "No",
         "marker": {
          "color": "rgb(103,0,31)",
          "pattern": {
           "shape": ""
          }
         },
         "name": "No",
         "offsetgroup": "No",
         "orientation": "v",
         "showlegend": true,
         "text": {
          "bdata": "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",
          "dtype": "f8"
         },
         "textposition": "outside",
         "texttemplate": "%{text:.2f}%",
         "type": "bar",
         "x": {
          "bdata": "AAAAAABAMkBmZmZmZmYyQM3MzMzMjDJAMzMzMzOzMkAAAAAAAMAyQM3MzMzMzDJAmpmZmZnZMkBmZmZmZuYyQDMzMzMz8zJAAAAAAAAAM0DNzMzMzAwzQJqZmZmZGTNAZmZmZmYmM0AzMzMzMzMzQAAAAAAAQDNAzczMzMxMM0CamZmZmVkzQGZmZmZmZjNAMzMzMzNzM0AAAAAAAIAzQM3MzMzMjDNAmpmZmZmZM0BmZmZmZqYzQDMzMzMzszNAAAAAAADAM0DNzMzMzMwzQJqZmZmZ2TNAZmZmZmbmM0AzMzMzM/MzQAAAAAAAADRAzczMzMwMNECamZmZmRk0QGZmZmZmJjRAMzMzMzMzNEAAAAAAAEA0QM3MzMzMTDRAmpmZmZlZNEBmZmZmZmY0QDMzMzMzczRAAAAAAACANEDNzMzMzIw0QJqZmZmZmTRAZmZmZmamNEAzMzMzM7M0QAAAAAAAwDRAzczMzMzMNECamZmZmdk0QGZmZmZm5jRAMzMzMzPzNEAAAAAAAAA1QM3MzMzMDDVAmpmZmZkZNUBmZmZmZiY1QDMzMzMzMzVAAAAAAABANUDNzMzMzEw1QDMzMzMzczVAMzMzMzPzNkDNzMzMzAw3QM3MzMzMTDdAZmZmZmZmN0AAAAAAAIA3QM3MzMzMjDdAmpmZmZmZN0BmZmZmZqY3QAAAAAAAwDdAzczMzMzMN0CamZmZmdk3QGZmZmZm5jdAMzMzMzPzN0AAAAAAAAA4QM3MzMzMDDhAmpmZmZkZOEBmZmZmZiY4QDMzMzMzMzhAAAAAAABAOEDNzMzMzEw4QJqZmZmZWThAZmZmZmZmOEAzMzMzM3M4QAAAAAAAgDhAzczMzMyMOECamZmZmZk4QGZmZmZmpjhAMzMzMzOzOEAAAAAAAMA4QM3MzMzMzDhAmpmZmZnZOEBmZmZmZuY4QDMzMzMz8zhAAAAAAAAAOUDNzMzMzAw5QJqZmZmZGTlAZmZmZmYmOUAzMzMzMzM5QAAAAAAAQDlAzczMzMxMOUCamZmZmVk5QGZmZmZmZjlAMzMzMzNzOUAAAAAAAIA5QM3MzMzMjDlAmpmZmZmZOUBmZmZmZqY5QDMzMzMzszlAAAAAAADAOUDNzMzMzMw5QJqZmZmZ2TlAZmZmZmbmOUAzMzMzM/M5QAAAAAAAADpAzczMzMwMOkCamZmZmRk6QDMzMzMzMzpAAAAAAABAOkDNzMzMzEw6QJqZmZmZWTpAZmZmZmZmOkAzMzMzM3M6QAAAAAAAgDpAzczMzMzMOkBmZmZmZuY6QAAAAAAAgDxAzczMzMwMPUCamZmZmRk9QGZmZmZmJj1AMzMzMzMzPUAAAAAAAEA9QM3MzMzMTD1AmpmZmZlZPUAzMzMzM3M9QAAAAAAAgD1AmpmZmZmZPUBmZmZmZqY9QAAAAAAAwD1AzczMzMzMPUCamZmZmdk9QGZmZmZm5j1AzczMzMwMPkCamZmZmRk+QGZmZmZmJj5AMzMzMzMzPkAAAAAAAEA+QJqZmZmZWT5AZmZmZmZmPkAAAAAAAIA+QM3MzMzMjD5AAAAAAADAPkCamZmZmdk+QM3MzMzMDD9AmpmZmZkZP0AzMzMzMzM/QGZmZmZmpj9AMzMzMzOTQECamZmZmblAQM3MzMzMzEBAmpmZmZnZQEAAAAAAAOBAQAAAAAAAAEFAZmZmZmYGQUCamZmZmRlBQAAAAAAAIEFAZmZmZmYmQUAzMzMzMzNBQGZmZmZmRkFAzczMzMxMQUAzMzMzM1NBQJqZmZmZWUFAZmZmZmZmQUDNzMzMzGxBQJqZmZmZeUFAAAAAAACAQUBmZmZmZoZBQM3MzMzMjEFAMzMzMzOTQUCamZmZmZlBQGZmZmZmpkFAzczMzMysQUAzMzMzM7NBQJqZmZmZuUFAAAAAAADAQUBmZmZmZsZBQM3MzMzMzEFAMzMzMzPTQUCamZmZmdlBQAAAAAAA4EFAZmZmZmbmQUAzMzMzM/NBQAAAAAAAAEJAZmZmZmYGQkDNzMzMzAxCQDMzMzMzE0JAAAAAAAAgQkAzMzMzM1NCQJqZmZmZ2UJAzczMzMwMQ0AAAAAAACBDQAAAAAAAQENAZmZmZmZGQ0DNzMzMzExDQGZmZmZmZkNAzczMzMxsQ0AzMzMzM3NDQAAAAAAAgENAzczMzMyMQ0AzMzMzM5NDQJqZmZmZmUNAzczMzMysQ0AzMzMzM7NDQJqZmZmZuUNAAAAAAADAQ0BmZmZmZsZDQM3MzMzMzENAMzMzMzPTQ0CamZmZmdlDQM3MzMzM7ENAMzMzMzPzQ0CamZmZmflDQGZmZmZmBkRAzczMzMwMREAzMzMzMxNEQJqZmZmZGURAAAAAAAAgREBmZmZmZiZEQM3MzMzMLERAMzMzMzMzRECamZmZmTlEQGZmZmZmRkRAzczMzMxMREAzMzMzM1NEQJqZmZmZWURAAAAAAABgREAzMzMzM3NEQM3MzMzMjERAMzMzMzOTREDNzMzMzKxEQDMzMzMz80RAmpmZmZn5REDNzMzMzAxFQGZmZmZmJkVAMzMzMzMzRUBmZmZmZoZFQM3MzMzMrEVAmpmZmZm5RUBmZmZmZsZFQM3MzMzMzEVAmpmZmZnZRUAAAAAAAOBFQGZmZmZm5kVAzczMzMzsRUAzMzMzM/NFQJqZmZmZ+UVAAAAAAAAARkBmZmZmZgZGQM3MzMzMDEZAMzMzMzMTRkAAAAAAACBGQGZmZmZmJkZAzczMzMwsRkAzMzMzMzNGQJqZmZmZOUZAAAAAAABARkBmZmZmZkZGQM3MzMzMTEZAMzMzMzNTRkCamZmZmVlGQAAAAAAAYEZAZmZmZmZmRkDNzMzMzGxGQDMzMzMzc0ZAmpmZmZl5RkAAAAAAAIBGQGZmZmZmhkZAzczMzMyMRkAzMzMzM5NGQJqZmZmZmUZAAAAAAACgRkBmZmZmZqZGQM3MzMzMrEZAMzMzMzOzRkCamZmZmblGQAAAAAAAwEZAZmZmZmbGRkDNzMzMzMxGQDMzMzMz00ZAAAAAAADgRkBmZmZmZuZGQM3MzMzM7EZAMzMzMzPzRkAAAAAAAABHQM3MzMzMDEdAmpmZmZkZR0AAAAAAACBHQGZmZmZmJkdAzczMzMwsR0AzMzMzMzNHQM3MzMzMTEdAZmZmZmaGR0AzMzMzM7NHQM3MzMzMzEdAzczMzMzsR0CamZmZmflHQDMzMzMzE0hAmpmZmZkZSEAAAAAAACBIQDMzMzMzM0hAmpmZmZk5SEDNzMzMzExIQDMzMzMzU0hAmpmZmZlZSEAAAAAAAGBIQGZmZmZmZkhAzczMzMxsSEAzMzMzM3NIQJqZmZmZeUhAAAAAAACASEBmZmZmZoZIQDMzMzMzk0hAmpmZmZmZSEAAAAAAAKBIQGZmZmZmpkhAzczMzMysSEAzMzMzM7NIQJqZmZmZuUhAAAAAAADASEBmZmZmZsZIQM3MzMzMzEhAMzMzMzPTSECamZmZmdlIQAAAAAAA4EhAZmZmZmbmSEDNzMzMzOxIQDMzMzMz80hAmpmZmZn5SEAAAAAAAABJQGZmZmZmBklAzczMzMwMSUAzMzMzMxNJQJqZmZmZGUlAAAAAAAAgSUBmZmZmZiZJQM3MzMzMLElAMzMzMzMzSUCamZmZmTlJQAAAAAAAQElAZmZmZmZGSUDNzMzMzExJQDMzMzMzU0lAmpmZmZlZSUAAAAAAAGBJQGZmZmZmZklAzczMzMxsSUAzMzMzM3NJQJqZmZmZeUlAAAAAAACASUBmZmZmZoZJQM3MzMzMjElAMzMzMzOTSUCamZmZmZlJQAAAAAAAoElAZmZmZmamSUDNzMzMzKxJQDMzMzMzs0lAmpmZmZm5SUBmZmZmZsZJQM3MzMzMzElAMzMzMzPTSUCamZmZmdlJQGZmZmZm5klAAAAAAAAASkDNzMzMzAxKQDMzMzMzE0pAZmZmZmYmSkAAAAAAAEBKQGZmZmZmRkpAmpmZmZlZSkDNzMzMzGxKQAAAAAAAgEpAzczMzMyMSkAzMzMzM5NKQGZmZmZmpkpAzczMzMysSkAzMzMzM7NKQJqZmZmZuUpAAAAAAADASkBmZmZmZsZKQM3MzMzMzEpAMzMzMzPTSkCamZmZmdlKQAAAAAAA4EpAZmZmZmbmSkDNzMzMzOxKQJqZmZmZ+UpAAAAAAAAAS0BmZmZmZgZLQM3MzMzMDEtAMzMzMzMTS0CamZmZmRlLQAAAAAAAIEtAZmZmZmYmS0DNzMzMzCxLQDMzMzMzM0tAmpmZmZk5S0AAAAAAAEBLQGZmZmZmRktAzczMzMxMS0AzMzMzM1NLQJqZmZmZWUtAAAAAAABgS0BmZmZmZmZLQM3MzMzMbEtAMzMzMzNzS0CamZmZmXlLQAAAAAAAgEtAZmZmZmaGS0DNzMzMzIxLQDMzMzMzk0tAmpmZmZmZS0AAAAAAAKBLQGZmZmZmpktAzczMzMysS0CamZmZmblLQAAAAAAAwEtAZmZmZmbGS0DNzMzMzMxLQDMzMzMz00tAmpmZmZnZS0AAAAAAAOBLQGZmZmZm5ktAzczMzMzsS0AzMzMzM/NLQJqZmZmZ+UtAAAAAAAAATEBmZmZmZgZMQM3MzMzMDExAMzMzMzMTTECamZmZmRlMQAAAAAAAIExAZmZmZmYmTEDNzMzMzCxMQDMzMzMzM0xAmpmZmZk5TEBmZmZmZkZMQM3MzMzMTExAmpmZmZlZTEAAAAAAAGBMQGZmZmZmZkxAzczMzMxsTEAzMzMzM3NMQJqZmZmZeUxAmpmZmZmZTEAAAAAAAMBMQGZmZmZmxkxAzczMzMzMTEAzMzMzM9NMQAAAAAAA4ExAZmZmZmbmTECamZmZmflMQAAAAAAAAE1AmpmZmZkZTUAAAAAAACBNQM3MzMzMLE1AMzMzMzMzTUCamZmZmTlNQAAAAAAAQE1AZmZmZmZGTUDNzMzMzExNQDMzMzMzU01AmpmZmZlZTUAAAAAAAGBNQM3MzMzMbE1AMzMzMzNzTUCamZmZmXlNQAAAAAAAgE1AZmZmZmaGTUDNzMzMzIxNQDMzMzMzk01AmpmZmZmZTUAAAAAAAKBNQGZmZmZmpk1AMzMzMzOzTUCamZmZmblNQAAAAAAAwE1AZmZmZmbGTUDNzMzMzMxNQDMzMzMz001AmpmZmZnZTUAAAAAAAOBNQGZmZmZm5k1AzczMzMzsTUAzMzMzM/NNQJqZmZmZ+U1AAAAAAAAATkBmZmZmZgZOQDMzMzMzE05AmpmZmZkZTkAAAAAAACBOQGZmZmZmJk5AzczMzMwsTkAzMzMzMzNOQJqZmZmZOU5AAAAAAABATkBmZmZmZkZOQM3MzMzMTE5AMzMzMzNTTkCamZmZmVlOQAAAAAAAYE5AZmZmZmZmTkDNzMzMzGxOQDMzMzMzc05AmpmZmZl5TkAAAAAAAIBOQGZmZmZmhk5AzczMzMyMTkAzMzMzM5NOQJqZmZmZmU5AAAAAAACgTkBmZmZmZqZOQM3MzMzMrE5AMzMzMzOzTkCamZmZmblOQAAAAAAAwE5AZmZmZmbGTkDNzMzMzMxOQDMzMzMz005AAAAAAADgTkBmZmZmZuZOQDMzMzMz805AmpmZmZn5TkBmZmZmZgZPQM3MzMzMDE9AMzMzMzMTT0AAAAAAACBPQJqZmZmZOU9AAAAAAABAT0BmZmZmZkZPQDMzMzMzU09AZmZmZmZmT0DNzMzMzGxPQGZmZmZmhk9AzczMzMyMT0AzMzMzM5NPQAAAAAAAoE9AZmZmZmamT0DNzMzMzKxPQDMzMzMzs09AZmZmZmbGT0CamZmZmdlPQAAAAAAA4E9AZmZmZmbmT0DNzMzMzOxPQDMzMzMz809AmpmZmZn5T0AAAAAAAABQQDMzMzMzA1BAZmZmZmYGUECamZmZmQlQQM3MzMzMDFBAAAAAAAAQUEAzMzMzMxNQQGZmZmZmFlBAmpmZmZkZUEDNzMzMzBxQQAAAAAAAIFBAMzMzMzMjUEBmZmZmZiZQQJqZmZmZKVBAzczMzMwsUEAAAAAAADBQQDMzMzMzM1BAZmZmZmY2UECamZmZmTlQQM3MzMzMPFBAAAAAAABAUEAzMzMzM0NQQGZmZmZmRlBAmpmZmZlJUEDNzMzMzExQQAAAAAAAUFBAMzMzMzNTUEBmZmZmZlZQQJqZmZmZWVBAzczMzMxcUEAAAAAAAGBQQDMzMzMzY1BAZmZmZmZmUECamZmZmWlQQM3MzMzMbFBAAAAAAABwUEAzMzMzM3NQQGZmZmZmdlBAmpmZmZl5UEAAAAAAAIBQQDMzMzMzg1BAZmZmZmaGUECamZmZmYlQQM3MzMzMjFBAAAAAAACQUEAzMzMzM5NQQJqZmZmZmVBAAAAAAACgUEBmZmZmZqZQQJqZmZmZqVBAzczMzMysUEAAAAAAALBQQDMzMzMzs1BAZmZmZma2UECamZmZmblQQDMzMzMzw1BAzczMzMzMUEAAAAAAANBQQJqZmZmZ2VBAzczMzMzcUEBmZmZmZuZQQJqZmZmZ6VBAzczMzMzsUEAzMzMzM/NQQGZmZmZm9lBAzczMzMz8UEAzMzMzMwNRQGZmZmZmBlFAmpmZmZkJUUAAAAAAABBRQDMzMzMzE1FAZmZmZmYWUUCamZmZmRlRQM3MzMzMHFFAAAAAAAAgUUAzMzMzMyNRQGZmZmZmJlFAmpmZmZkpUUDNzMzMzCxRQAAAAAAAMFFAMzMzMzMzUUBmZmZmZjZRQJqZmZmZOVFAzczMzMw8UUAAAAAAAEBRQDMzMzMzQ1FAZmZmZmZGUUCamZmZmUlRQM3MzMzMTFFAAAAAAABQUUAzMzMzM1NRQGZmZmZmVlFAmpmZmZlZUUDNzMzMzFxRQAAAAAAAYFFAMzMzMzNjUUBmZmZmZmZRQJqZmZmZaVFAzczMzMxsUUAAAAAAAHBRQDMzMzMzc1FAZmZmZmZ2UUCamZmZmXlRQM3MzMzMfFFAAAAAAACAUUAzMzMzM4NRQGZmZmZmhlFAmpmZmZmJUUDNzMzMzIxRQAAAAAAAkFFAMzMzMzOTUUBmZmZmZpZRQJqZmZmZmVFAzczMzMycUUAAAAAAAKBRQDMzMzMzo1FAZmZmZmamUUCamZmZmalRQM3MzMzMrFFAAAAAAACwUUAzMzMzM7NRQGZmZmZmtlFAmpmZmZm5UUDNzMzMzLxRQAAAAAAAwFFAMzMzMzPDUUBmZmZmZsZRQAAAAAAA0FFAMzMzMzPTUUBmZmZmZtZRQJqZmZmZ2VFAzczMzMzcUUAAAAAAAOBRQDMzMzMz41FAZmZmZmbmUUCamZmZmelRQM3MzMzM7FFAAAAAAADwUUAzMzMzM/NRQGZmZmZm9lFAmpmZmZn5UUDNzMzMzPxRQAAAAAAAAFJAZmZmZmYGUkAAAAAAABBSQGZmZmZmFlJAzczMzMwcUkBmZmZmZiZSQAAAAAAAMFJAMzMzMzMzUkCamZmZmTlSQM3MzMzMPFJAAAAAAABAUkAzMzMzM0NSQGZmZmZmRlJAmpmZmZlJUkAAAAAAAFBSQDMzMzMzU1JAZmZmZmZWUkDNzMzMzFxSQAAAAAAAYFJAMzMzMzNjUkBmZmZmZmZSQJqZmZmZaVJAzczMzMxsUkAAAAAAAHBSQDMzMzMzc1JAZmZmZmZ2UkCamZmZmXlSQAAAAAAAgFJAMzMzMzODUkBmZmZmZoZSQJqZmZmZiVJAzczMzMyMUkAAAAAAAJBSQDMzMzMzk1JAZmZmZmaWUkCamZmZmZlSQM3MzMzMnFJAAAAAAACgUkAzMzMzM6NSQGZmZmZmplJAmpmZmZmpUkDNzMzMzKxSQAAAAAAAsFJAMzMzMzOzUkBmZmZmZrZSQJqZmZmZuVJAzczMzMy8UkAAAAAAAMBSQDMzMzMzw1JAZmZmZmbGUkCamZmZmclSQM3MzMzMzFJAAAAAAADQUkAzMzMzM9NSQGZmZmZm1lJAmpmZmZnZUkDNzMzMzNxSQAAAAAAA4FJAMzMzMzPjUkBmZmZmZuZSQJqZmZmZ6VJAzczMzMzsUkAAAAAAAPBSQDMzMzMz81JAZmZmZmb2UkCamZmZmflSQM3MzMzM/FJAAAAAAAAAU0AzMzMzMwNTQGZmZmZmBlNAmpmZmZkJU0DNzMzMzAxTQAAAAAAAEFNAMzMzMzMTU0BmZmZmZhZTQJqZmZmZGVNAzczMzMwcU0AAAAAAACBTQDMzMzMzI1NAZmZmZmYmU0AAAAAAADBTQDMzMzMzM1NAZmZmZmY2U0CamZmZmTlTQM3MzMzMPFNAmpmZmZlJU0DNzMzMzExTQDMzMzMzU1NAZmZmZmZWU0CamZmZmVlTQDMzMzMzY1NAAAAAAABwU0AzMzMzM3NTQJqZmZmZeVNAAAAAAACAU0BmZmZmZoZTQJqZmZmZiVNAzczMzMyMU0AzMzMzM5NTQGZmZmZmllNAmpmZmZmZU0DNzMzMzJxTQAAAAAAAoFNAMzMzMzOjU0BmZmZmZqZTQJqZmZmZqVNAzczMzMysU0AAAAAAALBTQDMzMzMzs1NAZmZmZma2U0CamZmZmblTQM3MzMzMvFNAAAAAAADAU0AzMzMzM8NTQGZmZmZmxlNAmpmZmZnJU0DNzMzMzMxTQAAAAAAA0FNAMzMzMzPTU0BmZmZmZtZTQJqZmZmZ2VNAzczMzMzcU0AAAAAAAOBTQDMzMzMz41NAZmZmZmbmU0CamZmZmelTQM3MzMzM7FNAAAAAAADwU0AzMzMzM/NTQGZmZmZm9lNAmpmZmZn5U0DNzMzMzPxTQAAAAAAAAFRAMzMzMzMDVEBmZmZmZgZUQJqZmZmZCVRAzczMzMwMVEAAAAAAABBUQDMzMzMzE1RAZmZmZmYWVECamZmZmRlUQM3MzMzMHFRAAAAAAAAgVEAzMzMzMyNUQGZmZmZmJlRAmpmZmZkpVEDNzMzMzCxUQAAAAAAAMFRAMzMzMzMzVEBmZmZmZjZUQJqZmZmZOVRAzczMzMw8VEAAAAAAAEBUQDMzMzMzQ1RAZmZmZmZGVECamZmZmUlUQM3MzMzMTFRAAAAAAABQVEAzMzMzM1NUQGZmZmZmVlRAmpmZmZlZVEDNzMzMzFxUQAAAAAAAYFRAMzMzMzNjVEBmZmZmZmZUQJqZmZmZaVRAzczMzMxsVEAAAAAAAHBUQDMzMzMzc1RAZmZmZmZ2VECamZmZmXlUQM3MzMzMfFRAAAAAAACAVEAzMzMzM4NUQGZmZmZmhlRAmpmZmZmJVEAzMzMzM5NUQM3MzMzMnFRAAAAAAACgVEAzMzMzM6NUQJqZmZmZqVRAzczMzMysVEAAAAAAALBUQGZmZmZmtlRAmpmZmZm5VEDNzMzMzLxUQAAAAAAAwFRAMzMzMzPDVECamZmZmclUQM3MzMzMzFRAAAAAAADQVEAzMzMzM9NUQJqZmZmZ2VRAzczMzMzcVEAAAAAAAOBUQDMzMzMz41RAZmZmZmbmVECamZmZmelUQM3MzMzM7FRAAAAAAADwVEAzMzMzM/NUQGZmZmZm9lRAAAAAAAAAVUAzMzMzMwNVQGZmZmZmBlVAmpmZmZkJVUDNzMzMzAxVQAAAAAAAEFVAMzMzMzMTVUBmZmZmZhZVQJqZmZmZGVVAzczMzMwcVUAAAAAAACBVQDMzMzMzI1VAZmZmZmYmVUCamZmZmSlVQM3MzMzMLFVAAAAAAAAwVUAzMzMzMzNVQGZmZmZmNlVAmpmZmZk5VUDNzMzMzDxVQAAAAAAAQFVAMzMzMzNDVUBmZmZmZkZVQJqZmZmZSVVAzczMzMxMVUAAAAAAAFBVQDMzMzMzU1VAZmZmZmZWVUCamZmZmVlVQM3MzMzMXFVAAAAAAABgVUAzMzMzM2NVQGZmZmZmZlVAmpmZmZlpVUDNzMzMzGxVQAAAAAAAcFVAMzMzMzNzVUBmZmZmZnZVQJqZmZmZeVVAzczMzMx8VUAAAAAAAIBVQDMzMzMzg1VAZmZmZmaGVUCamZmZmYlVQM3MzMzMjFVAAAAAAACQVUBmZmZmZpZVQJqZmZmZmVVAzczMzMycVUAAAAAAAKBVQDMzMzMzo1VAZmZmZmamVUCamZmZmalVQM3MzMzMrFVAAAAAAACwVUAzMzMzM7NVQGZmZmZmtlVAmpmZmZm5VUDNzMzMzLxVQAAAAAAAwFVAZmZmZmbGVUCamZmZmclVQM3MzMzMzFVAAAAAAADQVUAzMzMzM9NVQGZmZmZm1lVAMzMzMzPjVUBmZmZmZuZVQJqZmZmZ6VVAzczMzMzsVUAAAAAAAPBVQDMzMzMz81VAmpmZmZn5VUDNzMzMzPxVQAAAAAAAAFZAMzMzMzMDVkBmZmZmZgZWQJqZmZmZCVZAzczMzMwMVkCamZmZmRlWQM3MzMzMHFZAAAAAAAAgVkAzMzMzMyNWQGZmZmZmJlZAmpmZmZkpVkDNzMzMzCxWQAAAAAAAMFZAMzMzMzMzVkBmZmZmZjZWQJqZmZmZOVZAzczMzMw8VkAAAAAAAEBWQDMzMzMzQ1ZAZmZmZmZGVkCamZmZmUlWQM3MzMzMTFZAAAAAAABQVkAzMzMzM1NWQGZmZmZmVlZAmpmZmZlZVkDNzMzMzFxWQDMzMzMzY1ZAZmZmZmZmVkCamZmZmWlWQM3MzMzMbFZAAAAAAABwVkAzMzMzM3NWQGZmZmZmdlZAmpmZmZl5VkDNzMzMzHxWQAAAAAAAgFZAMzMzMzODVkBmZmZmZoZWQJqZmZmZiVZAzczMzMyMVkAAAAAAAJBWQDMzMzMzk1ZAZmZmZmaWVkCamZmZmZlWQM3MzMzMnFZAAAAAAACgVkAzMzMzM6NWQGZmZmZmplZAmpmZmZmpVkDNzMzMzKxWQAAAAAAAsFZAMzMzMzOzVkBmZmZmZrZWQM3MzMzMvFZAAAAAAADAVkAzMzMzM8NWQGZmZmZmxlZAmpmZmZnJVkDNzMzMzMxWQAAAAAAA0FZAMzMzMzPTVkBmZmZmZtZWQM3MzMzM3FZAAAAAAADgVkAzMzMzM+NWQGZmZmZm5lZAmpmZmZnpVkDNzMzMzOxWQDMzMzMz81ZAzczMzMz8VkAAAAAAAABXQDMzMzMzA1dAmpmZmZkJV0DNzMzMzAxXQDMzMzMzE1dAmpmZmZkZV0DNzMzMzBxXQDMzMzMzI1dAZmZmZmYmV0CamZmZmSlXQM3MzMzMLFdAZmZmZmY2V0CamZmZmTlXQM3MzMzMPFdAAAAAAABAV0AzMzMzM0NXQJqZmZmZSVdAzczMzMxMV0AAAAAAAFBXQDMzMzMzU1dAZmZmZmZWV0CamZmZmVlXQM3MzMzMXFdAAAAAAABgV0AzMzMzM2NXQGZmZmZmZldAmpmZmZlpV0DNzMzMzGxXQAAAAAAAcFdAMzMzMzNzV0BmZmZmZnZXQJqZmZmZeVdAzczMzMx8V0AAAAAAAIBXQDMzMzMzg1dAZmZmZmaGV0CamZmZmYlXQM3MzMzMjFdAAAAAAACQV0AzMzMzM5NXQGZmZmZmlldAmpmZmZmZV0DNzMzMzJxXQAAAAAAAoFdAMzMzMzOjV0BmZmZmZqZXQJqZmZmZqVdAzczMzMysV0AAAAAAALBXQDMzMzMzs1dAZmZmZma2V0CamZmZmblXQM3MzMzMvFdAAAAAAADAV0AzMzMzM8NXQGZmZmZmxldAmpmZmZnJV0DNzMzMzMxXQAAAAAAA0FdAMzMzMzPTV0BmZmZmZtZXQJqZmZmZ2VdAzczMzMzcV0AAAAAAAOBXQDMzMzMz41dAZmZmZmbmV0CamZmZmelXQM3MzMzM7FdAAAAAAADwV0AzMzMzM/NXQGZmZmZm9ldAmpmZmZn5V0DNzMzMzPxXQAAAAAAAAFhAZmZmZmYGWEDNzMzMzAxYQGZmZmZmFlhAmpmZmZkZWEAAAAAAACBYQDMzMzMzI1hAZmZmZmYmWECamZmZmSlYQAAAAAAAMFhAMzMzMzMzWEBmZmZmZjZYQJqZmZmZOVhAzczMzMw8WEAAAAAAAEBYQDMzMzMzQ1hAZmZmZmZGWEDNzMzMzExYQAAAAAAAUFhAzczMzMxcWEAzMzMzM2NYQJqZmZmZaVhAzczMzMxsWEAAAAAAAHBYQDMzMzMzc1hAZmZmZmZ2WEDNzMzMzHxYQAAAAAAAgFhAMzMzMzODWEBmZmZmZoZYQJqZmZmZiVhAzczMzMyMWEAAAAAAAJBYQDMzMzMzk1hAZmZmZmaWWEDNzMzMzJxYQDMzMzMzo1hAZmZmZmamWECamZmZmalYQM3MzMzMrFhAMzMzMzOzWEBmZmZmZrZYQJqZmZmZuVhAAAAAAADAWEAzMzMzM8NYQGZmZmZmxlhAmpmZmZnJWEDNzMzMzMxYQAAAAAAA0FhAMzMzMzPTWEBmZmZmZtZYQJqZmZmZ2VhAzczMzMzcWEAAAAAAAOBYQDMzMzMz41hAmpmZmZnpWEDNzMzMzOxYQAAAAAAA8FhAMzMzMzPzWEBmZmZmZvZYQJqZmZmZ+VhAzczMzMz8WEAAAAAAAABZQDMzMzMzA1lAZmZmZmYGWUCamZmZmQlZQM3MzMzMDFlAAAAAAAAQWUAzMzMzMxNZQGZmZmZmFllAmpmZmZkZWUDNzMzMzBxZQAAAAAAAIFlAMzMzMzMjWUBmZmZmZiZZQJqZmZmZKVlAzczMzMwsWUAAAAAAADBZQDMzMzMzM1lAZmZmZmY2WUCamZmZmTlZQAAAAAAAQFlAMzMzMzNDWUBmZmZmZkZZQJqZmZmZSVlAAAAAAABQWUAzMzMzM1NZQGZmZmZmVllAmpmZmZlZWUDNzMzMzFxZQAAAAAAAYFlAMzMzMzNjWUBmZmZmZmZZQAAAAAAAcFlAMzMzMzNzWUCamZmZmXlZQDMzMzMzg1lAZmZmZmaGWUCamZmZmYlZQJqZmZmZmVlAzczMzMycWUAAAAAAAKBZQDMzMzMzo1lAZmZmZmamWUCamZmZmalZQM3MzMzMrFlAZmZmZma2WUCamZmZmblZQAAAAAAAwFlAMzMzMzPDWUBmZmZmZsZZQJqZmZmZyVlAzczMzMzMWUAAAAAAANBZQDMzMzMz01lAmpmZmZnZWUDNzMzMzNxZQAAAAAAA4FlAZmZmZmbmWUCamZmZmelZQM3MzMzM7FlAAAAAAADwWUAzMzMzM/NZQGZmZmZm9llAmpmZmZn5WUDNzMzMzPxZQAAAAAAAAFpAMzMzMzMDWkBmZmZmZgZaQJqZmZmZCVpAAAAAAAAQWkAzMzMzMxNaQGZmZmZmFlpAmpmZmZkZWkDNzMzMzBxaQAAAAAAAIFpAMzMzMzMjWkBmZmZmZiZaQJqZmZmZKVpAzczMzMwsWkAAAAAAADBaQDMzMzMzM1pAZmZmZmY2WkCamZmZmTlaQM3MzMzMPFpAAAAAAABAWkAzMzMzM0NaQGZmZmZmRlpAmpmZmZlJWkDNzMzMzExaQAAAAAAAUFpAMzMzMzNTWkBmZmZmZlZaQJqZmZmZWVpAzczMzMxcWkAAAAAAAGBaQDMzMzMzY1pAZmZmZmZmWkCamZmZmWlaQM3MzMzMbFpAAAAAAABwWkAzMzMzM3NaQGZmZmZmdlpAmpmZmZl5WkDNzMzMzHxaQAAAAAAAgFpAMzMzMzODWkBmZmZmZoZaQJqZmZmZiVpAzczMzMyMWkAzMzMzM5NaQGZmZmZmllpAmpmZmZmZWkDNzMzMzJxaQAAAAAAAoFpAZmZmZmamWkCamZmZmalaQM3MzMzMrFpAAAAAAACwWkAzMzMzM7NaQGZmZmZmtlpAmpmZmZm5WkAAAAAAAMBaQDMzMzMzw1pAmpmZmZnJWkDNzMzMzMxaQAAAAAAA0FpAZmZmZmbWWkCamZmZmdlaQM3MzMzM3FpAAAAAAADgWkAzMzMzM+NaQGZmZmZm5lpAmpmZmZnpWkDNzMzMzOxaQAAAAAAA8FpAmpmZmZn5WkDNzMzMzPxaQAAAAAAAAFtAMzMzMzMDW0BmZmZmZgZbQJqZmZmZCVtAzczMzMwMW0AAAAAAABBbQDMzMzMzE1tAZmZmZmYWW0CamZmZmRlbQM3MzMzMHFtAAAAAAAAgW0AzMzMzMyNbQJqZmZmZKVtAAAAAAAAwW0AzMzMzMzNbQJqZmZmZOVtAzczMzMw8W0AAAAAAAEBbQDMzMzMzQ1tAZmZmZmZGW0CamZmZmUlbQM3MzMzMTFtAAAAAAABQW0AzMzMzM1NbQJqZmZmZWVtAzczMzMxcW0AAAAAAAGBbQDMzMzMzY1tAZmZmZmZmW0CamZmZmWlbQM3MzMzMbFtAAAAAAABwW0AzMzMzM3NbQGZmZmZmdltAmpmZmZl5W0DNzMzMzHxbQAAAAAAAgFtAMzMzMzODW0BmZmZmZoZbQJqZmZmZiVtAzczMzMyMW0AAAAAAAJBbQDMzMzMzk1tAZmZmZmaWW0DNzMzMzJxbQAAAAAAAoFtAMzMzMzOjW0BmZmZmZqZbQJqZmZmZqVtAzczMzMysW0AAAAAAALBbQDMzMzMzs1tAZmZmZma2W0CamZmZmblbQDMzMzMzw1tAZmZmZmbGW0CamZmZmclbQM3MzMzMzFtAAAAAAADQW0AzMzMzM9NbQGZmZmZm1ltAmpmZmZnZW0DNzMzMzNxbQAAAAAAA4FtAMzMzMzPjW0BmZmZmZuZbQJqZmZmZ6VtAAAAAAADwW0AzMzMzM/NbQJqZmZmZ+VtAzczMzMz8W0BmZmZmZgZcQM3MzMzMDFxAAAAAAAAQXEBmZmZmZhZcQJqZmZmZGVxAMzMzMzMjXEBmZmZmZiZcQAAAAAAAMFxAmpmZmZk5XEDNzMzMzDxcQAAAAAAAQFxAMzMzMzNDXEBmZmZmZkZcQJqZmZmZSVxAzczMzMxMXEAAAAAAAFBcQDMzMzMzU1xAZmZmZmZWXECamZmZmVlcQM3MzMzMXFxAZmZmZmZmXECamZmZmWlcQAAAAAAAcFxAMzMzMzNzXEDNzMzMzHxcQAAAAAAAgFxAMzMzMzODXEBmZmZmZoZcQDMzMzMzk1xAZmZmZmaWXEDNzMzMzJxcQAAAAAAAoFxAMzMzMzOjXEBmZmZmZqZcQJqZmZmZqVxAzczMzMysXEAAAAAAALBcQGZmZmZmtlxAmpmZmZm5XEDNzMzMzLxcQAAAAAAAwFxAMzMzMzPDXEBmZmZmZsZcQJqZmZmZyVxAAAAAAADQXEAAAAAAAOBcQDMzMzMz41xAZmZmZmbmXECamZmZmelcQAAAAAAA8FxAMzMzMzPzXEBmZmZmZvZcQAAAAAAAAF1AMzMzMzMDXUBmZmZmZgZdQJqZmZmZCV1AAAAAAAAQXUAzMzMzMxNdQJqZmZmZGV1AzczMzMwcXUAAAAAAACBdQDMzMzMzI11AZmZmZmYmXUAAAAAAADBdQDMzMzMzM11AZmZmZmY2XUDNzMzMzDxdQJqZmZmZSV1AzczMzMxMXUBmZmZmZlZdQAAAAAAAYF1AZmZmZmZmXUDNzMzMzIxdQGZmZmZmpl1AmpmZmZmpXUAAAAAAALBdQA==",
          "dtype": "f8"
         },
         "xaxis": "x",
         "y": {
          "bdata": "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",
          "dtype": "f8"
         },
         "yaxis": "y"
        },
        {
         "alignmentgroup": "True",
         "hovertemplate": "Churn=Yes<br>Monthly_Charges=%{x}<br>percentage=%{text}<extra></extra>",
         "legendgroup": "Yes",
         "marker": {
          "color": "rgb(178,24,43)",
          "pattern": {
           "shape": ""
          }
         },
         "name": "Yes",
         "offsetgroup": "Yes",
         "orientation": "v",
         "showlegend": true,
         "text": {
          "bdata": "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",
          "dtype": "f8"
         },
         "textposition": "outside",
         "texttemplate": "%{text:.2f}%",
         "type": "bar",
         "x": {
          "bdata": "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",
          "dtype": "f8"
         },
         "xaxis": "x",
         "y": {
          "bdata": "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",
          "dtype": "f8"
         },
         "yaxis": "y"
        }
       ],
       "layout": {
        "barmode": "group",
        "height": 500,
        "legend": {
         "title": {
          "text": "Churn Level"
         },
         "tracegroupgap": 0
        },
        "margin": {
         "b": 50,
         "l": 50,
         "r": 50,
         "t": 50
        },
        "template": {
         "data": {
          "pie": [
           {
            "automargin": true,
            "type": "pie"
           }
          ],
          "scatter": [
           {
            "line": {
             "width": 3
            },
            "marker": {
             "size": 9
            },
            "type": "scatter"
           }
          ],
          "scatter3d": [
           {
            "line": {
             "width": 3
            },
            "marker": {
             "size": 9
            },
            "type": "scatter3d"
           }
          ],
          "scattergeo": [
           {
            "line": {
             "width": 3
            },
            "marker": {
             "size": 9
            },
            "type": "scattergeo"
           }
          ],
          "scattergl": [
           {
            "line": {
             "width": 3
            },
            "marker": {
             "size": 9
            },
            "type": "scattergl"
           }
          ],
          "scatterpolar": [
           {
            "line": {
             "width": 3
            },
            "marker": {
             "size": 9
            },
            "type": "scatterpolar"
           }
          ],
          "scatterpolargl": [
           {
            "line": {
             "width": 3
            },
            "marker": {
             "size": 9
            },
            "type": "scatterpolargl"
           }
          ],
          "scatterternary": [
           {
            "line": {
             "width": 3
            },
            "marker": {
             "size": 9
            },
            "type": "scatterternary"
           }
          ],
          "table": [
           {
            "cells": {
             "height": 30
            },
            "header": {
             "height": 36
            },
            "type": "table"
           }
          ]
         },
         "layout": {
          "font": {
           "size": 18
          },
          "xaxis": {
           "title": {
            "standoff": 15
           }
          },
          "yaxis": {
           "title": {
            "standoff": 15
           }
          }
         }
        },
        "title": {
         "text": "Churn Distribution by Monthly_Charges (%)"
        },
        "xaxis": {
         "anchor": "y",
         "domain": [
          0,
          1
         ],
         "title": {
          "standoff": 30,
          "text": "Monthly_Charges"
         }
        },
        "yaxis": {
         "anchor": "x",
         "domain": [
          0,
          1
         ],
         "title": {
          "text": "Percentage of Population"
         }
        }
       }
      }
     },
     "metadata": {},
     "output_type": "display_data"
    }
   ],
   "source": [
    "fig = px.bar(\n",
    "    telecom_df_Churn_Monthly_Charges,\n",
    "    x='Monthly_Charges',\n",
    "    y='percentage',\n",
    "    color='Churn',\n",
    "    title='Churn Distribution by Monthly_Charges (%)',\n",
    "    barmode='group',\n",
    "    height=500,\n",
    "    color_discrete_sequence=px.colors.sequential.RdBu,\n",
    "    text='percentage'\n",
    ")\n",
    "\n",
    "\n",
    "fig.update_traces(\n",
    "    texttemplate='%{text:.2f}%',\n",
    "    textposition='outside'  \n",
    ")\n",
    "\n",
    "fig.update_layout(\n",
    "    template=\"presentation\",\n",
    "    xaxis_title='Monthly_Charges',\n",
    "    yaxis_title='Percentage of Population',\n",
    "    legend_title_text='Churn Level',\n",
    "    xaxis_title_standoff=30,\n",
    "    margin=dict(l=50, r=50, t=50, b=50)\n",
    ")\n",
    "\n",
    "fig.show()\n",
    "fig.write_image(os.path.join(results_dir, 'Churn Distribution by Monthly_Charges_bar_plot.jpg'))\n",
    "fig.write_image(os.path.join(results_dir, 'Churn Distribution by Monthly_Charges_bar_plot.png'))\n",
    "html_str = fig.to_html()\n",
    "\n",
    "with open(os.path.join(results_dir, 'Churn Distribution by Monthly_Charges_bar_plot.html'), 'w', encoding='utf-8') as f:\n",
    "    f.write(html_str)\n"
   ]
  },
  {
   "cell_type": "markdown",
   "id": "42c28ed1",
   "metadata": {},
   "source": [
    "## Churn by Contract"
   ]
  },
  {
   "cell_type": "code",
   "execution_count": 30,
   "id": "5b47f963",
   "metadata": {},
   "outputs": [
    {
     "data": {
      "text/html": [
       "<div>\n",
       "<style scoped>\n",
       "    .dataframe tbody tr th:only-of-type {\n",
       "        vertical-align: middle;\n",
       "    }\n",
       "\n",
       "    .dataframe tbody tr th {\n",
       "        vertical-align: top;\n",
       "    }\n",
       "\n",
       "    .dataframe thead th {\n",
       "        text-align: right;\n",
       "    }\n",
       "</style>\n",
       "<table border=\"1\" class=\"dataframe\">\n",
       "  <thead>\n",
       "    <tr style=\"text-align: right;\">\n",
       "      <th></th>\n",
       "      <th>Contract</th>\n",
       "      <th>Churn</th>\n",
       "      <th>total_by_Contract</th>\n",
       "    </tr>\n",
       "  </thead>\n",
       "  <tbody>\n",
       "    <tr>\n",
       "      <th>0</th>\n",
       "      <td>Month-to-month</td>\n",
       "      <td>No</td>\n",
       "      <td>2220</td>\n",
       "    </tr>\n",
       "    <tr>\n",
       "      <th>1</th>\n",
       "      <td>Month-to-month</td>\n",
       "      <td>Yes</td>\n",
       "      <td>1655</td>\n",
       "    </tr>\n",
       "    <tr>\n",
       "      <th>2</th>\n",
       "      <td>One year</td>\n",
       "      <td>No</td>\n",
       "      <td>1307</td>\n",
       "    </tr>\n",
       "    <tr>\n",
       "      <th>3</th>\n",
       "      <td>One year</td>\n",
       "      <td>Yes</td>\n",
       "      <td>166</td>\n",
       "    </tr>\n",
       "    <tr>\n",
       "      <th>4</th>\n",
       "      <td>Two year</td>\n",
       "      <td>No</td>\n",
       "      <td>1647</td>\n",
       "    </tr>\n",
       "    <tr>\n",
       "      <th>5</th>\n",
       "      <td>Two year</td>\n",
       "      <td>Yes</td>\n",
       "      <td>48</td>\n",
       "    </tr>\n",
       "  </tbody>\n",
       "</table>\n",
       "</div>"
      ],
      "text/plain": [
       "         Contract Churn  total_by_Contract\n",
       "0  Month-to-month    No               2220\n",
       "1  Month-to-month   Yes               1655\n",
       "2        One year    No               1307\n",
       "3        One year   Yes                166\n",
       "4        Two year    No               1647\n",
       "5        Two year   Yes                 48"
      ]
     },
     "execution_count": 30,
     "metadata": {},
     "output_type": "execute_result"
    }
   ],
   "source": [
    "telecom_df_Churn_Contract = telecom_df.groupby(['Contract', 'Churn']).size().reset_index(name='total_by_Contract')\n",
    "telecom_df_Churn_Contract"
   ]
  },
  {
   "cell_type": "code",
   "execution_count": 31,
   "id": "00faec63",
   "metadata": {},
   "outputs": [
    {
     "data": {
      "text/plain": [
       "Contract\n",
       "Month-to-month    2\n",
       "One year          2\n",
       "Two year          2\n",
       "dtype: int64"
      ]
     },
     "execution_count": 31,
     "metadata": {},
     "output_type": "execute_result"
    }
   ],
   "source": [
    "total_per_group = telecom_df_Churn_Contract.groupby('Contract').size()\n",
    "total_per_group"
   ]
  },
  {
   "cell_type": "code",
   "execution_count": 32,
   "id": "839fc209",
   "metadata": {},
   "outputs": [
    {
     "data": {
      "text/plain": [
       "0    3875\n",
       "1    3875\n",
       "2    1473\n",
       "3    1473\n",
       "4    1695\n",
       "5    1695\n",
       "Name: total_by_Contract, dtype: int64"
      ]
     },
     "execution_count": 32,
     "metadata": {},
     "output_type": "execute_result"
    }
   ],
   "source": [
    "total_per_group = telecom_df_Churn_Contract.groupby('Contract')['total_by_Contract'].transform('sum')\n",
    "total_per_group"
   ]
  },
  {
   "cell_type": "code",
   "execution_count": 33,
   "id": "eaf672b8",
   "metadata": {},
   "outputs": [
    {
     "data": {
      "text/html": [
       "<div>\n",
       "<style scoped>\n",
       "    .dataframe tbody tr th:only-of-type {\n",
       "        vertical-align: middle;\n",
       "    }\n",
       "\n",
       "    .dataframe tbody tr th {\n",
       "        vertical-align: top;\n",
       "    }\n",
       "\n",
       "    .dataframe thead th {\n",
       "        text-align: right;\n",
       "    }\n",
       "</style>\n",
       "<table border=\"1\" class=\"dataframe\">\n",
       "  <thead>\n",
       "    <tr style=\"text-align: right;\">\n",
       "      <th></th>\n",
       "      <th>Contract</th>\n",
       "      <th>Churn</th>\n",
       "      <th>total_by_Contract</th>\n",
       "      <th>percentage</th>\n",
       "    </tr>\n",
       "  </thead>\n",
       "  <tbody>\n",
       "    <tr>\n",
       "      <th>0</th>\n",
       "      <td>Month-to-month</td>\n",
       "      <td>No</td>\n",
       "      <td>2220</td>\n",
       "      <td>57.290323</td>\n",
       "    </tr>\n",
       "    <tr>\n",
       "      <th>1</th>\n",
       "      <td>Month-to-month</td>\n",
       "      <td>Yes</td>\n",
       "      <td>1655</td>\n",
       "      <td>42.709677</td>\n",
       "    </tr>\n",
       "    <tr>\n",
       "      <th>2</th>\n",
       "      <td>One year</td>\n",
       "      <td>No</td>\n",
       "      <td>1307</td>\n",
       "      <td>88.730482</td>\n",
       "    </tr>\n",
       "    <tr>\n",
       "      <th>3</th>\n",
       "      <td>One year</td>\n",
       "      <td>Yes</td>\n",
       "      <td>166</td>\n",
       "      <td>11.269518</td>\n",
       "    </tr>\n",
       "    <tr>\n",
       "      <th>4</th>\n",
       "      <td>Two year</td>\n",
       "      <td>No</td>\n",
       "      <td>1647</td>\n",
       "      <td>97.168142</td>\n",
       "    </tr>\n",
       "    <tr>\n",
       "      <th>5</th>\n",
       "      <td>Two year</td>\n",
       "      <td>Yes</td>\n",
       "      <td>48</td>\n",
       "      <td>2.831858</td>\n",
       "    </tr>\n",
       "  </tbody>\n",
       "</table>\n",
       "</div>"
      ],
      "text/plain": [
       "         Contract Churn  total_by_Contract  percentage\n",
       "0  Month-to-month    No               2220   57.290323\n",
       "1  Month-to-month   Yes               1655   42.709677\n",
       "2        One year    No               1307   88.730482\n",
       "3        One year   Yes                166   11.269518\n",
       "4        Two year    No               1647   97.168142\n",
       "5        Two year   Yes                 48    2.831858"
      ]
     },
     "execution_count": 33,
     "metadata": {},
     "output_type": "execute_result"
    }
   ],
   "source": [
    "total_per_group = telecom_df_Churn_Contract.groupby('Contract')['total_by_Contract'].transform('sum')\n",
    "telecom_df_Churn_Contract['percentage'] = (telecom_df_Churn_Contract['total_by_Contract']/total_per_group) * 100\n",
    "telecom_df_Churn_Contract"
   ]
  },
  {
   "cell_type": "code",
   "execution_count": 34,
   "id": "455c6db1",
   "metadata": {},
   "outputs": [
    {
     "data": {
      "application/vnd.plotly.v1+json": {
       "config": {
        "plotlyServerURL": "https://plot.ly"
       },
       "data": [
        {
         "alignmentgroup": "True",
         "hovertemplate": "Churn=No<br>Contract=%{x}<br>percentage=%{text}<extra></extra>",
         "legendgroup": "No",
         "marker": {
          "color": "rgb(103,0,31)",
          "pattern": {
           "shape": ""
          }
         },
         "name": "No",
         "offsetgroup": "No",
         "orientation": "v",
         "showlegend": true,
         "text": {
          "bdata": "pZRSSimlTEDSSJ03wC5WQC2s9NTCSlhA",
          "dtype": "f8"
         },
         "textposition": "auto",
         "texttemplate": "%{text:.2f}%",
         "type": "bar",
         "x": [
          "Month-to-month",
          "One year",
          "Two year"
         ],
         "xaxis": "x",
         "y": {
          "bdata": "pZRSSimlTEDSSJ03wC5WQC2s9NTCSlhA",
          "dtype": "f8"
         },
         "yaxis": "y"
        },
        {
         "alignmentgroup": "True",
         "hovertemplate": "Churn=Yes<br>Contract=%{x}<br>percentage=%{text}<extra></extra>",
         "legendgroup": "Yes",
         "marker": {
          "color": "rgb(178,24,43)",
          "pattern": {
           "shape": ""
          }
         },
         "name": "Yes",
         "offsetgroup": "Yes",
         "orientation": "v",
         "showlegend": true,
         "text": {
          "bdata": "W2uttdZaRUBwuRVD/okmQFZ6amGlpwZA",
          "dtype": "f8"
         },
         "textposition": "auto",
         "texttemplate": "%{text:.2f}%",
         "type": "bar",
         "x": [
          "Month-to-month",
          "One year",
          "Two year"
         ],
         "xaxis": "x",
         "y": {
          "bdata": "W2uttdZaRUBwuRVD/okmQFZ6amGlpwZA",
          "dtype": "f8"
         },
         "yaxis": "y"
        }
       ],
       "layout": {
        "barmode": "group",
        "legend": {
         "title": {
          "text": "Churn"
         },
         "tracegroupgap": 0
        },
        "template": {
         "data": {
          "bar": [
           {
            "error_x": {
             "color": "#2a3f5f"
            },
            "error_y": {
             "color": "#2a3f5f"
            },
            "marker": {
             "line": {
              "color": "#E5ECF6",
              "width": 0.5
             },
             "pattern": {
              "fillmode": "overlay",
              "size": 10,
              "solidity": 0.2
             }
            },
            "type": "bar"
           }
          ],
          "barpolar": [
           {
            "marker": {
             "line": {
              "color": "#E5ECF6",
              "width": 0.5
             },
             "pattern": {
              "fillmode": "overlay",
              "size": 10,
              "solidity": 0.2
             }
            },
            "type": "barpolar"
           }
          ],
          "carpet": [
           {
            "aaxis": {
             "endlinecolor": "#2a3f5f",
             "gridcolor": "white",
             "linecolor": "white",
             "minorgridcolor": "white",
             "startlinecolor": "#2a3f5f"
            },
            "baxis": {
             "endlinecolor": "#2a3f5f",
             "gridcolor": "white",
             "linecolor": "white",
             "minorgridcolor": "white",
             "startlinecolor": "#2a3f5f"
            },
            "type": "carpet"
           }
          ],
          "choropleth": [
           {
            "colorbar": {
             "outlinewidth": 0,
             "ticks": ""
            },
            "type": "choropleth"
           }
          ],
          "contour": [
           {
            "colorbar": {
             "outlinewidth": 0,
             "ticks": ""
            },
            "colorscale": [
             [
              0,
              "#0d0887"
             ],
             [
              0.1111111111111111,
              "#46039f"
             ],
             [
              0.2222222222222222,
              "#7201a8"
             ],
             [
              0.3333333333333333,
              "#9c179e"
             ],
             [
              0.4444444444444444,
              "#bd3786"
             ],
             [
              0.5555555555555556,
              "#d8576b"
             ],
             [
              0.6666666666666666,
              "#ed7953"
             ],
             [
              0.7777777777777778,
              "#fb9f3a"
             ],
             [
              0.8888888888888888,
              "#fdca26"
             ],
             [
              1,
              "#f0f921"
             ]
            ],
            "type": "contour"
           }
          ],
          "contourcarpet": [
           {
            "colorbar": {
             "outlinewidth": 0,
             "ticks": ""
            },
            "type": "contourcarpet"
           }
          ],
          "heatmap": [
           {
            "colorbar": {
             "outlinewidth": 0,
             "ticks": ""
            },
            "colorscale": [
             [
              0,
              "#0d0887"
             ],
             [
              0.1111111111111111,
              "#46039f"
             ],
             [
              0.2222222222222222,
              "#7201a8"
             ],
             [
              0.3333333333333333,
              "#9c179e"
             ],
             [
              0.4444444444444444,
              "#bd3786"
             ],
             [
              0.5555555555555556,
              "#d8576b"
             ],
             [
              0.6666666666666666,
              "#ed7953"
             ],
             [
              0.7777777777777778,
              "#fb9f3a"
             ],
             [
              0.8888888888888888,
              "#fdca26"
             ],
             [
              1,
              "#f0f921"
             ]
            ],
            "type": "heatmap"
           }
          ],
          "histogram": [
           {
            "marker": {
             "pattern": {
              "fillmode": "overlay",
              "size": 10,
              "solidity": 0.2
             }
            },
            "type": "histogram"
           }
          ],
          "histogram2d": [
           {
            "colorbar": {
             "outlinewidth": 0,
             "ticks": ""
            },
            "colorscale": [
             [
              0,
              "#0d0887"
             ],
             [
              0.1111111111111111,
              "#46039f"
             ],
             [
              0.2222222222222222,
              "#7201a8"
             ],
             [
              0.3333333333333333,
              "#9c179e"
             ],
             [
              0.4444444444444444,
              "#bd3786"
             ],
             [
              0.5555555555555556,
              "#d8576b"
             ],
             [
              0.6666666666666666,
              "#ed7953"
             ],
             [
              0.7777777777777778,
              "#fb9f3a"
             ],
             [
              0.8888888888888888,
              "#fdca26"
             ],
             [
              1,
              "#f0f921"
             ]
            ],
            "type": "histogram2d"
           }
          ],
          "histogram2dcontour": [
           {
            "colorbar": {
             "outlinewidth": 0,
             "ticks": ""
            },
            "colorscale": [
             [
              0,
              "#0d0887"
             ],
             [
              0.1111111111111111,
              "#46039f"
             ],
             [
              0.2222222222222222,
              "#7201a8"
             ],
             [
              0.3333333333333333,
              "#9c179e"
             ],
             [
              0.4444444444444444,
              "#bd3786"
             ],
             [
              0.5555555555555556,
              "#d8576b"
             ],
             [
              0.6666666666666666,
              "#ed7953"
             ],
             [
              0.7777777777777778,
              "#fb9f3a"
             ],
             [
              0.8888888888888888,
              "#fdca26"
             ],
             [
              1,
              "#f0f921"
             ]
            ],
            "type": "histogram2dcontour"
           }
          ],
          "mesh3d": [
           {
            "colorbar": {
             "outlinewidth": 0,
             "ticks": ""
            },
            "type": "mesh3d"
           }
          ],
          "parcoords": [
           {
            "line": {
             "colorbar": {
              "outlinewidth": 0,
              "ticks": ""
             }
            },
            "type": "parcoords"
           }
          ],
          "pie": [
           {
            "automargin": true,
            "type": "pie"
           }
          ],
          "scatter": [
           {
            "fillpattern": {
             "fillmode": "overlay",
             "size": 10,
             "solidity": 0.2
            },
            "type": "scatter"
           }
          ],
          "scatter3d": [
           {
            "line": {
             "colorbar": {
              "outlinewidth": 0,
              "ticks": ""
             }
            },
            "marker": {
             "colorbar": {
              "outlinewidth": 0,
              "ticks": ""
             }
            },
            "type": "scatter3d"
           }
          ],
          "scattercarpet": [
           {
            "marker": {
             "colorbar": {
              "outlinewidth": 0,
              "ticks": ""
             }
            },
            "type": "scattercarpet"
           }
          ],
          "scattergeo": [
           {
            "marker": {
             "colorbar": {
              "outlinewidth": 0,
              "ticks": ""
             }
            },
            "type": "scattergeo"
           }
          ],
          "scattergl": [
           {
            "marker": {
             "colorbar": {
              "outlinewidth": 0,
              "ticks": ""
             }
            },
            "type": "scattergl"
           }
          ],
          "scattermap": [
           {
            "marker": {
             "colorbar": {
              "outlinewidth": 0,
              "ticks": ""
             }
            },
            "type": "scattermap"
           }
          ],
          "scattermapbox": [
           {
            "marker": {
             "colorbar": {
              "outlinewidth": 0,
              "ticks": ""
             }
            },
            "type": "scattermapbox"
           }
          ],
          "scatterpolar": [
           {
            "marker": {
             "colorbar": {
              "outlinewidth": 0,
              "ticks": ""
             }
            },
            "type": "scatterpolar"
           }
          ],
          "scatterpolargl": [
           {
            "marker": {
             "colorbar": {
              "outlinewidth": 0,
              "ticks": ""
             }
            },
            "type": "scatterpolargl"
           }
          ],
          "scatterternary": [
           {
            "marker": {
             "colorbar": {
              "outlinewidth": 0,
              "ticks": ""
             }
            },
            "type": "scatterternary"
           }
          ],
          "surface": [
           {
            "colorbar": {
             "outlinewidth": 0,
             "ticks": ""
            },
            "colorscale": [
             [
              0,
              "#0d0887"
             ],
             [
              0.1111111111111111,
              "#46039f"
             ],
             [
              0.2222222222222222,
              "#7201a8"
             ],
             [
              0.3333333333333333,
              "#9c179e"
             ],
             [
              0.4444444444444444,
              "#bd3786"
             ],
             [
              0.5555555555555556,
              "#d8576b"
             ],
             [
              0.6666666666666666,
              "#ed7953"
             ],
             [
              0.7777777777777778,
              "#fb9f3a"
             ],
             [
              0.8888888888888888,
              "#fdca26"
             ],
             [
              1,
              "#f0f921"
             ]
            ],
            "type": "surface"
           }
          ],
          "table": [
           {
            "cells": {
             "fill": {
              "color": "#EBF0F8"
             },
             "line": {
              "color": "white"
             }
            },
            "header": {
             "fill": {
              "color": "#C8D4E3"
             },
             "line": {
              "color": "white"
             }
            },
            "type": "table"
           }
          ]
         },
         "layout": {
          "annotationdefaults": {
           "arrowcolor": "#2a3f5f",
           "arrowhead": 0,
           "arrowwidth": 1
          },
          "autotypenumbers": "strict",
          "coloraxis": {
           "colorbar": {
            "outlinewidth": 0,
            "ticks": ""
           }
          },
          "colorscale": {
           "diverging": [
            [
             0,
             "#8e0152"
            ],
            [
             0.1,
             "#c51b7d"
            ],
            [
             0.2,
             "#de77ae"
            ],
            [
             0.3,
             "#f1b6da"
            ],
            [
             0.4,
             "#fde0ef"
            ],
            [
             0.5,
             "#f7f7f7"
            ],
            [
             0.6,
             "#e6f5d0"
            ],
            [
             0.7,
             "#b8e186"
            ],
            [
             0.8,
             "#7fbc41"
            ],
            [
             0.9,
             "#4d9221"
            ],
            [
             1,
             "#276419"
            ]
           ],
           "sequential": [
            [
             0,
             "#0d0887"
            ],
            [
             0.1111111111111111,
             "#46039f"
            ],
            [
             0.2222222222222222,
             "#7201a8"
            ],
            [
             0.3333333333333333,
             "#9c179e"
            ],
            [
             0.4444444444444444,
             "#bd3786"
            ],
            [
             0.5555555555555556,
             "#d8576b"
            ],
            [
             0.6666666666666666,
             "#ed7953"
            ],
            [
             0.7777777777777778,
             "#fb9f3a"
            ],
            [
             0.8888888888888888,
             "#fdca26"
            ],
            [
             1,
             "#f0f921"
            ]
           ],
           "sequentialminus": [
            [
             0,
             "#0d0887"
            ],
            [
             0.1111111111111111,
             "#46039f"
            ],
            [
             0.2222222222222222,
             "#7201a8"
            ],
            [
             0.3333333333333333,
             "#9c179e"
            ],
            [
             0.4444444444444444,
             "#bd3786"
            ],
            [
             0.5555555555555556,
             "#d8576b"
            ],
            [
             0.6666666666666666,
             "#ed7953"
            ],
            [
             0.7777777777777778,
             "#fb9f3a"
            ],
            [
             0.8888888888888888,
             "#fdca26"
            ],
            [
             1,
             "#f0f921"
            ]
           ]
          },
          "colorway": [
           "#636efa",
           "#EF553B",
           "#00cc96",
           "#ab63fa",
           "#FFA15A",
           "#19d3f3",
           "#FF6692",
           "#B6E880",
           "#FF97FF",
           "#FECB52"
          ],
          "font": {
           "color": "#2a3f5f"
          },
          "geo": {
           "bgcolor": "white",
           "lakecolor": "white",
           "landcolor": "#E5ECF6",
           "showlakes": true,
           "showland": true,
           "subunitcolor": "white"
          },
          "hoverlabel": {
           "align": "left"
          },
          "hovermode": "closest",
          "mapbox": {
           "style": "light"
          },
          "paper_bgcolor": "white",
          "plot_bgcolor": "#E5ECF6",
          "polar": {
           "angularaxis": {
            "gridcolor": "white",
            "linecolor": "white",
            "ticks": ""
           },
           "bgcolor": "#E5ECF6",
           "radialaxis": {
            "gridcolor": "white",
            "linecolor": "white",
            "ticks": ""
           }
          },
          "scene": {
           "xaxis": {
            "backgroundcolor": "#E5ECF6",
            "gridcolor": "white",
            "gridwidth": 2,
            "linecolor": "white",
            "showbackground": true,
            "ticks": "",
            "zerolinecolor": "white"
           },
           "yaxis": {
            "backgroundcolor": "#E5ECF6",
            "gridcolor": "white",
            "gridwidth": 2,
            "linecolor": "white",
            "showbackground": true,
            "ticks": "",
            "zerolinecolor": "white"
           },
           "zaxis": {
            "backgroundcolor": "#E5ECF6",
            "gridcolor": "white",
            "gridwidth": 2,
            "linecolor": "white",
            "showbackground": true,
            "ticks": "",
            "zerolinecolor": "white"
           }
          },
          "shapedefaults": {
           "line": {
            "color": "#2a3f5f"
           }
          },
          "ternary": {
           "aaxis": {
            "gridcolor": "white",
            "linecolor": "white",
            "ticks": ""
           },
           "baxis": {
            "gridcolor": "white",
            "linecolor": "white",
            "ticks": ""
           },
           "bgcolor": "#E5ECF6",
           "caxis": {
            "gridcolor": "white",
            "linecolor": "white",
            "ticks": ""
           }
          },
          "title": {
           "x": 0.05
          },
          "xaxis": {
           "automargin": true,
           "gridcolor": "white",
           "linecolor": "white",
           "ticks": "",
           "title": {
            "standoff": 15
           },
           "zerolinecolor": "white",
           "zerolinewidth": 2
          },
          "yaxis": {
           "automargin": true,
           "gridcolor": "white",
           "linecolor": "white",
           "ticks": "",
           "title": {
            "standoff": 15
           },
           "zerolinecolor": "white",
           "zerolinewidth": 2
          }
         }
        },
        "title": {
         "text": "Churn Distribution Per Contract "
        },
        "xaxis": {
         "anchor": "y",
         "domain": [
          0,
          1
         ],
         "title": {
          "text": "Contract"
         }
        },
        "yaxis": {
         "anchor": "x",
         "domain": [
          0,
          1
         ],
         "title": {
          "text": "percentage"
         }
        }
       }
      }
     },
     "metadata": {},
     "output_type": "display_data"
    }
   ],
   "source": [
    "fig = px.bar(\n",
    "    telecom_df_Churn_Contract,\n",
    "    x = 'Contract',\n",
    "    y = 'percentage',\n",
    "    color = 'Churn',\n",
    "    title='Churn Distribution Per Contract ',\n",
    "    barmode='group',\n",
    "    color_discrete_sequence=px.colors.sequential.RdBu,\n",
    "    text='percentage'\n",
    ")\n",
    "fig.update_traces(texttemplate = '%{text:.2f}%')\n",
    "fig.show()\n",
    "fig.write_image(os.path.join(results_dir, 'Churn_distribution_by_Contract_bar_plot.jpg'))\n",
    "fig.write_image(os.path.join(results_dir, 'Churn_distribution_by_Contract_bar_plot.png'))\n",
    "html_str = fig.to_html()\n",
    "\n",
    "with open(os.path.join(results_dir, 'Churn_distribution_by_Contract_bar_plot.html'), 'w', encoding='utf-8') as f:\n",
    "    f.write(html_str)"
   ]
  },
  {
   "cell_type": "markdown",
   "id": "93375196",
   "metadata": {},
   "source": [
    "## Tech_Support and gender"
   ]
  },
  {
   "cell_type": "code",
   "execution_count": 37,
   "id": "5fa3daba",
   "metadata": {},
   "outputs": [
    {
     "data": {
      "text/html": [
       "<div>\n",
       "<style scoped>\n",
       "    .dataframe tbody tr th:only-of-type {\n",
       "        vertical-align: middle;\n",
       "    }\n",
       "\n",
       "    .dataframe tbody tr th {\n",
       "        vertical-align: top;\n",
       "    }\n",
       "\n",
       "    .dataframe thead th {\n",
       "        text-align: right;\n",
       "    }\n",
       "</style>\n",
       "<table border=\"1\" class=\"dataframe\">\n",
       "  <thead>\n",
       "    <tr style=\"text-align: right;\">\n",
       "      <th></th>\n",
       "      <th>gender</th>\n",
       "      <th>Tech_Support</th>\n",
       "      <th>Churn</th>\n",
       "      <th>total</th>\n",
       "    </tr>\n",
       "  </thead>\n",
       "  <tbody>\n",
       "    <tr>\n",
       "      <th>6</th>\n",
       "      <td>Male</td>\n",
       "      <td>No</td>\n",
       "      <td>No</td>\n",
       "      <td>1031</td>\n",
       "    </tr>\n",
       "    <tr>\n",
       "      <th>0</th>\n",
       "      <td>Female</td>\n",
       "      <td>No</td>\n",
       "      <td>No</td>\n",
       "      <td>996</td>\n",
       "    </tr>\n",
       "    <tr>\n",
       "      <th>10</th>\n",
       "      <td>Male</td>\n",
       "      <td>Yes</td>\n",
       "      <td>No</td>\n",
       "      <td>872</td>\n",
       "    </tr>\n",
       "    <tr>\n",
       "      <th>4</th>\n",
       "      <td>Female</td>\n",
       "      <td>Yes</td>\n",
       "      <td>No</td>\n",
       "      <td>862</td>\n",
       "    </tr>\n",
       "    <tr>\n",
       "      <th>7</th>\n",
       "      <td>Male</td>\n",
       "      <td>No</td>\n",
       "      <td>Yes</td>\n",
       "      <td>728</td>\n",
       "    </tr>\n",
       "    <tr>\n",
       "      <th>8</th>\n",
       "      <td>Male</td>\n",
       "      <td>No internet service</td>\n",
       "      <td>No</td>\n",
       "      <td>722</td>\n",
       "    </tr>\n",
       "    <tr>\n",
       "      <th>1</th>\n",
       "      <td>Female</td>\n",
       "      <td>No</td>\n",
       "      <td>Yes</td>\n",
       "      <td>718</td>\n",
       "    </tr>\n",
       "    <tr>\n",
       "      <th>2</th>\n",
       "      <td>Female</td>\n",
       "      <td>No internet service</td>\n",
       "      <td>No</td>\n",
       "      <td>691</td>\n",
       "    </tr>\n",
       "    <tr>\n",
       "      <th>5</th>\n",
       "      <td>Female</td>\n",
       "      <td>Yes</td>\n",
       "      <td>Yes</td>\n",
       "      <td>165</td>\n",
       "    </tr>\n",
       "    <tr>\n",
       "      <th>11</th>\n",
       "      <td>Male</td>\n",
       "      <td>Yes</td>\n",
       "      <td>Yes</td>\n",
       "      <td>145</td>\n",
       "    </tr>\n",
       "    <tr>\n",
       "      <th>9</th>\n",
       "      <td>Male</td>\n",
       "      <td>No internet service</td>\n",
       "      <td>Yes</td>\n",
       "      <td>57</td>\n",
       "    </tr>\n",
       "    <tr>\n",
       "      <th>3</th>\n",
       "      <td>Female</td>\n",
       "      <td>No internet service</td>\n",
       "      <td>Yes</td>\n",
       "      <td>56</td>\n",
       "    </tr>\n",
       "  </tbody>\n",
       "</table>\n",
       "</div>"
      ],
      "text/plain": [
       "    gender         Tech_Support Churn  total\n",
       "6     Male                   No    No   1031\n",
       "0   Female                   No    No    996\n",
       "10    Male                  Yes    No    872\n",
       "4   Female                  Yes    No    862\n",
       "7     Male                   No   Yes    728\n",
       "8     Male  No internet service    No    722\n",
       "1   Female                   No   Yes    718\n",
       "2   Female  No internet service    No    691\n",
       "5   Female                  Yes   Yes    165\n",
       "11    Male                  Yes   Yes    145\n",
       "9     Male  No internet service   Yes     57\n",
       "3   Female  No internet service   Yes     56"
      ]
     },
     "execution_count": 37,
     "metadata": {},
     "output_type": "execute_result"
    }
   ],
   "source": [
    "telecom_df_Churn_gen_Tech = (telecom_df.groupby(['gender', 'Tech_Support', 'Churn'])\n",
    "                          .size().reset_index(name='total').sort_values('total', ascending = False))\n",
    "telecom_df_Churn_gen_Tech"
   ]
  },
  {
   "cell_type": "code",
   "execution_count": 42,
   "id": "ca41e08d",
   "metadata": {},
   "outputs": [
    {
     "data": {
      "text/html": [
       "<div>\n",
       "<style scoped>\n",
       "    .dataframe tbody tr th:only-of-type {\n",
       "        vertical-align: middle;\n",
       "    }\n",
       "\n",
       "    .dataframe tbody tr th {\n",
       "        vertical-align: top;\n",
       "    }\n",
       "\n",
       "    .dataframe thead th {\n",
       "        text-align: right;\n",
       "    }\n",
       "</style>\n",
       "<table border=\"1\" class=\"dataframe\">\n",
       "  <thead>\n",
       "    <tr style=\"text-align: right;\">\n",
       "      <th></th>\n",
       "      <th>gender</th>\n",
       "      <th>Tech_Support</th>\n",
       "      <th>Churn</th>\n",
       "      <th>total</th>\n",
       "      <th>edu_occ</th>\n",
       "      <th>gen_Tech</th>\n",
       "    </tr>\n",
       "  </thead>\n",
       "  <tbody>\n",
       "    <tr>\n",
       "      <th>6</th>\n",
       "      <td>Male</td>\n",
       "      <td>No</td>\n",
       "      <td>No</td>\n",
       "      <td>1031</td>\n",
       "      <td>Male | No</td>\n",
       "      <td>Male | No</td>\n",
       "    </tr>\n",
       "    <tr>\n",
       "      <th>0</th>\n",
       "      <td>Female</td>\n",
       "      <td>No</td>\n",
       "      <td>No</td>\n",
       "      <td>996</td>\n",
       "      <td>Female | No</td>\n",
       "      <td>Female | No</td>\n",
       "    </tr>\n",
       "    <tr>\n",
       "      <th>10</th>\n",
       "      <td>Male</td>\n",
       "      <td>Yes</td>\n",
       "      <td>No</td>\n",
       "      <td>872</td>\n",
       "      <td>Male | Yes</td>\n",
       "      <td>Male | Yes</td>\n",
       "    </tr>\n",
       "    <tr>\n",
       "      <th>4</th>\n",
       "      <td>Female</td>\n",
       "      <td>Yes</td>\n",
       "      <td>No</td>\n",
       "      <td>862</td>\n",
       "      <td>Female | Yes</td>\n",
       "      <td>Female | Yes</td>\n",
       "    </tr>\n",
       "    <tr>\n",
       "      <th>7</th>\n",
       "      <td>Male</td>\n",
       "      <td>No</td>\n",
       "      <td>Yes</td>\n",
       "      <td>728</td>\n",
       "      <td>Male | No</td>\n",
       "      <td>Male | No</td>\n",
       "    </tr>\n",
       "    <tr>\n",
       "      <th>8</th>\n",
       "      <td>Male</td>\n",
       "      <td>No internet service</td>\n",
       "      <td>No</td>\n",
       "      <td>722</td>\n",
       "      <td>Male | No internet service</td>\n",
       "      <td>Male | No internet service</td>\n",
       "    </tr>\n",
       "    <tr>\n",
       "      <th>1</th>\n",
       "      <td>Female</td>\n",
       "      <td>No</td>\n",
       "      <td>Yes</td>\n",
       "      <td>718</td>\n",
       "      <td>Female | No</td>\n",
       "      <td>Female | No</td>\n",
       "    </tr>\n",
       "    <tr>\n",
       "      <th>2</th>\n",
       "      <td>Female</td>\n",
       "      <td>No internet service</td>\n",
       "      <td>No</td>\n",
       "      <td>691</td>\n",
       "      <td>Female | No internet service</td>\n",
       "      <td>Female | No internet service</td>\n",
       "    </tr>\n",
       "    <tr>\n",
       "      <th>5</th>\n",
       "      <td>Female</td>\n",
       "      <td>Yes</td>\n",
       "      <td>Yes</td>\n",
       "      <td>165</td>\n",
       "      <td>Female | Yes</td>\n",
       "      <td>Female | Yes</td>\n",
       "    </tr>\n",
       "    <tr>\n",
       "      <th>11</th>\n",
       "      <td>Male</td>\n",
       "      <td>Yes</td>\n",
       "      <td>Yes</td>\n",
       "      <td>145</td>\n",
       "      <td>Male | Yes</td>\n",
       "      <td>Male | Yes</td>\n",
       "    </tr>\n",
       "    <tr>\n",
       "      <th>9</th>\n",
       "      <td>Male</td>\n",
       "      <td>No internet service</td>\n",
       "      <td>Yes</td>\n",
       "      <td>57</td>\n",
       "      <td>Male | No internet service</td>\n",
       "      <td>Male | No internet service</td>\n",
       "    </tr>\n",
       "    <tr>\n",
       "      <th>3</th>\n",
       "      <td>Female</td>\n",
       "      <td>No internet service</td>\n",
       "      <td>Yes</td>\n",
       "      <td>56</td>\n",
       "      <td>Female | No internet service</td>\n",
       "      <td>Female | No internet service</td>\n",
       "    </tr>\n",
       "  </tbody>\n",
       "</table>\n",
       "</div>"
      ],
      "text/plain": [
       "    gender         Tech_Support Churn  total                       edu_occ  \\\n",
       "6     Male                   No    No   1031                     Male | No   \n",
       "0   Female                   No    No    996                   Female | No   \n",
       "10    Male                  Yes    No    872                    Male | Yes   \n",
       "4   Female                  Yes    No    862                  Female | Yes   \n",
       "7     Male                   No   Yes    728                     Male | No   \n",
       "8     Male  No internet service    No    722    Male | No internet service   \n",
       "1   Female                   No   Yes    718                   Female | No   \n",
       "2   Female  No internet service    No    691  Female | No internet service   \n",
       "5   Female                  Yes   Yes    165                  Female | Yes   \n",
       "11    Male                  Yes   Yes    145                    Male | Yes   \n",
       "9     Male  No internet service   Yes     57    Male | No internet service   \n",
       "3   Female  No internet service   Yes     56  Female | No internet service   \n",
       "\n",
       "                        gen_Tech  \n",
       "6                      Male | No  \n",
       "0                    Female | No  \n",
       "10                    Male | Yes  \n",
       "4                   Female | Yes  \n",
       "7                      Male | No  \n",
       "8     Male | No internet service  \n",
       "1                    Female | No  \n",
       "2   Female | No internet service  \n",
       "5                   Female | Yes  \n",
       "11                    Male | Yes  \n",
       "9     Male | No internet service  \n",
       "3   Female | No internet service  "
      ]
     },
     "execution_count": 42,
     "metadata": {},
     "output_type": "execute_result"
    }
   ],
   "source": [
    "telecom_df_Churn_gen_Tech['gen_Tech'] = (telecom_df_Churn_gen_Tech['gender'] + \" | \"\n",
    "                                     + telecom_df_Churn_gen_Tech['Tech_Support'])\n",
    "telecom_df_Churn_gen_Tech"
   ]
  },
  {
   "cell_type": "code",
   "execution_count": 43,
   "id": "5cbd51de",
   "metadata": {},
   "outputs": [
    {
     "data": {
      "application/vnd.plotly.v1+json": {
       "config": {
        "plotlyServerURL": "https://plot.ly"
       },
       "data": [
        {
         "hovertemplate": "Churn=No<br>total=%{text}<br>gen_Tech=%{y}<extra></extra>",
         "legendgroup": "No",
         "marker": {
          "color": "rgb(103,0,31)",
          "pattern": {
           "shape": ""
          }
         },
         "name": "No",
         "orientation": "h",
         "showlegend": true,
         "text": {
          "bdata": "AAAAAAAckEAAAAAAACCPQAAAAAAAQItAAAAAAADwikAAAAAAAJCGQAAAAAAAmIVA",
          "dtype": "f8"
         },
         "textposition": "inside",
         "type": "bar",
         "x": {
          "bdata": "BwTkA2gDXgPSArMC",
          "dtype": "i2"
         },
         "xaxis": "x",
         "y": [
          "Male | No",
          "Female | No",
          "Male | Yes",
          "Female | Yes",
          "Male | No internet service",
          "Female | No internet service"
         ],
         "yaxis": "y"
        },
        {
         "hovertemplate": "Churn=Yes<br>total=%{text}<br>gen_Tech=%{y}<extra></extra>",
         "legendgroup": "Yes",
         "marker": {
          "color": "rgb(178,24,43)",
          "pattern": {
           "shape": ""
          }
         },
         "name": "Yes",
         "orientation": "h",
         "showlegend": true,
         "text": {
          "bdata": "AAAAAADAhkAAAAAAAHCGQAAAAAAAoGRAAAAAAAAgYkA=",
          "dtype": "f8"
         },
         "textposition": "inside",
         "type": "bar",
         "x": {
          "bdata": "2ALOAqUAkQA=",
          "dtype": "i2"
         },
         "xaxis": "x",
         "y": [
          "Male | No",
          "Female | No",
          "Female | Yes",
          "Male | Yes"
         ],
         "yaxis": "y"
        }
       ],
       "layout": {
        "barmode": "relative",
        "height": 700,
        "legend": {
         "title": {
          "text": "Churn Level"
         },
         "tracegroupgap": 0
        },
        "margin": {
         "b": 50,
         "l": 150,
         "r": 50,
         "t": 50
        },
        "template": {
         "data": {
          "pie": [
           {
            "automargin": true,
            "type": "pie"
           }
          ],
          "scatter": [
           {
            "line": {
             "width": 3
            },
            "marker": {
             "size": 9
            },
            "type": "scatter"
           }
          ],
          "scatter3d": [
           {
            "line": {
             "width": 3
            },
            "marker": {
             "size": 9
            },
            "type": "scatter3d"
           }
          ],
          "scattergeo": [
           {
            "line": {
             "width": 3
            },
            "marker": {
             "size": 9
            },
            "type": "scattergeo"
           }
          ],
          "scattergl": [
           {
            "line": {
             "width": 3
            },
            "marker": {
             "size": 9
            },
            "type": "scattergl"
           }
          ],
          "scatterpolar": [
           {
            "line": {
             "width": 3
            },
            "marker": {
             "size": 9
            },
            "type": "scatterpolar"
           }
          ],
          "scatterpolargl": [
           {
            "line": {
             "width": 3
            },
            "marker": {
             "size": 9
            },
            "type": "scatterpolargl"
           }
          ],
          "scatterternary": [
           {
            "line": {
             "width": 3
            },
            "marker": {
             "size": 9
            },
            "type": "scatterternary"
           }
          ],
          "table": [
           {
            "cells": {
             "height": 30
            },
            "header": {
             "height": 36
            },
            "type": "table"
           }
          ]
         },
         "layout": {
          "font": {
           "size": 18
          },
          "xaxis": {
           "title": {
            "standoff": 15
           }
          },
          "yaxis": {
           "title": {
            "standoff": 15
           }
          }
         }
        },
        "title": {
         "text": "Top 10 Gender and Tech_Support Combinations by Churn Level"
        },
        "width": 1100,
        "xaxis": {
         "anchor": "y",
         "domain": [
          0,
          1
         ],
         "title": {
          "text": "Number of Individuals"
         }
        },
        "yaxis": {
         "anchor": "x",
         "domain": [
          0,
          1
         ],
         "title": {
          "text": "Gender | Tech_Support"
         }
        }
       }
      }
     },
     "metadata": {},
     "output_type": "display_data"
    }
   ],
   "source": [
    "num = 10\n",
    "\n",
    "fig = px.bar(\n",
    "    telecom_df_Churn_gen_Tech.head(num),\n",
    "    x='total',\n",
    "    y='gen_Tech',\n",
    "    color='Churn',\n",
    "    orientation='h',\n",
    "    title=f'Top {num} Gender and Tech_Support Combinations by Churn Level',\n",
    "    height=700,\n",
    "    width=1100,\n",
    "    color_discrete_sequence=px.colors.sequential.RdBu,\n",
    "    text='total'\n",
    ")\n",
    "\n",
    "fig.update_layout(\n",
    "    template=\"presentation\",\n",
    "    xaxis_title='Number of Individuals',\n",
    "    yaxis_title='Gender | Tech_Support',\n",
    "    legend_title=dict(text='Churn Level'),\n",
    "    margin=dict(l=150, r=50, t=50, b=50)\n",
    ")\n",
    "fig.update_traces(textposition='inside')\n",
    "\n",
    "fig.show()\n",
    "\n",
    "# Save to file\n",
    "fig.write_image(os.path.join(results_dir, 'Churn_distribution_by_gender_and_Tech_Support_bar_plot.jpg'))\n",
    "fig.write_image(os.path.join(results_dir, 'Churn_distribution_by_gender_and_Tech_Support_bar_plot.png'))\n",
    "with open(os.path.join(results_dir, 'Churn_distribution_by_gender_and_Tech_Support_bar_plot.html'), 'w', encoding='utf-8') as f:\n",
    "    f.write(fig.to_html())\n"
   ]
  },
  {
   "cell_type": "code",
   "execution_count": null,
   "id": "9a7d1b4f",
   "metadata": {},
   "outputs": [],
   "source": []
  }
 ],
 "metadata": {
  "kernelspec": {
   "display_name": "Python 3 (ipykernel)",
   "language": "python",
   "name": "python3"
  },
  "language_info": {
   "codemirror_mode": {
    "name": "ipython",
    "version": 3
   },
   "file_extension": ".py",
   "mimetype": "text/x-python",
   "name": "python",
   "nbconvert_exporter": "python",
   "pygments_lexer": "ipython3",
   "version": "3.11.5"
  }
 },
 "nbformat": 4,
 "nbformat_minor": 5
}
